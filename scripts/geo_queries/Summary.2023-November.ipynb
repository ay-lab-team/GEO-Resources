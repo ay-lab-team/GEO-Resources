{
 "cells": [
  {
   "cell_type": "code",
   "execution_count": 41,
   "id": "f63b3eb5",
   "metadata": {},
   "outputs": [],
   "source": [
    "import os\n",
    "import pandas as pd\n",
    "\n",
    "os.chdir('/mnt/BioAdHoc/Groups/vd-ay/jreyna/projects/GEO-Resources/')"
   ]
  },
  {
   "cell_type": "markdown",
   "id": "9b015a9b",
   "metadata": {},
   "source": [
    "## Loading the query data"
   ]
  },
  {
   "cell_type": "markdown",
   "id": "c9a21784",
   "metadata": {},
   "source": [
    "This data comes from a query containing data from October 16 2022 to October YY 2023"
   ]
  },
  {
   "cell_type": "code",
   "execution_count": 51,
   "id": "5f6ea527",
   "metadata": {},
   "outputs": [],
   "source": [
    "fn = 'results/sra/combined.meta.major_columns.renamed.tsv'\n",
    "data = pd.read_table(fn, header=None)\n",
    "data.columns = ['gse_id', 'gsm_id', 'srr_id', 'sample_info1', 'sample_info2', 'sample_info3', 'organism', 'num_reads']"
   ]
  },
  {
   "cell_type": "code",
   "execution_count": 52,
   "id": "b6576533",
   "metadata": {},
   "outputs": [
    {
     "data": {
      "text/html": [
       "<div>\n",
       "<style scoped>\n",
       "    .dataframe tbody tr th:only-of-type {\n",
       "        vertical-align: middle;\n",
       "    }\n",
       "\n",
       "    .dataframe tbody tr th {\n",
       "        vertical-align: top;\n",
       "    }\n",
       "\n",
       "    .dataframe thead th {\n",
       "        text-align: right;\n",
       "    }\n",
       "</style>\n",
       "<table border=\"1\" class=\"dataframe\">\n",
       "  <thead>\n",
       "    <tr style=\"text-align: right;\">\n",
       "      <th></th>\n",
       "      <th>gse_id</th>\n",
       "      <th>gsm_id</th>\n",
       "      <th>srr_id</th>\n",
       "      <th>sample_info1</th>\n",
       "      <th>sample_info2</th>\n",
       "      <th>sample_info3</th>\n",
       "      <th>organism</th>\n",
       "      <th>num_reads</th>\n",
       "    </tr>\n",
       "  </thead>\n",
       "  <tbody>\n",
       "    <tr>\n",
       "      <th>0</th>\n",
       "      <td>GSE205780</td>\n",
       "      <td>GSM6226299</td>\n",
       "      <td>SRR19601532</td>\n",
       "      <td>H3K27ac HiChIP of wt stembryos at 120h</td>\n",
       "      <td>stembryo</td>\n",
       "      <td>NaN</td>\n",
       "      <td>Mus musculus</td>\n",
       "      <td>278343742</td>\n",
       "    </tr>\n",
       "    <tr>\n",
       "      <th>1</th>\n",
       "      <td>GSE196922</td>\n",
       "      <td>GSM5904681</td>\n",
       "      <td>SRR18054275</td>\n",
       "      <td>HCT116 Control ATAC rep1</td>\n",
       "      <td>Large intestine; Colon</td>\n",
       "      <td>description</td>\n",
       "      <td>Homo sapiens</td>\n",
       "      <td>36290912</td>\n",
       "    </tr>\n",
       "    <tr>\n",
       "      <th>2</th>\n",
       "      <td>GSE196922</td>\n",
       "      <td>GSM5904682</td>\n",
       "      <td>SRR18054274</td>\n",
       "      <td>HCT116 Control ATAC rep2</td>\n",
       "      <td>Large intestine; Colon</td>\n",
       "      <td>description</td>\n",
       "      <td>Homo sapiens</td>\n",
       "      <td>36156478</td>\n",
       "    </tr>\n",
       "    <tr>\n",
       "      <th>3</th>\n",
       "      <td>GSE196922</td>\n",
       "      <td>GSM5904683</td>\n",
       "      <td>SRR18054273</td>\n",
       "      <td>HCT116 FOXD2 ATAC rep1</td>\n",
       "      <td>Large intestine; Colon</td>\n",
       "      <td>description</td>\n",
       "      <td>Homo sapiens</td>\n",
       "      <td>37230632</td>\n",
       "    </tr>\n",
       "    <tr>\n",
       "      <th>4</th>\n",
       "      <td>GSE196922</td>\n",
       "      <td>GSM5904684</td>\n",
       "      <td>SRR18054272</td>\n",
       "      <td>HCT116 FOXD2 ATAC rep2</td>\n",
       "      <td>Large intestine; Colon</td>\n",
       "      <td>description</td>\n",
       "      <td>Homo sapiens</td>\n",
       "      <td>37350234</td>\n",
       "    </tr>\n",
       "    <tr>\n",
       "      <th>...</th>\n",
       "      <td>...</td>\n",
       "      <td>...</td>\n",
       "      <td>...</td>\n",
       "      <td>...</td>\n",
       "      <td>...</td>\n",
       "      <td>...</td>\n",
       "      <td>...</td>\n",
       "      <td>...</td>\n",
       "    </tr>\n",
       "    <tr>\n",
       "      <th>4317</th>\n",
       "      <td>GSE227245</td>\n",
       "      <td>GSM7093768</td>\n",
       "      <td>SRR23851551</td>\n",
       "      <td>T47D E2 Rep2</td>\n",
       "      <td>T-47D</td>\n",
       "      <td>NaN</td>\n",
       "      <td>Homo sapiens</td>\n",
       "      <td>73525840</td>\n",
       "    </tr>\n",
       "    <tr>\n",
       "      <th>4318</th>\n",
       "      <td>GSE227245</td>\n",
       "      <td>GSM7093769</td>\n",
       "      <td>SRR23853107</td>\n",
       "      <td>Ishikawa scRNAseq, 0,2,4 and 8 hours of e2 tre...</td>\n",
       "      <td>Ishikawa</td>\n",
       "      <td>NaN</td>\n",
       "      <td>Homo sapiens</td>\n",
       "      <td>1745416626</td>\n",
       "    </tr>\n",
       "    <tr>\n",
       "      <th>4319</th>\n",
       "      <td>GSE227245</td>\n",
       "      <td>GSM7093770</td>\n",
       "      <td>SRR23853108</td>\n",
       "      <td>Ishikawa scRNAseq, 0,2,4 and 8 hours of e2 tre...</td>\n",
       "      <td>Ishikawa</td>\n",
       "      <td>NaN</td>\n",
       "      <td>Homo sapiens</td>\n",
       "      <td>177558440</td>\n",
       "    </tr>\n",
       "    <tr>\n",
       "      <th>4320</th>\n",
       "      <td>GSE227245</td>\n",
       "      <td>GSM7093771</td>\n",
       "      <td>SRR23853109</td>\n",
       "      <td>T-47D scRNAseq, 0,2,4 and 8 hours of e2 treatm...</td>\n",
       "      <td>T47D</td>\n",
       "      <td>NaN</td>\n",
       "      <td>Homo sapiens</td>\n",
       "      <td>1814539868</td>\n",
       "    </tr>\n",
       "    <tr>\n",
       "      <th>4321</th>\n",
       "      <td>GSE227245</td>\n",
       "      <td>GSM7093772</td>\n",
       "      <td>SRR23853110</td>\n",
       "      <td>T-47D scRNAseq, 0,2,4 and 8 hours of e2 treatm...</td>\n",
       "      <td>T47D</td>\n",
       "      <td>NaN</td>\n",
       "      <td>Homo sapiens</td>\n",
       "      <td>156687150</td>\n",
       "    </tr>\n",
       "  </tbody>\n",
       "</table>\n",
       "<p>4322 rows × 8 columns</p>\n",
       "</div>"
      ],
      "text/plain": [
       "         gse_id      gsm_id       srr_id  \\\n",
       "0     GSE205780  GSM6226299  SRR19601532   \n",
       "1     GSE196922  GSM5904681  SRR18054275   \n",
       "2     GSE196922  GSM5904682  SRR18054274   \n",
       "3     GSE196922  GSM5904683  SRR18054273   \n",
       "4     GSE196922  GSM5904684  SRR18054272   \n",
       "...         ...         ...          ...   \n",
       "4317  GSE227245  GSM7093768  SRR23851551   \n",
       "4318  GSE227245  GSM7093769  SRR23853107   \n",
       "4319  GSE227245  GSM7093770  SRR23853108   \n",
       "4320  GSE227245  GSM7093771  SRR23853109   \n",
       "4321  GSE227245  GSM7093772  SRR23853110   \n",
       "\n",
       "                                           sample_info1  \\\n",
       "0                H3K27ac HiChIP of wt stembryos at 120h   \n",
       "1                              HCT116 Control ATAC rep1   \n",
       "2                              HCT116 Control ATAC rep2   \n",
       "3                                HCT116 FOXD2 ATAC rep1   \n",
       "4                                HCT116 FOXD2 ATAC rep2   \n",
       "...                                                 ...   \n",
       "4317                                       T47D E2 Rep2   \n",
       "4318  Ishikawa scRNAseq, 0,2,4 and 8 hours of e2 tre...   \n",
       "4319  Ishikawa scRNAseq, 0,2,4 and 8 hours of e2 tre...   \n",
       "4320  T-47D scRNAseq, 0,2,4 and 8 hours of e2 treatm...   \n",
       "4321  T-47D scRNAseq, 0,2,4 and 8 hours of e2 treatm...   \n",
       "\n",
       "                sample_info2 sample_info3      organism   num_reads  \n",
       "0                   stembryo          NaN  Mus musculus   278343742  \n",
       "1     Large intestine; Colon  description  Homo sapiens    36290912  \n",
       "2     Large intestine; Colon  description  Homo sapiens    36156478  \n",
       "3     Large intestine; Colon  description  Homo sapiens    37230632  \n",
       "4     Large intestine; Colon  description  Homo sapiens    37350234  \n",
       "...                      ...          ...           ...         ...  \n",
       "4317                   T-47D          NaN  Homo sapiens    73525840  \n",
       "4318                Ishikawa          NaN  Homo sapiens  1745416626  \n",
       "4319                Ishikawa          NaN  Homo sapiens   177558440  \n",
       "4320                    T47D          NaN  Homo sapiens  1814539868  \n",
       "4321                    T47D          NaN  Homo sapiens   156687150  \n",
       "\n",
       "[4322 rows x 8 columns]"
      ]
     },
     "execution_count": 52,
     "metadata": {},
     "output_type": "execute_result"
    }
   ],
   "source": [
    "data"
   ]
  },
  {
   "cell_type": "code",
   "execution_count": 53,
   "id": "77e5930d",
   "metadata": {},
   "outputs": [
    {
     "data": {
      "text/plain": [
       "(4322, 8)"
      ]
     },
     "execution_count": 53,
     "metadata": {},
     "output_type": "execute_result"
    }
   ],
   "source": [
    "data.shape"
   ]
  },
  {
   "cell_type": "markdown",
   "id": "0f980a21",
   "metadata": {},
   "source": [
    "In total there are 4322 entries we have to sift through. I also want to know how many mention hichip at all. "
   ]
  },
  {
   "cell_type": "markdown",
   "id": "4ade9786",
   "metadata": {},
   "source": [
    "## Querying for hichip"
   ]
  },
  {
   "cell_type": "code",
   "execution_count": 54,
   "id": "7759c65c",
   "metadata": {},
   "outputs": [],
   "source": [
    "# querying the metadata for mention of hichip (case-insenstive)\n",
    "ss1 = data['sample_info1'].str.contains('hichip', case=False)\n",
    "ss2 = data['sample_info2'].str.contains('hichip', case=False)\n",
    "ss3 = data['sample_info3'].str.contains('hichip', case=False)\n",
    "ss4 = data['sample_info1'].str.contains('hi-chip', case=False)\n",
    "ss5 = data['sample_info2'].str.contains('hi-chip', case=False)\n",
    "ss6 = data['sample_info3'].str.contains('hi-chip', case=False)\n",
    "high_confidence_hichip = data.loc[ss1 | ss2 | ss3 | ss4 | ss5 | ss6]"
   ]
  },
  {
   "cell_type": "code",
   "execution_count": 55,
   "id": "5cd244e3",
   "metadata": {},
   "outputs": [
    {
     "data": {
      "text/plain": [
       "(706, 8)"
      ]
     },
     "execution_count": 55,
     "metadata": {},
     "output_type": "execute_result"
    }
   ],
   "source": [
    "high_confidence_hichip.shape"
   ]
  },
  {
   "cell_type": "markdown",
   "id": "68e64c6c",
   "metadata": {},
   "source": [
    "Out of the 4322, 706 mention hichip. We still have to go through the remaining 3616 but at least we have a rough estimate for the number of samples that we have to process. "
   ]
  },
  {
   "cell_type": "code",
   "execution_count": 56,
   "id": "dcb7cf6b",
   "metadata": {},
   "outputs": [
    {
     "data": {
      "text/plain": [
       "382"
      ]
     },
     "execution_count": 56,
     "metadata": {},
     "output_type": "execute_result"
    }
   ],
   "source": [
    "high_confidence_hichip.gsm_id.nunique()"
   ]
  },
  {
   "cell_type": "code",
   "execution_count": null,
   "id": "608cc7ac",
   "metadata": {},
   "outputs": [],
   "source": []
  },
  {
   "cell_type": "code",
   "execution_count": null,
   "id": "8771a79e",
   "metadata": {},
   "outputs": [],
   "source": []
  },
  {
   "cell_type": "code",
   "execution_count": null,
   "id": "9cd34714",
   "metadata": {},
   "outputs": [],
   "source": []
  }
 ],
 "metadata": {
  "kernelspec": {
   "display_name": "(hichip-db)",
   "language": "python",
   "name": "hichip-db"
  },
  "language_info": {
   "codemirror_mode": {
    "name": "ipython",
    "version": 3
   },
   "file_extension": ".py",
   "mimetype": "text/x-python",
   "name": "python",
   "nbconvert_exporter": "python",
   "pygments_lexer": "ipython3",
   "version": "3.9.10"
  }
 },
 "nbformat": 4,
 "nbformat_minor": 5
}
