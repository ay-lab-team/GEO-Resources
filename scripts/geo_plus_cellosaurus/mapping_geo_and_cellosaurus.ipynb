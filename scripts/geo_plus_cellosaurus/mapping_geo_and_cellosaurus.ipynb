{
 "cells": [
  {
   "cell_type": "code",
   "execution_count": null,
   "metadata": {},
   "outputs": [],
   "source": [
    "import os \n",
    "import pandas as pd\n",
    "from IPython.display import display, HTML\n",
    "\n",
    "# set the output directory\n",
    "outdir = '../../results/geo_plus_cellosaurus/'\n",
    "os.makedirs(outdir, exist_ok=True)"
   ]
  },
  {
   "cell_type": "markdown",
   "metadata": {},
   "source": [
    "## Load tracker information"
   ]
  },
  {
   "cell_type": "code",
   "execution_count": null,
   "metadata": {},
   "outputs": [],
   "source": [
    "# load tracker information\n",
    "human_tracker = pd.read_excel('../../results/tracker/HiChIP-Tracker.xlsx', sheet_name='Human Tracker')\n",
    "mouse_tracker = pd.read_excel('../../results/tracker/HiChIP-Tracker.xlsx', sheet_name='Mouse Tracker')\n",
    "tracker = pd.concat([human_tracker, mouse_tracker], axis=0)\n",
    "\n",
    "# extract cellosaurus id and gsm id\n",
    "cello_to_gsm = tracker[['Cellosaurus ID', 'GSM ID']]\n",
    "cello_to_gsm = cello_to_gsm.drop_duplicates()\n",
    "cello_to_gsm = cello_to_gsm.loc[(~cello_to_gsm['Cellosaurus ID'].isna()) & \\\n",
    "                                (cello_to_gsm['Cellosaurus ID'] != 'Not Available')]\n",
    "cello_to_gsm.columns = ['cellosaurus_id', 'gsm_id']"
   ]
  },
  {
   "attachments": {},
   "cell_type": "markdown",
   "metadata": {},
   "source": [
    "## Load GEO information"
   ]
  },
  {
   "cell_type": "code",
   "execution_count": null,
   "metadata": {},
   "outputs": [],
   "source": [
    "# load geo metadata results\n",
    "geo = pd.read_table('../../results/geo_celltypes/geo.query.cell_type.2023_02_27.tsv')\n",
    "display(geo.shape)\n",
    "\n",
    "# add cellosaurus id to geo queries\n",
    "geo = geo.merge(cello_to_gsm, left_on='geo_id', right_on='gsm_id', how='left', indicator=True)\n",
    "display(geo.shape)\n",
    "\n",
    "# extract cell line and others\n",
    "geo_cell_lines = geo.loc[geo['_merge'] == 'both']\n",
    "geo_others = geo.loc[geo['_merge'] == 'left_only']\n",
    "\n",
    "display(geo_cell_lines.shape)\n",
    "display(geo_others.shape)"
   ]
  },
  {
   "attachments": {},
   "cell_type": "markdown",
   "metadata": {},
   "source": [
    "## Load Cellosaurus information"
   ]
  },
  {
   "cell_type": "code",
   "execution_count": null,
   "metadata": {},
   "outputs": [],
   "source": [
    "# load cellosaurus metadata\n",
    "cellosaurus = pd.read_table('../../results/cellosaurus/cellosaurus_metadata.tsv')\n",
    "cellosaurus.columns = ['id',\n",
    "                        'cell_line_name',\n",
    "                        'organ_andor_tissue',\n",
    "                        'cell_type',\n",
    "                        'disease',\n",
    "                        'sex',\n",
    "                        'age',\n",
    "                        'category',\n",
    "                        'species']\n",
    "cellosaurus.columns = 'cellosaurus_' + cellosaurus.columns\n",
    "cellosaurus = cellosaurus.loc[cellosaurus['cellosaurus_id'].str.startswith('CVCL')]"
   ]
  },
  {
   "attachments": {},
   "cell_type": "markdown",
   "metadata": {},
   "source": [
    "## Merge GEO and Cellosaurus cell line information"
   ]
  },
  {
   "attachments": {},
   "cell_type": "markdown",
   "metadata": {},
   "source": [
    "Some information will be replace with cellosaurus but not all. \n",
    "- Cellosaurus precidence\n",
    "  - name \n",
    "  - biomaterial\n",
    "  - tissue\n",
    "  - sex\n",
    "  - age\n",
    "  - cell type\n",
    "- GEO precidence\n",
    "  - disease\n",
    "  - organ"
   ]
  },
  {
   "cell_type": "code",
   "execution_count": null,
   "metadata": {},
   "outputs": [],
   "source": [
    "# merge geo and cellosaurus\n",
    "geo_cl_metadata = geo_cell_lines.merge(cellosaurus, on='cellosaurus_id', how='left')\n",
    "\n",
    "# Replace geo metadata with cellosaurus metadata\n",
    "geo_cl_metadata['name'] = geo_cl_metadata['cellosaurus_cell_line_name']\n",
    "geo_cl_metadata['biomaterial'] = 'Cell Line' # sometimes this was incorrectly labeled as 'Other'\n",
    "geo_cl_metadata['tissue'] = geo_cl_metadata['cellosaurus_organ_andor_tissue']\n",
    "geo_cl_metadata['sex'] = geo_cl_metadata['cellosaurus_sex']\n",
    "geo_cl_metadata['age'] = geo_cl_metadata['cellosaurus_age']\n",
    "\n",
    "# cell type data includes a check for 'Cell type not specified' \n",
    "# because some cell lines may have been defined within geo. \n",
    "def replace_celltype(sr):\n",
    "    if sr['cellosaurus_cell_type'] == 'Cell type not specified':\n",
    "        return sr['celltype']\n",
    "    else:\n",
    "        return sr['cellosaurus_cell_type']\n",
    "geo_cl_metadata['celltype'] = geo_cl_metadata.apply(replace_celltype, axis=1)\n",
    "\n",
    "# done with cellosaurus columns, dropping them\n",
    "geo_cl_metadata = geo_cl_metadata.iloc[:, (~geo_cl_metadata.columns.str.startswith('cellosaurus')) | \\\n",
    "                                        (geo_cl_metadata.columns.str.match('cellosaurus_id'))]"
   ]
  },
  {
   "cell_type": "code",
   "execution_count": null,
   "metadata": {},
   "outputs": [],
   "source": [
    "geo_cl_metadata.head()"
   ]
  },
  {
   "attachments": {},
   "cell_type": "markdown",
   "metadata": {},
   "source": [
    "## Generate the final metadata files"
   ]
  },
  {
   "cell_type": "code",
   "execution_count": null,
   "metadata": {},
   "outputs": [],
   "source": [
    "# concatenate the non- and cell line entries\n",
    "final_metadata = pd.concat([geo_others, geo_cl_metadata])\n",
    "\n",
    "# fix lowercase and unharmmonized sex information\n",
    "final_metadata.loc[:, 'sex'] = final_metadata['sex'].str.capitalize()\n",
    "final_metadata.loc[:, 'sex'] = final_metadata['sex'].replace({'Sex unspecified': 'Undetermined'})\n",
    "\n",
    "# Set default values for NaN values\n",
    "final_metadata.loc[final_metadata.disease.isna(), 'disease'] = 'N/A'\n",
    "final_metadata.loc[final_metadata.organ.isna(), 'organ'] = 'Undetermined'\n",
    "final_metadata.loc[final_metadata.tissue.isna(), 'tissue'] = 'Undetermined'\n",
    "final_metadata.loc[final_metadata.celltype.isna(), 'celltype'] = 'Undetermined'\n",
    "final_metadata.loc[(final_metadata.strain.isna()) & (final_metadata.organism == \"Homo sapiens\"), 'strain'] = 'N/A'\n",
    "final_metadata.loc[(final_metadata.strain.isna()) & (final_metadata.organism != \"Homo sapiens\"), 'strain'] = 'Undetermined'\n",
    "final_metadata.loc[final_metadata.sex.isna(), 'sex'] = 'Undetermined'\n",
    "final_metadata.loc[final_metadata.age.isna(), 'age'] = 'Undetermined'\n",
    "\n",
    "# # reset the index and use as an id for mapping\n",
    "# final_metadata.reset_index(drop=True, inplace=True)"
   ]
  },
  {
   "cell_type": "code",
   "execution_count": null,
   "metadata": {},
   "outputs": [],
   "source": [
    "final_metadata.shape"
   ]
  },
  {
   "cell_type": "code",
   "execution_count": null,
   "metadata": {},
   "outputs": [],
   "source": [
    "final_metadata"
   ]
  },
  {
   "attachments": {},
   "cell_type": "markdown",
   "metadata": {},
   "source": [
    "## Create the celltype insert table"
   ]
  },
  {
   "cell_type": "code",
   "execution_count": null,
   "metadata": {},
   "outputs": [],
   "source": [
    "# filter for celltype table column\n",
    "celltype_cols = ['name', 'organism', 'biomaterial',\n",
    "                 'disease', 'organ', 'tissue', 'celltype',\n",
    "                 'strain', 'sex', 'age', 'cellosaurus_id', 'geo_id']\n",
    "celltype_insert = final_metadata[celltype_cols] #.drop_duplicates()"
   ]
  },
  {
   "cell_type": "code",
   "execution_count": null,
   "metadata": {},
   "outputs": [],
   "source": [
    "celltype_insert.head()"
   ]
  },
  {
   "attachments": {},
   "cell_type": "markdown",
   "metadata": {},
   "source": [
    "#### Check the distribution of metadata values (per column)"
   ]
  },
  {
   "cell_type": "code",
   "execution_count": null,
   "metadata": {},
   "outputs": [],
   "source": [
    "check_cols = ['organism', 'biomaterial',\n",
    "                 'disease', 'organ', 'tissue', 'celltype',\n",
    "                 'strain', 'sex', 'age', 'cellosaurus_id']\n",
    "for col in check_cols:\n",
    "    display(HTML('<h1> {} </h1>'.format(col)))\n",
    "    display(celltype_insert[col].value_counts().to_frame())\n",
    "    display()"
   ]
  },
  {
   "cell_type": "code",
   "execution_count": null,
   "metadata": {},
   "outputs": [],
   "source": [
    "celltype_fn = os.path.join(outdir, 'celltype_insert.with_geo.tsv')\n",
    "celltype_insert.to_csv(celltype_fn, sep='\\t', index=False)"
   ]
  },
  {
   "attachments": {},
   "cell_type": "markdown",
   "metadata": {},
   "source": [
    "## Generate the celltype to hichip_sample insert table"
   ]
  },
  {
   "attachments": {},
   "cell_type": "markdown",
   "metadata": {},
   "source": [
    "Need a way to keep the GSM to celltype mapping. Created it, using a temporary id by resetting the index and \n",
    "saving this when deduplicating the celltype table.\n",
    "1) merge the celltype with hichip_sample_table using gsm_ids\n",
    "2) save the celltype and hichip_sample UUIDs only and upload with a link\n",
    "\n",
    "This work will have to be one within the loopcatalog repository: \n",
    "https://gitlab.lji.org/ay-lab-team/loopcatalog/-/tree/main/hichip_website/hichip_website/import_data/scripts\n"
   ]
  }
 ],
 "metadata": {
  "kernelspec": {
   "display_name": "Python 3",
   "language": "python",
   "name": "python3"
  },
  "language_info": {
   "codemirror_mode": {
    "name": "ipython",
    "version": 3
   },
   "file_extension": ".py",
   "mimetype": "text/x-python",
   "name": "python",
   "nbconvert_exporter": "python",
   "pygments_lexer": "ipython3",
   "version": "3.9.10"
  },
  "orig_nbformat": 4,
  "vscode": {
   "interpreter": {
    "hash": "e4d5a3cd1ee9e3d9504ccc063a13d7927237617d33144a8af360891249da3881"
   }
  }
 },
 "nbformat": 4,
 "nbformat_minor": 2
}
