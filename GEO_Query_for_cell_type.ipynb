{
 "cells": [
  {
   "cell_type": "code",
   "execution_count": 3,
   "id": "ee429c1c",
   "metadata": {},
   "outputs": [
    {
     "name": "stderr",
     "output_type": "stream",
     "text": [
      "2022-12-15 21:59:04 Zichens-MBP.attlocal.net metapub.config[63749] WARNING NCBI_API_KEY was not set.\n"
     ]
    }
   ],
   "source": [
    "import argparse\n",
    "from Bio import Entrez\n",
    "\n",
    "import os \n",
    "import warnings\n",
    "warnings.simplefilter(action='ignore', category=FutureWarning)\n",
    "import pandas as pd\n",
    "from datetime import date\n",
    "from datetime import datetime\n",
    "import numpy as np\n",
    "import re\n",
    "from metapub import FindIt\n",
    "from metapub.convert import pmid2doi\n",
    "from metapub.convert import doi2pmid\n",
    "from metapub import PubMedFetcher\n",
    "\n",
    "import xml.etree.ElementTree as ET\n",
    "import ssl\n",
    "\n",
    "import ssl\n",
    "ssl._create_default_https_context = ssl._create_unverified_context\n",
    "\n",
    "import argparse\n",
    "from Bio import Entrez\n",
    "\n",
    "ssl._create_default_https_context = ssl._create_unverified_context"
   ]
  },
  {
   "cell_type": "markdown",
   "id": "1ac51ef2",
   "metadata": {},
   "source": [
    "## Query the NCBI database"
   ]
  },
  {
   "cell_type": "code",
   "execution_count": 3,
   "id": "fbd0ff62",
   "metadata": {},
   "outputs": [],
   "source": [
    "# use one of the following search queries/filters\n",
    "# filters = \"HiChIP[All Fields] AND \\\"gse\\\"[Filter]\" # the whole notebook will take around 7 min to run\n",
    "# filters = \"HiChIP[All Fields] AND (\\\"gse\\\"[Filter] AND (\\\"Homo sapiens\\\"[Organism] OR \\\"Mus musculus\\\"[Organism]))\n",
    "# filters = \"HiChIP[All Fields] AND (\\\"Homo sapiens\\\"[Organism] AND \\\"gse\\\"[Filter])\"\n",
    "# filters = \"HiChIP[All Fields] AND (\\\"Homo sapiens\\\"[Organism] AND \\\"published last year\\\"[Filter]) AND \\\"gse\\\"[Filter]\" # 2 min\n",
    "# filters = \"HiChIP[All Fields] AND (\\\"Mus musculus\\\"[Organism] AND \\\"gse\\\"[Filter])\"\n",
    "\n",
    "filters = \"HiChIP[All Fields] AND (\\\"gse\\\"[Filter] AND (\\\"Homo sapiens\\\"[Organism] OR \\\"Mus musculus\\\"[Organism]))\"\n",
    "\n",
    "# set a dummy email \n",
    "Entrez.email = \"zjiang@lji.org\"\n",
    "\n",
    "# query the NCBI database \n",
    "search_result = Entrez.esearch(db=\"gds\", retmax=10000, term=filters)\n",
    "result = Entrez.read(search_result)\n",
    "\n",
    "# creating a regex to extract pubmed IDs\n",
    "PubMedIds_pattern = re.compile('[0123456789]+')"
   ]
  },
  {
   "cell_type": "code",
   "execution_count": 4,
   "id": "d53a4689",
   "metadata": {},
   "outputs": [
    {
     "ename": "KeyboardInterrupt",
     "evalue": "",
     "output_type": "error",
     "traceback": [
      "\u001b[0;31m---------------------------------------------------------------------------\u001b[0m",
      "\u001b[0;31mKeyboardInterrupt\u001b[0m                         Traceback (most recent call last)",
      "\u001b[0;32m/var/folders/jk/ltpq08_128l0byf2mw4yytv40000gn/T/ipykernel_63634/624997295.py\u001b[0m in \u001b[0;36m<module>\u001b[0;34m\u001b[0m\n\u001b[1;32m      2\u001b[0m \u001b[0mdictionary_lst\u001b[0m \u001b[0;34m=\u001b[0m \u001b[0;34m[\u001b[0m\u001b[0;34m]\u001b[0m\u001b[0;34m\u001b[0m\u001b[0;34m\u001b[0m\u001b[0m\n\u001b[1;32m      3\u001b[0m \u001b[0;32mfor\u001b[0m \u001b[0mId\u001b[0m \u001b[0;32min\u001b[0m \u001b[0mresult\u001b[0m\u001b[0;34m[\u001b[0m\u001b[0;34m\"IdList\"\u001b[0m\u001b[0;34m]\u001b[0m\u001b[0;34m:\u001b[0m\u001b[0;34m\u001b[0m\u001b[0;34m\u001b[0m\u001b[0m\n\u001b[0;32m----> 4\u001b[0;31m     \u001b[0mhandle\u001b[0m \u001b[0;34m=\u001b[0m \u001b[0mEntrez\u001b[0m\u001b[0;34m.\u001b[0m\u001b[0mesummary\u001b[0m\u001b[0;34m(\u001b[0m\u001b[0mdb\u001b[0m\u001b[0;34m=\u001b[0m\u001b[0;34m\"gds\"\u001b[0m\u001b[0;34m,\u001b[0m \u001b[0mid\u001b[0m\u001b[0;34m=\u001b[0m\u001b[0mId\u001b[0m\u001b[0;34m,\u001b[0m \u001b[0mretmode\u001b[0m\u001b[0;34m=\u001b[0m\u001b[0;34m\"xml\"\u001b[0m\u001b[0;34m)\u001b[0m \u001b[0;31m# get summary of this entry on GEO datasets\u001b[0m\u001b[0;34m\u001b[0m\u001b[0;34m\u001b[0m\u001b[0m\n\u001b[0m\u001b[1;32m      5\u001b[0m     \u001b[0mentry\u001b[0m \u001b[0;34m=\u001b[0m \u001b[0mEntrez\u001b[0m\u001b[0;34m.\u001b[0m\u001b[0mparse\u001b[0m\u001b[0;34m(\u001b[0m\u001b[0mhandle\u001b[0m\u001b[0;34m)\u001b[0m\u001b[0;34m\u001b[0m\u001b[0;34m\u001b[0m\u001b[0m\n\u001b[1;32m      6\u001b[0m     \u001b[0;32mfor\u001b[0m \u001b[0mcolumn\u001b[0m \u001b[0;32min\u001b[0m \u001b[0mentry\u001b[0m\u001b[0;34m:\u001b[0m\u001b[0;34m\u001b[0m\u001b[0;34m\u001b[0m\u001b[0m\n",
      "\u001b[0;32m~/miniconda3/lib/python3.9/site-packages/Bio/Entrez/__init__.py\u001b[0m in \u001b[0;36mesummary\u001b[0;34m(**keywds)\u001b[0m\n\u001b[1;32m    340\u001b[0m     \u001b[0mvariables\u001b[0m \u001b[0;34m=\u001b[0m \u001b[0;34m{\u001b[0m\u001b[0;34m}\u001b[0m\u001b[0;34m\u001b[0m\u001b[0;34m\u001b[0m\u001b[0m\n\u001b[1;32m    341\u001b[0m     \u001b[0mvariables\u001b[0m\u001b[0;34m.\u001b[0m\u001b[0mupdate\u001b[0m\u001b[0;34m(\u001b[0m\u001b[0mkeywds\u001b[0m\u001b[0;34m)\u001b[0m\u001b[0;34m\u001b[0m\u001b[0;34m\u001b[0m\u001b[0m\n\u001b[0;32m--> 342\u001b[0;31m     \u001b[0;32mreturn\u001b[0m \u001b[0m_open\u001b[0m\u001b[0;34m(\u001b[0m\u001b[0mcgi\u001b[0m\u001b[0;34m,\u001b[0m \u001b[0mvariables\u001b[0m\u001b[0;34m)\u001b[0m\u001b[0;34m\u001b[0m\u001b[0;34m\u001b[0m\u001b[0m\n\u001b[0m\u001b[1;32m    343\u001b[0m \u001b[0;34m\u001b[0m\u001b[0m\n\u001b[1;32m    344\u001b[0m \u001b[0;34m\u001b[0m\u001b[0m\n",
      "\u001b[0;32m~/miniconda3/lib/python3.9/site-packages/Bio/Entrez/__init__.py\u001b[0m in \u001b[0;36m_open\u001b[0;34m(cgi, params, post, ecitmatch)\u001b[0m\n\u001b[1;32m    604\u001b[0m                 \u001b[0mhandle\u001b[0m \u001b[0;34m=\u001b[0m \u001b[0murlopen\u001b[0m\u001b[0;34m(\u001b[0m\u001b[0mcgi\u001b[0m\u001b[0;34m,\u001b[0m \u001b[0mdata\u001b[0m\u001b[0;34m=\u001b[0m\u001b[0moptions\u001b[0m\u001b[0;34m.\u001b[0m\u001b[0mencode\u001b[0m\u001b[0;34m(\u001b[0m\u001b[0;34m\"utf8\"\u001b[0m\u001b[0;34m)\u001b[0m\u001b[0;34m)\u001b[0m\u001b[0;34m\u001b[0m\u001b[0;34m\u001b[0m\u001b[0m\n\u001b[1;32m    605\u001b[0m             \u001b[0;32melse\u001b[0m\u001b[0;34m:\u001b[0m\u001b[0;34m\u001b[0m\u001b[0;34m\u001b[0m\u001b[0m\n\u001b[0;32m--> 606\u001b[0;31m                 \u001b[0mhandle\u001b[0m \u001b[0;34m=\u001b[0m \u001b[0murlopen\u001b[0m\u001b[0;34m(\u001b[0m\u001b[0mcgi\u001b[0m\u001b[0;34m)\u001b[0m\u001b[0;34m\u001b[0m\u001b[0;34m\u001b[0m\u001b[0m\n\u001b[0m\u001b[1;32m    607\u001b[0m         \u001b[0;32mexcept\u001b[0m \u001b[0mHTTPError\u001b[0m \u001b[0;32mas\u001b[0m \u001b[0mexception\u001b[0m\u001b[0;34m:\u001b[0m\u001b[0;34m\u001b[0m\u001b[0;34m\u001b[0m\u001b[0m\n\u001b[1;32m    608\u001b[0m             \u001b[0;31m# Reraise if the final try fails\u001b[0m\u001b[0;34m\u001b[0m\u001b[0;34m\u001b[0m\u001b[0m\n",
      "\u001b[0;32m~/miniconda3/lib/python3.9/urllib/request.py\u001b[0m in \u001b[0;36murlopen\u001b[0;34m(url, data, timeout, cafile, capath, cadefault, context)\u001b[0m\n\u001b[1;32m    212\u001b[0m     \u001b[0;32melse\u001b[0m\u001b[0;34m:\u001b[0m\u001b[0;34m\u001b[0m\u001b[0;34m\u001b[0m\u001b[0m\n\u001b[1;32m    213\u001b[0m         \u001b[0mopener\u001b[0m \u001b[0;34m=\u001b[0m \u001b[0m_opener\u001b[0m\u001b[0;34m\u001b[0m\u001b[0;34m\u001b[0m\u001b[0m\n\u001b[0;32m--> 214\u001b[0;31m     \u001b[0;32mreturn\u001b[0m \u001b[0mopener\u001b[0m\u001b[0;34m.\u001b[0m\u001b[0mopen\u001b[0m\u001b[0;34m(\u001b[0m\u001b[0murl\u001b[0m\u001b[0;34m,\u001b[0m \u001b[0mdata\u001b[0m\u001b[0;34m,\u001b[0m \u001b[0mtimeout\u001b[0m\u001b[0;34m)\u001b[0m\u001b[0;34m\u001b[0m\u001b[0;34m\u001b[0m\u001b[0m\n\u001b[0m\u001b[1;32m    215\u001b[0m \u001b[0;34m\u001b[0m\u001b[0m\n\u001b[1;32m    216\u001b[0m \u001b[0;32mdef\u001b[0m \u001b[0minstall_opener\u001b[0m\u001b[0;34m(\u001b[0m\u001b[0mopener\u001b[0m\u001b[0;34m)\u001b[0m\u001b[0;34m:\u001b[0m\u001b[0;34m\u001b[0m\u001b[0;34m\u001b[0m\u001b[0m\n",
      "\u001b[0;32m~/miniconda3/lib/python3.9/urllib/request.py\u001b[0m in \u001b[0;36mopen\u001b[0;34m(self, fullurl, data, timeout)\u001b[0m\n\u001b[1;32m    515\u001b[0m \u001b[0;34m\u001b[0m\u001b[0m\n\u001b[1;32m    516\u001b[0m         \u001b[0msys\u001b[0m\u001b[0;34m.\u001b[0m\u001b[0maudit\u001b[0m\u001b[0;34m(\u001b[0m\u001b[0;34m'urllib.Request'\u001b[0m\u001b[0;34m,\u001b[0m \u001b[0mreq\u001b[0m\u001b[0;34m.\u001b[0m\u001b[0mfull_url\u001b[0m\u001b[0;34m,\u001b[0m \u001b[0mreq\u001b[0m\u001b[0;34m.\u001b[0m\u001b[0mdata\u001b[0m\u001b[0;34m,\u001b[0m \u001b[0mreq\u001b[0m\u001b[0;34m.\u001b[0m\u001b[0mheaders\u001b[0m\u001b[0;34m,\u001b[0m \u001b[0mreq\u001b[0m\u001b[0;34m.\u001b[0m\u001b[0mget_method\u001b[0m\u001b[0;34m(\u001b[0m\u001b[0;34m)\u001b[0m\u001b[0;34m)\u001b[0m\u001b[0;34m\u001b[0m\u001b[0;34m\u001b[0m\u001b[0m\n\u001b[0;32m--> 517\u001b[0;31m         \u001b[0mresponse\u001b[0m \u001b[0;34m=\u001b[0m \u001b[0mself\u001b[0m\u001b[0;34m.\u001b[0m\u001b[0m_open\u001b[0m\u001b[0;34m(\u001b[0m\u001b[0mreq\u001b[0m\u001b[0;34m,\u001b[0m \u001b[0mdata\u001b[0m\u001b[0;34m)\u001b[0m\u001b[0;34m\u001b[0m\u001b[0;34m\u001b[0m\u001b[0m\n\u001b[0m\u001b[1;32m    518\u001b[0m \u001b[0;34m\u001b[0m\u001b[0m\n\u001b[1;32m    519\u001b[0m         \u001b[0;31m# post-process response\u001b[0m\u001b[0;34m\u001b[0m\u001b[0;34m\u001b[0m\u001b[0m\n",
      "\u001b[0;32m~/miniconda3/lib/python3.9/urllib/request.py\u001b[0m in \u001b[0;36m_open\u001b[0;34m(self, req, data)\u001b[0m\n\u001b[1;32m    532\u001b[0m \u001b[0;34m\u001b[0m\u001b[0m\n\u001b[1;32m    533\u001b[0m         \u001b[0mprotocol\u001b[0m \u001b[0;34m=\u001b[0m \u001b[0mreq\u001b[0m\u001b[0;34m.\u001b[0m\u001b[0mtype\u001b[0m\u001b[0;34m\u001b[0m\u001b[0;34m\u001b[0m\u001b[0m\n\u001b[0;32m--> 534\u001b[0;31m         result = self._call_chain(self.handle_open, protocol, protocol +\n\u001b[0m\u001b[1;32m    535\u001b[0m                                   '_open', req)\n\u001b[1;32m    536\u001b[0m         \u001b[0;32mif\u001b[0m \u001b[0mresult\u001b[0m\u001b[0;34m:\u001b[0m\u001b[0;34m\u001b[0m\u001b[0;34m\u001b[0m\u001b[0m\n",
      "\u001b[0;32m~/miniconda3/lib/python3.9/urllib/request.py\u001b[0m in \u001b[0;36m_call_chain\u001b[0;34m(self, chain, kind, meth_name, *args)\u001b[0m\n\u001b[1;32m    492\u001b[0m         \u001b[0;32mfor\u001b[0m \u001b[0mhandler\u001b[0m \u001b[0;32min\u001b[0m \u001b[0mhandlers\u001b[0m\u001b[0;34m:\u001b[0m\u001b[0;34m\u001b[0m\u001b[0;34m\u001b[0m\u001b[0m\n\u001b[1;32m    493\u001b[0m             \u001b[0mfunc\u001b[0m \u001b[0;34m=\u001b[0m \u001b[0mgetattr\u001b[0m\u001b[0;34m(\u001b[0m\u001b[0mhandler\u001b[0m\u001b[0;34m,\u001b[0m \u001b[0mmeth_name\u001b[0m\u001b[0;34m)\u001b[0m\u001b[0;34m\u001b[0m\u001b[0;34m\u001b[0m\u001b[0m\n\u001b[0;32m--> 494\u001b[0;31m             \u001b[0mresult\u001b[0m \u001b[0;34m=\u001b[0m \u001b[0mfunc\u001b[0m\u001b[0;34m(\u001b[0m\u001b[0;34m*\u001b[0m\u001b[0margs\u001b[0m\u001b[0;34m)\u001b[0m\u001b[0;34m\u001b[0m\u001b[0;34m\u001b[0m\u001b[0m\n\u001b[0m\u001b[1;32m    495\u001b[0m             \u001b[0;32mif\u001b[0m \u001b[0mresult\u001b[0m \u001b[0;32mis\u001b[0m \u001b[0;32mnot\u001b[0m \u001b[0;32mNone\u001b[0m\u001b[0;34m:\u001b[0m\u001b[0;34m\u001b[0m\u001b[0;34m\u001b[0m\u001b[0m\n\u001b[1;32m    496\u001b[0m                 \u001b[0;32mreturn\u001b[0m \u001b[0mresult\u001b[0m\u001b[0;34m\u001b[0m\u001b[0;34m\u001b[0m\u001b[0m\n",
      "\u001b[0;32m~/miniconda3/lib/python3.9/urllib/request.py\u001b[0m in \u001b[0;36mhttps_open\u001b[0;34m(self, req)\u001b[0m\n\u001b[1;32m   1387\u001b[0m \u001b[0;34m\u001b[0m\u001b[0m\n\u001b[1;32m   1388\u001b[0m         \u001b[0;32mdef\u001b[0m \u001b[0mhttps_open\u001b[0m\u001b[0;34m(\u001b[0m\u001b[0mself\u001b[0m\u001b[0;34m,\u001b[0m \u001b[0mreq\u001b[0m\u001b[0;34m)\u001b[0m\u001b[0;34m:\u001b[0m\u001b[0;34m\u001b[0m\u001b[0;34m\u001b[0m\u001b[0m\n\u001b[0;32m-> 1389\u001b[0;31m             return self.do_open(http.client.HTTPSConnection, req,\n\u001b[0m\u001b[1;32m   1390\u001b[0m                 context=self._context, check_hostname=self._check_hostname)\n\u001b[1;32m   1391\u001b[0m \u001b[0;34m\u001b[0m\u001b[0m\n",
      "\u001b[0;32m~/miniconda3/lib/python3.9/urllib/request.py\u001b[0m in \u001b[0;36mdo_open\u001b[0;34m(self, http_class, req, **http_conn_args)\u001b[0m\n\u001b[1;32m   1344\u001b[0m         \u001b[0;32mtry\u001b[0m\u001b[0;34m:\u001b[0m\u001b[0;34m\u001b[0m\u001b[0;34m\u001b[0m\u001b[0m\n\u001b[1;32m   1345\u001b[0m             \u001b[0;32mtry\u001b[0m\u001b[0;34m:\u001b[0m\u001b[0;34m\u001b[0m\u001b[0;34m\u001b[0m\u001b[0m\n\u001b[0;32m-> 1346\u001b[0;31m                 h.request(req.get_method(), req.selector, req.data, headers,\n\u001b[0m\u001b[1;32m   1347\u001b[0m                           encode_chunked=req.has_header('Transfer-encoding'))\n\u001b[1;32m   1348\u001b[0m             \u001b[0;32mexcept\u001b[0m \u001b[0mOSError\u001b[0m \u001b[0;32mas\u001b[0m \u001b[0merr\u001b[0m\u001b[0;34m:\u001b[0m \u001b[0;31m# timeout error\u001b[0m\u001b[0;34m\u001b[0m\u001b[0;34m\u001b[0m\u001b[0m\n",
      "\u001b[0;32m~/miniconda3/lib/python3.9/http/client.py\u001b[0m in \u001b[0;36mrequest\u001b[0;34m(self, method, url, body, headers, encode_chunked)\u001b[0m\n\u001b[1;32m   1283\u001b[0m                 encode_chunked=False):\n\u001b[1;32m   1284\u001b[0m         \u001b[0;34m\"\"\"Send a complete request to the server.\"\"\"\u001b[0m\u001b[0;34m\u001b[0m\u001b[0;34m\u001b[0m\u001b[0m\n\u001b[0;32m-> 1285\u001b[0;31m         \u001b[0mself\u001b[0m\u001b[0;34m.\u001b[0m\u001b[0m_send_request\u001b[0m\u001b[0;34m(\u001b[0m\u001b[0mmethod\u001b[0m\u001b[0;34m,\u001b[0m \u001b[0murl\u001b[0m\u001b[0;34m,\u001b[0m \u001b[0mbody\u001b[0m\u001b[0;34m,\u001b[0m \u001b[0mheaders\u001b[0m\u001b[0;34m,\u001b[0m \u001b[0mencode_chunked\u001b[0m\u001b[0;34m)\u001b[0m\u001b[0;34m\u001b[0m\u001b[0;34m\u001b[0m\u001b[0m\n\u001b[0m\u001b[1;32m   1286\u001b[0m \u001b[0;34m\u001b[0m\u001b[0m\n\u001b[1;32m   1287\u001b[0m     \u001b[0;32mdef\u001b[0m \u001b[0m_send_request\u001b[0m\u001b[0;34m(\u001b[0m\u001b[0mself\u001b[0m\u001b[0;34m,\u001b[0m \u001b[0mmethod\u001b[0m\u001b[0;34m,\u001b[0m \u001b[0murl\u001b[0m\u001b[0;34m,\u001b[0m \u001b[0mbody\u001b[0m\u001b[0;34m,\u001b[0m \u001b[0mheaders\u001b[0m\u001b[0;34m,\u001b[0m \u001b[0mencode_chunked\u001b[0m\u001b[0;34m)\u001b[0m\u001b[0;34m:\u001b[0m\u001b[0;34m\u001b[0m\u001b[0;34m\u001b[0m\u001b[0m\n",
      "\u001b[0;32m~/miniconda3/lib/python3.9/http/client.py\u001b[0m in \u001b[0;36m_send_request\u001b[0;34m(self, method, url, body, headers, encode_chunked)\u001b[0m\n\u001b[1;32m   1329\u001b[0m             \u001b[0;31m# default charset of iso-8859-1.\u001b[0m\u001b[0;34m\u001b[0m\u001b[0;34m\u001b[0m\u001b[0m\n\u001b[1;32m   1330\u001b[0m             \u001b[0mbody\u001b[0m \u001b[0;34m=\u001b[0m \u001b[0m_encode\u001b[0m\u001b[0;34m(\u001b[0m\u001b[0mbody\u001b[0m\u001b[0;34m,\u001b[0m \u001b[0;34m'body'\u001b[0m\u001b[0;34m)\u001b[0m\u001b[0;34m\u001b[0m\u001b[0;34m\u001b[0m\u001b[0m\n\u001b[0;32m-> 1331\u001b[0;31m         \u001b[0mself\u001b[0m\u001b[0;34m.\u001b[0m\u001b[0mendheaders\u001b[0m\u001b[0;34m(\u001b[0m\u001b[0mbody\u001b[0m\u001b[0;34m,\u001b[0m \u001b[0mencode_chunked\u001b[0m\u001b[0;34m=\u001b[0m\u001b[0mencode_chunked\u001b[0m\u001b[0;34m)\u001b[0m\u001b[0;34m\u001b[0m\u001b[0;34m\u001b[0m\u001b[0m\n\u001b[0m\u001b[1;32m   1332\u001b[0m \u001b[0;34m\u001b[0m\u001b[0m\n\u001b[1;32m   1333\u001b[0m     \u001b[0;32mdef\u001b[0m \u001b[0mgetresponse\u001b[0m\u001b[0;34m(\u001b[0m\u001b[0mself\u001b[0m\u001b[0;34m)\u001b[0m\u001b[0;34m:\u001b[0m\u001b[0;34m\u001b[0m\u001b[0;34m\u001b[0m\u001b[0m\n",
      "\u001b[0;32m~/miniconda3/lib/python3.9/http/client.py\u001b[0m in \u001b[0;36mendheaders\u001b[0;34m(self, message_body, encode_chunked)\u001b[0m\n\u001b[1;32m   1278\u001b[0m         \u001b[0;32melse\u001b[0m\u001b[0;34m:\u001b[0m\u001b[0;34m\u001b[0m\u001b[0;34m\u001b[0m\u001b[0m\n\u001b[1;32m   1279\u001b[0m             \u001b[0;32mraise\u001b[0m \u001b[0mCannotSendHeader\u001b[0m\u001b[0;34m(\u001b[0m\u001b[0;34m)\u001b[0m\u001b[0;34m\u001b[0m\u001b[0;34m\u001b[0m\u001b[0m\n\u001b[0;32m-> 1280\u001b[0;31m         \u001b[0mself\u001b[0m\u001b[0;34m.\u001b[0m\u001b[0m_send_output\u001b[0m\u001b[0;34m(\u001b[0m\u001b[0mmessage_body\u001b[0m\u001b[0;34m,\u001b[0m \u001b[0mencode_chunked\u001b[0m\u001b[0;34m=\u001b[0m\u001b[0mencode_chunked\u001b[0m\u001b[0;34m)\u001b[0m\u001b[0;34m\u001b[0m\u001b[0;34m\u001b[0m\u001b[0m\n\u001b[0m\u001b[1;32m   1281\u001b[0m \u001b[0;34m\u001b[0m\u001b[0m\n\u001b[1;32m   1282\u001b[0m     def request(self, method, url, body=None, headers={}, *,\n",
      "\u001b[0;32m~/miniconda3/lib/python3.9/http/client.py\u001b[0m in \u001b[0;36m_send_output\u001b[0;34m(self, message_body, encode_chunked)\u001b[0m\n\u001b[1;32m   1038\u001b[0m         \u001b[0mmsg\u001b[0m \u001b[0;34m=\u001b[0m \u001b[0;34mb\"\\r\\n\"\u001b[0m\u001b[0;34m.\u001b[0m\u001b[0mjoin\u001b[0m\u001b[0;34m(\u001b[0m\u001b[0mself\u001b[0m\u001b[0;34m.\u001b[0m\u001b[0m_buffer\u001b[0m\u001b[0;34m)\u001b[0m\u001b[0;34m\u001b[0m\u001b[0;34m\u001b[0m\u001b[0m\n\u001b[1;32m   1039\u001b[0m         \u001b[0;32mdel\u001b[0m \u001b[0mself\u001b[0m\u001b[0;34m.\u001b[0m\u001b[0m_buffer\u001b[0m\u001b[0;34m[\u001b[0m\u001b[0;34m:\u001b[0m\u001b[0;34m]\u001b[0m\u001b[0;34m\u001b[0m\u001b[0;34m\u001b[0m\u001b[0m\n\u001b[0;32m-> 1040\u001b[0;31m         \u001b[0mself\u001b[0m\u001b[0;34m.\u001b[0m\u001b[0msend\u001b[0m\u001b[0;34m(\u001b[0m\u001b[0mmsg\u001b[0m\u001b[0;34m)\u001b[0m\u001b[0;34m\u001b[0m\u001b[0;34m\u001b[0m\u001b[0m\n\u001b[0m\u001b[1;32m   1041\u001b[0m \u001b[0;34m\u001b[0m\u001b[0m\n\u001b[1;32m   1042\u001b[0m         \u001b[0;32mif\u001b[0m \u001b[0mmessage_body\u001b[0m \u001b[0;32mis\u001b[0m \u001b[0;32mnot\u001b[0m \u001b[0;32mNone\u001b[0m\u001b[0;34m:\u001b[0m\u001b[0;34m\u001b[0m\u001b[0;34m\u001b[0m\u001b[0m\n",
      "\u001b[0;32m~/miniconda3/lib/python3.9/http/client.py\u001b[0m in \u001b[0;36msend\u001b[0;34m(self, data)\u001b[0m\n\u001b[1;32m    978\u001b[0m         \u001b[0;32mif\u001b[0m \u001b[0mself\u001b[0m\u001b[0;34m.\u001b[0m\u001b[0msock\u001b[0m \u001b[0;32mis\u001b[0m \u001b[0;32mNone\u001b[0m\u001b[0;34m:\u001b[0m\u001b[0;34m\u001b[0m\u001b[0;34m\u001b[0m\u001b[0m\n\u001b[1;32m    979\u001b[0m             \u001b[0;32mif\u001b[0m \u001b[0mself\u001b[0m\u001b[0;34m.\u001b[0m\u001b[0mauto_open\u001b[0m\u001b[0;34m:\u001b[0m\u001b[0;34m\u001b[0m\u001b[0;34m\u001b[0m\u001b[0m\n\u001b[0;32m--> 980\u001b[0;31m                 \u001b[0mself\u001b[0m\u001b[0;34m.\u001b[0m\u001b[0mconnect\u001b[0m\u001b[0;34m(\u001b[0m\u001b[0;34m)\u001b[0m\u001b[0;34m\u001b[0m\u001b[0;34m\u001b[0m\u001b[0m\n\u001b[0m\u001b[1;32m    981\u001b[0m             \u001b[0;32melse\u001b[0m\u001b[0;34m:\u001b[0m\u001b[0;34m\u001b[0m\u001b[0;34m\u001b[0m\u001b[0m\n\u001b[1;32m    982\u001b[0m                 \u001b[0;32mraise\u001b[0m \u001b[0mNotConnected\u001b[0m\u001b[0;34m(\u001b[0m\u001b[0;34m)\u001b[0m\u001b[0;34m\u001b[0m\u001b[0;34m\u001b[0m\u001b[0m\n",
      "\u001b[0;32m~/miniconda3/lib/python3.9/http/client.py\u001b[0m in \u001b[0;36mconnect\u001b[0;34m(self)\u001b[0m\n\u001b[1;32m   1452\u001b[0m                 \u001b[0mserver_hostname\u001b[0m \u001b[0;34m=\u001b[0m \u001b[0mself\u001b[0m\u001b[0;34m.\u001b[0m\u001b[0mhost\u001b[0m\u001b[0;34m\u001b[0m\u001b[0;34m\u001b[0m\u001b[0m\n\u001b[1;32m   1453\u001b[0m \u001b[0;34m\u001b[0m\u001b[0m\n\u001b[0;32m-> 1454\u001b[0;31m             self.sock = self._context.wrap_socket(self.sock,\n\u001b[0m\u001b[1;32m   1455\u001b[0m                                                   server_hostname=server_hostname)\n\u001b[1;32m   1456\u001b[0m \u001b[0;34m\u001b[0m\u001b[0m\n",
      "\u001b[0;32m~/miniconda3/lib/python3.9/ssl.py\u001b[0m in \u001b[0;36mwrap_socket\u001b[0;34m(self, sock, server_side, do_handshake_on_connect, suppress_ragged_eofs, server_hostname, session)\u001b[0m\n\u001b[1;32m    498\u001b[0m         \u001b[0;31m# SSLSocket class handles server_hostname encoding before it calls\u001b[0m\u001b[0;34m\u001b[0m\u001b[0;34m\u001b[0m\u001b[0m\n\u001b[1;32m    499\u001b[0m         \u001b[0;31m# ctx._wrap_socket()\u001b[0m\u001b[0;34m\u001b[0m\u001b[0;34m\u001b[0m\u001b[0m\n\u001b[0;32m--> 500\u001b[0;31m         return self.sslsocket_class._create(\n\u001b[0m\u001b[1;32m    501\u001b[0m             \u001b[0msock\u001b[0m\u001b[0;34m=\u001b[0m\u001b[0msock\u001b[0m\u001b[0;34m,\u001b[0m\u001b[0;34m\u001b[0m\u001b[0;34m\u001b[0m\u001b[0m\n\u001b[1;32m    502\u001b[0m             \u001b[0mserver_side\u001b[0m\u001b[0;34m=\u001b[0m\u001b[0mserver_side\u001b[0m\u001b[0;34m,\u001b[0m\u001b[0;34m\u001b[0m\u001b[0;34m\u001b[0m\u001b[0m\n",
      "\u001b[0;32m~/miniconda3/lib/python3.9/ssl.py\u001b[0m in \u001b[0;36m_create\u001b[0;34m(cls, sock, server_side, do_handshake_on_connect, suppress_ragged_eofs, server_hostname, context, session)\u001b[0m\n\u001b[1;32m   1038\u001b[0m                         \u001b[0;31m# non-blocking\u001b[0m\u001b[0;34m\u001b[0m\u001b[0;34m\u001b[0m\u001b[0m\n\u001b[1;32m   1039\u001b[0m                         \u001b[0;32mraise\u001b[0m \u001b[0mValueError\u001b[0m\u001b[0;34m(\u001b[0m\u001b[0;34m\"do_handshake_on_connect should not be specified for non-blocking sockets\"\u001b[0m\u001b[0;34m)\u001b[0m\u001b[0;34m\u001b[0m\u001b[0;34m\u001b[0m\u001b[0m\n\u001b[0;32m-> 1040\u001b[0;31m                     \u001b[0mself\u001b[0m\u001b[0;34m.\u001b[0m\u001b[0mdo_handshake\u001b[0m\u001b[0;34m(\u001b[0m\u001b[0;34m)\u001b[0m\u001b[0;34m\u001b[0m\u001b[0;34m\u001b[0m\u001b[0m\n\u001b[0m\u001b[1;32m   1041\u001b[0m             \u001b[0;32mexcept\u001b[0m \u001b[0;34m(\u001b[0m\u001b[0mOSError\u001b[0m\u001b[0;34m,\u001b[0m \u001b[0mValueError\u001b[0m\u001b[0;34m)\u001b[0m\u001b[0;34m:\u001b[0m\u001b[0;34m\u001b[0m\u001b[0;34m\u001b[0m\u001b[0m\n\u001b[1;32m   1042\u001b[0m                 \u001b[0mself\u001b[0m\u001b[0;34m.\u001b[0m\u001b[0mclose\u001b[0m\u001b[0;34m(\u001b[0m\u001b[0;34m)\u001b[0m\u001b[0;34m\u001b[0m\u001b[0;34m\u001b[0m\u001b[0m\n",
      "\u001b[0;32m~/miniconda3/lib/python3.9/ssl.py\u001b[0m in \u001b[0;36mdo_handshake\u001b[0;34m(self, block)\u001b[0m\n\u001b[1;32m   1307\u001b[0m             \u001b[0;32mif\u001b[0m \u001b[0mtimeout\u001b[0m \u001b[0;34m==\u001b[0m \u001b[0;36m0.0\u001b[0m \u001b[0;32mand\u001b[0m \u001b[0mblock\u001b[0m\u001b[0;34m:\u001b[0m\u001b[0;34m\u001b[0m\u001b[0;34m\u001b[0m\u001b[0m\n\u001b[1;32m   1308\u001b[0m                 \u001b[0mself\u001b[0m\u001b[0;34m.\u001b[0m\u001b[0msettimeout\u001b[0m\u001b[0;34m(\u001b[0m\u001b[0;32mNone\u001b[0m\u001b[0;34m)\u001b[0m\u001b[0;34m\u001b[0m\u001b[0;34m\u001b[0m\u001b[0m\n\u001b[0;32m-> 1309\u001b[0;31m             \u001b[0mself\u001b[0m\u001b[0;34m.\u001b[0m\u001b[0m_sslobj\u001b[0m\u001b[0;34m.\u001b[0m\u001b[0mdo_handshake\u001b[0m\u001b[0;34m(\u001b[0m\u001b[0;34m)\u001b[0m\u001b[0;34m\u001b[0m\u001b[0;34m\u001b[0m\u001b[0m\n\u001b[0m\u001b[1;32m   1310\u001b[0m         \u001b[0;32mfinally\u001b[0m\u001b[0;34m:\u001b[0m\u001b[0;34m\u001b[0m\u001b[0;34m\u001b[0m\u001b[0m\n\u001b[1;32m   1311\u001b[0m             \u001b[0mself\u001b[0m\u001b[0;34m.\u001b[0m\u001b[0msettimeout\u001b[0m\u001b[0;34m(\u001b[0m\u001b[0mtimeout\u001b[0m\u001b[0;34m)\u001b[0m\u001b[0;34m\u001b[0m\u001b[0;34m\u001b[0m\u001b[0m\n",
      "\u001b[0;31mKeyboardInterrupt\u001b[0m: "
     ]
    }
   ],
   "source": [
    "# parse the results into a dataframe \n",
    "dictionary_lst = []\n",
    "for Id in result[\"IdList\"]:\n",
    "    handle = Entrez.esummary(db=\"gds\", id=Id, retmode=\"xml\") # get summary of this entry on GEO datasets\n",
    "    entry = Entrez.parse(handle)\n",
    "    for column in entry:\n",
    "        dictionary_lst.append(column)\n",
    "df = pd.DataFrame(dictionary_lst)"
   ]
  },
  {
   "cell_type": "code",
   "execution_count": null,
   "id": "2e0445ef",
   "metadata": {},
   "outputs": [],
   "source": [
    "df.head()"
   ]
  },
  {
   "cell_type": "code",
   "execution_count": null,
   "id": "bee10737",
   "metadata": {},
   "outputs": [],
   "source": [
    "df.shape"
   ]
  },
  {
   "cell_type": "markdown",
   "id": "bb4d1e58",
   "metadata": {},
   "source": [
    "## Cleaning the Paper Names and Converting from PMID to DOI"
   ]
  },
  {
   "cell_type": "code",
   "execution_count": null,
   "id": "4c5feeac",
   "metadata": {
    "scrolled": false
   },
   "outputs": [],
   "source": [
    "dictionary_lst = []\n",
    "for Id in result[\"IdList\"]:\n",
    "    \n",
    "    handle = Entrez.esummary(db=\"gds\", id=Id, retmode=\"xml\")\n",
    "    entry = Entrez.parse(handle)\n",
    "    \n",
    "    for column in entry:\n",
    "        paper_title = column['title']\n",
    "        new_paper_title = ''\n",
    "        last_word = re.split('\\s|[.]', paper_title)[-1]\n",
    "        last_two_words = re.split('\\s|[.]', paper_title)[-2:]\n",
    "        \n",
    "        # remove \".[HiChIP]\", \". [HiChIP]\", or \"(HiChIP)\" in paper titles using steps below\n",
    "        if ('[' in last_word and ']' in last_word) or \\\n",
    "                ('(' in last_word and ')' in last_word):\n",
    "            new_paper_title = re.split('\\s|[.]', paper_title)[0:-1]\n",
    "            new_paper_title = ' '.join(new_paper_title)\n",
    "            new_paper_title = new_paper_title.strip()\n",
    "            if new_paper_title.endswith('.'): # remove the last period in paper title\n",
    "                new_paper_title = new_paper_title[:-1]\n",
    "                \n",
    "        # remove \".[Hi ChIP]\", \". [Hi ChIP]\", or \"[Bead Array]\" in paper titles using steps below\n",
    "        elif ('[' in last_two_words[0] and ']' in last_two_words[1]) or \\\n",
    "                    ('(' in last_two_words[0] and ')' in last_two_words[1]):\n",
    "            new_paper_title = re.split('\\s|[.]', paper_title)[0:-2]\n",
    "            new_paper_title = ' '.join(new_paper_title)\n",
    "            new_paper_title = new_paper_title.strip()\n",
    "            if new_paper_title.endswith('.'): # remove the last period in paper title\n",
    "                new_paper_title = new_paper_title[:-1]\n",
    "                \n",
    "        elif paper_title.endswith('.'):\n",
    "            new_paper_title = paper_title[:-1] \n",
    "            \n",
    "        else:\n",
    "            new_paper_title = paper_title\n",
    "            \n",
    "        new_paper_title = new_paper_title.replace(\"\\xa0\", \" \") # remove no-break space\n",
    "        column['title'] = new_paper_title\n",
    "        \n",
    "        # convert PMID to DOI, some have no PMID so empty string\n",
    "        string = str(column['PubMedIds'])\n",
    "        pdf_url = \"\"\n",
    "        PubMedIds = PubMedIds_pattern.findall(string)\n",
    "        \n",
    "        if len(PubMedIds) > 0:\n",
    "            DOI = pmid2doi(PubMedIds[0])\n",
    "            column['PubMedIds'] = DOI\n",
    "        else: column['PubMedIds'] = \"\"\n",
    "        dictionary_lst.append(column)\n",
    "        \n",
    "df = pd.DataFrame(dictionary_lst)"
   ]
  },
  {
   "cell_type": "markdown",
   "id": "c463820d",
   "metadata": {},
   "source": [
    "## Reformat the Columns for Google Sheet Compatibility"
   ]
  },
  {
   "cell_type": "code",
   "execution_count": null,
   "id": "e5bc08ea",
   "metadata": {},
   "outputs": [],
   "source": [
    "# drop extra columns\n",
    "df = pd.DataFrame(dictionary_lst)\n",
    "\n",
    "drop_cols = ['Item', 'Id', 'GDS', 'GPL', 'GSE', 'entryType', 'ptechType',\n",
    "             'valType', 'SSInfo', 'subsetInfo', 'suppFile', 'Relations', 'ExtRelations',\n",
    "             'n_samples', 'SeriesTitle', 'PlatformTitle', 'PlatformTaxa', 'SamplesTaxa',\n",
    "             'Projects', 'FTPLink', 'GEO2R']\n",
    "df.drop(drop_cols, inplace=True, axis=1)\n",
    "\n",
    "# rename columns\n",
    "rename_cols = {\"Accession\":\"GEO / Data link\", \"PubMedIds\":\"DOI\", \"title\":\"Paper Title\",\n",
    "               \"taxon\":\"Organism\", \"gdsType\":\"Any other information\", \"PDAT\":\"Year\",\n",
    "               \"Samples\":\"Other matched data\"}\n",
    "df.rename(columns=rename_cols, inplace=True)\n",
    "\n",
    "# extract just the year\n",
    "df[\"Year\"] = df[\"Year\"].str[:4]\n",
    "\n",
    "# add index for merging\n",
    "df['index'] = np.arange(len(df))\n",
    "\n",
    "# fill na with empty values\n",
    "df.fillna(\"\",inplace=True)\n",
    "\n",
    "# adding missing columns with empty values\n",
    "df[\"Journal\"] = \"\"\n",
    "df[\"Authors\"] = \"\"\n",
    "df[\"Tissue/Cell Line\"] = \"\"\n",
    "df[\"Presenter\"] = \"\"\n",
    "df[\"Potential HiChIP\"] = \"\""
   ]
  },
  {
   "cell_type": "markdown",
   "id": "19c61b12",
   "metadata": {},
   "source": [
    "## Assigning Potential HiChIP Samples"
   ]
  },
  {
   "cell_type": "markdown",
   "id": "d2d5df7f",
   "metadata": {},
   "source": [
    "Filter out samples with no HiChIP mention and assigned Yes or Maybe to all others "
   ]
  },
  {
   "cell_type": "code",
   "execution_count": null,
   "id": "ecfe777c",
   "metadata": {},
   "outputs": [],
   "source": [
    "col = df[\"Other matched data\"]\n",
    "lst = []\n",
    "GSM_IDs = [] ######## new for cell type\n",
    "index = 0\n",
    "for row in col:\n",
    "    \n",
    "    temp = []\n",
    "    state = False\n",
    "    \n",
    "    # Check for the term HiChIP in the title\n",
    "    for ele in row: \n",
    "        if (\"HiChIP\".casefold() in ele[\"Title\"].casefold()) or \\\n",
    "                (\"Hi-ChIP\".casefold() in ele[\"Title\"].casefold()):\n",
    "            state = True\n",
    "    \n",
    "    # keep samples with HiChIP and mark \"Yes\"\n",
    "    if state == True: \n",
    "        for ele in row:\n",
    "            GSM_IDs.append(ele[\"Accession\"]) ######## new for cell type\n",
    "            if (\"HiChIP\".casefold() in ele[\"Title\"].casefold()) or \\\n",
    "                    (\"Hi-ChIP\".casefold() in ele[\"Title\"].casefold()):\n",
    "                temp.append(ele[\"Accession\"] + \": \" + ele[\"Title\"])\n",
    "        temp_str = \"\\n\".join(temp)\n",
    "        df.at[index, \"Potential HiChIP\"] = \"Yes\"\n",
    "\n",
    "    # otherwise, keep all GSM samples and mark \"Maybe\"\n",
    "    else: \n",
    "        for ele in row:\n",
    "            GSM_IDs.append(ele[\"Accession\"]) ######## new for cell type\n",
    "            temp.append(ele[\"Accession\"] + \": \" + ele[\"Title\"])\n",
    "        temp_str = \"\\n\".join(temp)\n",
    "        df.at[index,\"Potential HiChIP\"]=\"Maybe\"\n",
    "    lst.append(temp_str)\n",
    "    index += 1\n",
    "    \n",
    "df[\"Other matched data\"] = list(lst)"
   ]
  },
  {
   "cell_type": "markdown",
   "id": "e88c1586",
   "metadata": {},
   "source": [
    "## Merge Rows with the Same Paper Title"
   ]
  },
  {
   "cell_type": "code",
   "execution_count": null,
   "id": "4aa57284",
   "metadata": {},
   "outputs": [],
   "source": [
    "aggregation_functions = {'Paper Title':'first', 'DOI':'max', 'Journal':'first', 'Authors':'first', 'Year':'first', 'GEO / Data link':lambda x: '\\n'.join(x),\n",
    "       'Any other information':lambda x: '\\n'.join(x), 'Organism':'first', 'Tissue/Cell Line':'first',\n",
    "       'Potential HiChIP':'first', 'Other matched data':lambda x: '\\n'.join(x), 'Presenter':'first'}\n",
    "df_grouped = df.groupby(df['Paper Title']).aggregate(aggregation_functions)"
   ]
  },
  {
   "cell_type": "markdown",
   "id": "a13db4f0",
   "metadata": {},
   "source": [
    "## Fetch Journal Name and First Author of Each Paper and Add https to DOI"
   ]
  },
  {
   "cell_type": "code",
   "execution_count": null,
   "id": "55a1a9b5",
   "metadata": {},
   "outputs": [],
   "source": [
    "jounrnal_lst = []\n",
    "authors_lst = []\n",
    "fetch = PubMedFetcher()\n",
    "for DOI in df_grouped['DOI']:\n",
    "    try:\n",
    "        PMID = doi2pmid(DOI)\n",
    "        article = fetch.article_by_pmid(PMID)\n",
    "        jounrnal_lst.append(article.journal)\n",
    "        authors_lst.append(article.authors[0].split()[0] + \" et al.\")\n",
    "    except:\n",
    "        jounrnal_lst.append(\"\")\n",
    "        authors_lst.append(\"\")\n",
    "df_grouped['Journal'] = jounrnal_lst\n",
    "df_grouped['Authors'] = authors_lst"
   ]
  },
  {
   "cell_type": "code",
   "execution_count": null,
   "id": "9384d88e",
   "metadata": {},
   "outputs": [],
   "source": [
    "# add https address to DOI (for easy access)\n",
    "df_grouped.loc[(df_grouped['DOI'] != ''), 'DOI'] = 'https://doi.org/' + df_grouped.loc[(df_grouped['DOI'] != ''), 'DOI']"
   ]
  },
  {
   "cell_type": "markdown",
   "id": "07a4b4c8",
   "metadata": {},
   "source": [
    "## Note the Date Added, Set Output Path, and Save the Final Output File"
   ]
  },
  {
   "cell_type": "code",
   "execution_count": null,
   "id": "beed3d3d",
   "metadata": {},
   "outputs": [],
   "source": [
    "# make an output directory\n",
    "######## new for cell type\n",
    "outdir = ''\n",
    "# outdir = 'results/hichip_db/'\n",
    "# os.makedirs(outdir, exist_ok=True)"
   ]
  },
  {
   "cell_type": "code",
   "execution_count": null,
   "id": "be627b76",
   "metadata": {},
   "outputs": [],
   "source": [
    "# determining the current year, month and day\n",
    "today = date.today()\n",
    "date_str = today.strftime(\"%Y_%m_%d\")\n",
    "\n",
    "# determining current hour and minute\n",
    "now = datetime.now()\n",
    "time_str = now.strftime(\"%H_%M\")\n",
    "\n",
    "# setting the output filename\n",
    "output = os.path.join(outdir, \"GEO_Query.{}_{}\".format(date_str, time_str))"
   ]
  },
  {
   "cell_type": "code",
   "execution_count": null,
   "id": "b1e2e626",
   "metadata": {},
   "outputs": [],
   "source": [
    "# add a column that notes the added date\n",
    "df_grouped['Date Added'] = date_str.replace('_', '-')\n",
    "reorder = ['Paper Title', 'Journal', 'Authors', 'Year', 'DOI', 'GEO / Data link', 'Any other information',\n",
    "           'Organism', 'Tissue/Cell Line', 'Potential HiChIP', 'Other matched data', 'Presenter', 'Date Added']\n",
    "df_grouped = df_grouped.loc[:, reorder]"
   ]
  },
  {
   "cell_type": "code",
   "execution_count": null,
   "id": "4d90d666",
   "metadata": {},
   "outputs": [],
   "source": [
    "df_grouped.to_excel(output+\".xlsx\", index=False)"
   ]
  },
  {
   "cell_type": "markdown",
   "id": "ea78b735",
   "metadata": {},
   "source": [
    "## Save the GSM IDs line by line"
   ]
  },
  {
   "cell_type": "code",
   "execution_count": null,
   "id": "3de96405",
   "metadata": {},
   "outputs": [],
   "source": [
    "GSM_IDs = list(set(GSM_IDs))\n",
    "with open(r'gsm_list.txt', 'w') as fp:\n",
    "    for gsm in GSM_IDs:\n",
    "        # write each item on a new line\n",
    "        fp.write(\"%s\\n\" % gsm)"
   ]
  },
  {
   "cell_type": "markdown",
   "id": "b8bbc7d4",
   "metadata": {},
   "source": [
    "## Query GEO BioSample using the GSM IDs"
   ]
  },
  {
   "cell_type": "code",
   "execution_count": 15,
   "id": "49d34276",
   "metadata": {},
   "outputs": [
    {
     "data": {
      "text/plain": [
       "'GSM5066603\\n [All Fields] OR GSM4027536\\n [All Fields] OR GSM5269989\\n [All Fields] OR GSM2572636\\n [All Fields] OR GSM3059347\\n [All Fields] OR GSM5029775\\n [All Fields] OR GSM3103921\\n [All Fields] OR GSM3930325\\n [All Fields] OR GSM4214149\\n [All Fields] OR GSM5533509\\n [All Fields] OR GSM5269818\\n [All Fields] OR GSM5270760\\n [All Fields] OR GSM4513989\\n [All Fields] OR GSM6528198\\n [All Fields] OR GSM5746056\\n [All Fields] OR GSM4613476\\n [All Fields] OR GSM3263143\\n [All Fields] OR GSM5746007\\n [All Fields] OR GSM3376557\\n [All Fields] OR GSM2572625\\n [All Fields] OR GSM4214139\\n [All Fields] OR GSM4333041\\n [All Fields] OR GSM2816631\\n [All Fields] OR GSM4441813\\n [All Fields] OR GSM4551849\\n [All Fields] OR GSM4061152\\n [All Fields] OR GSM5066600\\n [All Fields] OR GSM4836043\\n [All Fields] OR GSM3426275\\n [All Fields] OR GSM6318728\\n [All Fields] OR GSM3229488\\n [All Fields] OR GSM3018513\\n [All Fields] OR GSM6528183\\n [All Fields] OR GSM5777101\\n [All Fields] OR GSM4851920\\n [All Fields] OR GSM5270747\\n [All Fields] OR GSM5533469\\n [All Fields] OR GSM3902809\\n [All Fields] OR GSM5270002\\n [All Fields] OR GSM3452729\\n [All Fields] OR GSM4629118\\n [All Fields] OR GSM5238606\\n [All Fields] OR GSM4551901\\n [All Fields] OR GSM5420209\\n [All Fields] OR GSM4646927\\n [All Fields] OR GSM5388189\\n [All Fields] OR GSM5772868\\n [All Fields] OR GSM2238512\\n [All Fields] OR GSM4195083\\n [All Fields] OR GSM5004111\\n [All Fields] OR GSM5455280\\n [All Fields] OR GSM3902804\\n [All Fields] OR GSM4072347\\n [All Fields] OR GSM3212888\\n [All Fields] OR GSM4061104\\n [All Fields] OR GSM5455384\\n [All Fields] OR GSM5269863\\n [All Fields] OR GSM2987649\\n [All Fields] OR GSM3901155\\n [All Fields] OR GSM4736190\\n [All Fields] OR GSM5270041\\n [All Fields] OR GSM5632799\\n [All Fields] OR GSM4613453\\n [All Fields] OR GSM4476744\\n [All Fields] OR GSM2572626\\n [All Fields] OR GSM4141954\\n [All Fields] OR GSM4560484\\n [All Fields] OR GSM4061093\\n [All Fields] OR GSM3967110\\n [All Fields] OR GSM5746186\\n [All Fields] OR GSM4447210\\n [All Fields] OR GSM4002958\\n [All Fields] OR GSM4551968\\n [All Fields] OR GSM6528141\\n [All Fields] OR GSM4876534\\n [All Fields] OR GSM5712663\\n [All Fields] OR GSM4551881\\n [All Fields] OR GSM5664119\\n [All Fields] OR GSM5769495\\n [All Fields] OR GSM4060962\\n [All Fields] OR GSM5284457\\n [All Fields] OR GSM4613545\\n [All Fields] OR GSM5746025\\n [All Fields] OR GSM5365322\\n [All Fields] OR GSM4735782\\n [All Fields] OR GSM3930336\\n [All Fields] OR GSM5270111\\n [All Fields] OR GSM3018457\\n [All Fields] OR GSM5533470\\n [All Fields] OR GSM3181444\\n [All Fields] OR GSM5463913\\n [All Fields] OR GSM5533490\\n [All Fields] OR GSM2645438\\n [All Fields] OR GSM5269928\\n [All Fields] OR GSM5270718\\n [All Fields] OR GSM5270418\\n [All Fields] OR GSM4551854\\n [All Fields] OR GSM4142010\\n [All Fields] OR GSM4513999\\n [All Fields] OR GSM6234563\\n [All Fields] OR GSM5434003\\n [All Fields] OR GSM5270196\\n [All Fields] OR GSM3212908\\n [All Fields] OR GSM5282144\\n [All Fields] OR GSM5455068\\n [All Fields] OR GSM5066565\\n [All Fields] OR GSM5270380\\n [All Fields] OR GSM5819412\\n [All Fields] OR GSM5334235\\n [All Fields] OR GSM4061090\\n [All Fields] OR GSM4441691\\n [All Fields] OR GSM2816619\\n [All Fields] OR GSM4871524\\n [All Fields] OR GSM5866082\\n [All Fields] OR GSM5029731\\n [All Fields] OR GSM5066590\\n [All Fields] OR GSM4002937\\n [All Fields] OR GSM5800034\\n [All Fields] OR GSM5777208\\n [All Fields] OR GSM5270356\\n [All Fields] OR GSM5434008\\n [All Fields] OR GSM4441815\\n [All Fields] OR GSM5664126\\n [All Fields] OR GSM5282137\\n [All Fields] OR GSM5425962\\n [All Fields] OR GSM4061115\\n [All Fields] OR GSM3176579\\n [All Fields] OR GSM3486874\\n [All Fields] OR GSM5270089\\n [All Fields] OR GSM3377443\\n [All Fields] OR GSM5905671\\n [All Fields] OR GSM4735775\\n [All Fields] OR GSM5617837\\n [All Fields] OR GSM5269721\\n [All Fields] OR GSM5455381\\n [All Fields] OR GSM4217579\\n [All Fields] OR GSM4141972\\n [All Fields] OR GSM5269884\\n [All Fields] OR GSM4441761\\n [All Fields] OR GSM5270125\\n [All Fields] OR GSM3930240\\n [All Fields] OR GSM4563899\\n [All Fields] OR GSM4551879\\n [All Fields] OR GSM5268043\\n [All Fields] OR GSM5034226\\n [All Fields] OR GSM3212890\\n [All Fields] OR GSM5340947\\n [All Fields] OR GSM5270122\\n [All Fields] OR GSM6234582\\n [All Fields] OR GSM5270221\\n [All Fields] OR GSM5282159\\n [All Fields] OR GSM5281762\\n [All Fields] OR GSM3229495\\n [All Fields] OR GSM4836320\\n [All Fields] OR GSM5746093\\n [All Fields] OR GSM5270754\\n [All Fields] OR GSM5533514\\n [All Fields] OR GSM3176563\\n [All Fields] OR GSM2705066\\n [All Fields] OR GSM4826472\\n [All Fields] OR GSM5029740\\n [All Fields] OR GSM5379687\\n [All Fields] OR GSM3664989\\n [All Fields] OR GSM5463917\\n [All Fields] OR GSM4836418\\n [All Fields] OR GSM5340898\\n [All Fields] OR GSM4613561\\n [All Fields] OR GSM4836157\\n [All Fields] OR GSM4061101\\n [All Fields] OR GSM3967108\\n [All Fields] OR GSM5365315\\n [All Fields] OR GSM3229503\\n [All Fields] OR GSM4851921\\n [All Fields] OR GSM5029761\\n [All Fields] OR GSM4513964\\n [All Fields] OR GSM2829059\\n [All Fields] OR GSM5516900\\n [All Fields] OR GSM4061163\\n [All Fields] OR GSM4441795\\n [All Fields] OR GSM5269741\\n [All Fields] OR GSM4696927\\n [All Fields] OR GSM4836375\\n [All Fields] OR GSM3901159\\n [All Fields] OR GSM5746236\\n [All Fields] OR GSM3455871\\n [All Fields] OR GSM5281665\\n [All Fields] OR GSM5270497\\n [All Fields] OR GSM3486894\\n [All Fields] OR GSM5365320\\n [All Fields] OR GSM2831398\\n [All Fields] OR GSM4053404\\n [All Fields] OR GSM3263161\\n [All Fields] OR GSM4613485\\n [All Fields] OR GSM5463911\\n [All Fields] OR GSM3059349\\n [All Fields] OR GSM5066611\\n [All Fields] OR GSM5340907\\n [All Fields] OR GSM5340957\\n [All Fields] OR GSM5269940\\n [All Fields] OR GSM2774010\\n [All Fields] OR GSM2572604\\n [All Fields] OR GSM5655529\\n [All Fields] OR GSM4736187\\n [All Fields] OR GSM4061019\\n [All Fields] OR GSM5746205\\n [All Fields] OR GSM5270619\\n [All Fields] OR GSM5455079\\n [All Fields] OR GSM4801409\\n [All Fields] OR GSM5270056\\n [All Fields] OR GSM4563902\\n [All Fields] OR GSM4441758\\n [All Fields] OR GSM4658090\\n [All Fields] OR GSM4061066\\n [All Fields] OR GSM3263145\\n [All Fields] OR GSM5503583\\n [All Fields] OR GSM5065202\\n [All Fields] OR GSM3212829\\n [All Fields] OR GSM5270110\\n [All Fields] OR GSM5270780\\n [All Fields] OR GSM5455080\\n [All Fields] OR GSM5270508\\n [All Fields] OR GSM5270311\\n [All Fields] OR GSM5270088\\n [All Fields] OR GSM4060947\\n [All Fields] OR GSM4761244\\n [All Fields] OR GSM3212869\\n [All Fields] OR GSM5394200\\n [All Fields] OR GSM5270395\\n [All Fields] OR GSM3103918\\n [All Fields] OR GSM4447212\\n [All Fields] OR GSM5617810\\n [All Fields] OR GSM2752710\\n [All Fields] OR GSM5227750\\n [All Fields] OR GSM5270007\\n [All Fields] OR GSM4696926\\n [All Fields] OR GSM2572579\\n [All Fields] OR GSM5702001\\n [All Fields] OR GSM5665776\\n [All Fields] OR GSM5655517\\n [All Fields] OR GSM5270369\\n [All Fields] OR GSM3263140\\n [All Fields] OR GSM4629120\\n [All Fields] OR GSM5455048\\n [All Fields] OR GSM4836385\\n [All Fields] OR GSM4072355\\n [All Fields] OR GSM5270679\\n [All Fields] OR GSM4836407\\n [All Fields] OR GSM2572633\\n [All Fields] OR GSM5819394\\n [All Fields] OR GSM5270735\\n [All Fields] OR GSM3212893\\n [All Fields] OR GSM3930271\\n [All Fields] OR GSM5455052\\n [All Fields] OR GSM5282052\\n [All Fields] OR GSM5269747\\n [All Fields] OR GSM4060924\\n [All Fields] OR GSM4697013\\n [All Fields] OR GSM5270543\\n [All Fields] OR GSM3930300\\n [All Fields] OR GSM5270061\\n [All Fields] OR GSM6585956\\n [All Fields] OR GSM5800025\\n [All Fields] OR GSM5269823\\n [All Fields] OR GSM4002960\\n [All Fields] OR GSM4736200\\n [All Fields] OR GSM4002967\\n [All Fields] OR GSM3263177\\n [All Fields] OR GSM4514003\\n [All Fields] OR GSM5772832\\n [All Fields] OR GSM4338304\\n [All Fields] OR GSM4027533\\n [All Fields] OR GSM4568375\\n [All Fields] OR GSM3082021\\n [All Fields] OR GSM4447195\\n [All Fields] OR GSM2816640\\n [All Fields] OR GSM3791757\\n [All Fields] OR GSM4836041\\n [All Fields] OR GSM4792960\\n [All Fields] OR GSM4441721\\n [All Fields] OR GSM5746223\\n [All Fields] OR GSM3897564\\n [All Fields] OR GSM5270622\\n [All Fields] OR GSM5270518\\n [All Fields] OR GSM5632794\\n [All Fields] OR GSM4613532\\n [All Fields] OR GSM4836140\\n [All Fields] OR GSM5029873\\n [All Fields] OR GSM2572643\\n [All Fields] OR GSM5905672\\n [All Fields] OR GSM6508528\\n [All Fields] OR GSM5680701\\n [All Fields] OR GSM4735747\\n [All Fields] OR GSM2830544\\n [All Fields] OR GSM3597235\\n [All Fields] OR GSM5533532\\n [All Fields] OR GSM4836121\\n [All Fields] OR GSM4217564\\n [All Fields] OR GSM2572605\\n [All Fields] OR GSM2831434\\n [All Fields] OR GSM4826470\\n [All Fields] OR GSM3082015\\n [All Fields] OR GSM5270261\\n [All Fields] OR GSM5268045\\n [All Fields] OR GSM5746225\\n [All Fields] OR GSM3901142\\n [All Fields] OR GSM4836087\\n [All Fields] OR GSM3902823\\n [All Fields] OR GSM6234546\\n [All Fields] OR GSM5268047\\n [All Fields] OR GSM4441804\\n [All Fields] OR GSM5746135\\n [All Fields] OR GSM5267743\\n [All Fields] OR GSM5049899\\n [All Fields] OR GSM4061025\\n [All Fields] OR GSM4060940\\n [All Fields] OR GSM4646926\\n [All Fields] OR GSM5455031\\n [All Fields] OR GSM5269986\\n [All Fields] OR GSM5281660\\n [All Fields] OR GSM3314497\\n [All Fields] OR GSM3466911\\n [All Fields] OR GSM3181428\\n [All Fields] OR GSM5227762\\n [All Fields] OR GSM5270651\\n [All Fields] OR GSM5270190\\n [All Fields] OR GSM5270764\\n [All Fields] OR GSM3455877\\n [All Fields] OR GSM4948223\\n [All Fields] OR GSM5270355\\n [All Fields] OR GSM5270632\\n [All Fields] OR GSM2752700\\n [All Fields] OR GSM3426253\\n [All Fields] OR GSM4403633\\n [All Fields] OR GSM4836159\\n [All Fields] OR GSM5270716\\n [All Fields] OR GSM3106288\\n [All Fields] OR GSM3967135\\n [All Fields] OR GSM4629084\\n [All Fields] OR GSM5270207\\n [All Fields] OR GSM5226570\\n [All Fields] OR GSM5269861\\n [All Fields] OR GSM5282131\\n [All Fields] OR GSM5270331\\n [All Fields] OR GSM5570007\\n [All Fields] OR GSM2705060\\n [All Fields] OR GSM5533529\\n [All Fields] OR GSM4027558\\n [All Fields] OR GSM4836322\\n [All Fields] OR GSM3376525\\n [All Fields] OR GSM3902810\\n [All Fields] OR GSM6234532\\n [All Fields] OR GSM5066616\\n [All Fields] OR GSM5777102\\n [All Fields] OR GSM5269809\\n [All Fields] OR GSM2831456\\n [All Fields] OR GSM5533499\\n [All Fields] OR GSM3059342\\n [All Fields] OR GSM5281738\\n [All Fields] OR GSM2572593\\n [All Fields] OR GSM5373215\\n [All Fields] OR GSM5261685\\n [All Fields] OR GSM3762807\\n [All Fields] OR GSM6234515\\n [All Fields] OR GSM4551856\\n [All Fields] OR GSM5261612\\n [All Fields] OR GSM4523657\\n [All Fields] OR GSM5270612\\n [All Fields] OR GSM5655527\\n [All Fields] OR GSM5024539\\n [All Fields] OR GSM5455369\\n [All Fields] OR GSM5261686\\n [All Fields] OR GSM4613451\\n [All Fields] OR GSM5282147\\n [All Fields] OR GSM5270071\\n [All Fields] OR GSM4214142\\n [All Fields] OR GSM5270269\\n [All Fields] OR GSM5270542\\n [All Fields] OR GSM5454993\\n [All Fields] OR GSM4437218\\n [All Fields] OR GSM3613366\\n [All Fields] OR GSM5380715\\n [All Fields] OR GSM3212883\\n [All Fields] OR GSM4195025\\n [All Fields] OR GSM5270153\\n [All Fields] OR GSM4551828\\n [All Fields] OR GSM3664988\\n [All Fields] OR GSM5049895\\n [All Fields] OR GSM2752712\\n [All Fields] OR GSM5269913\\n [All Fields] OR GSM5455042\\n [All Fields] OR GSM5533561\\n [All Fields] OR GSM3212901\\n [All Fields] OR GSM5269893\\n [All Fields] OR GSM4093600\\n [All Fields] OR GSM5665755\\n [All Fields] OR GSM5252279\\n [All Fields] OR GSM4061164\\n [All Fields] OR GSM3018468\\n [All Fields] OR GSM4441710\\n [All Fields] OR GSM3426259\\n [All Fields] OR GSM3930214\\n [All Fields] OR GSM5746049\\n [All Fields] OR GSM3212887\\n [All Fields] OR GSM2936366\\n [All Fields] OR GSM4027555\\n [All Fields] OR GSM5228985\\n [All Fields] OR GSM5772859\\n [All Fields] OR GSM5282126\\n [All Fields] OR GSM5769497\\n [All Fields] OR GSM5379717\\n [All Fields] OR GSM3930331\\n [All Fields] OR GSM4956217\\n [All Fields] OR GSM2831450\\n [All Fields] OR GSM6617163\\n [All Fields] OR GSM6528177\\n [All Fields] OR GSM3018477\\n [All Fields] OR GSM4061166\\n [All Fields] OR GSM5270132\\n [All Fields] OR GSM5905687\\n [All Fields] OR GSM3831283\\n [All Fields] OR GSM4221688\\n [All Fields] OR GSM3486881\\n [All Fields] OR GSM5866071\\n [All Fields] OR GSM5425946\\n [All Fields] OR GSM5270335\\n [All Fields] OR GSM5270564\\n [All Fields] OR GSM4560473\\n [All Fields] OR GSM5772843\\n [All Fields] OR GSM4836154\\n [All Fields] OR GSM4061124\\n [All Fields] OR GSM5617798\\n [All Fields] OR GSM3212904\\n [All Fields] OR GSM5270105\\n [All Fields] OR GSM5746137\\n [All Fields] OR GSM3106285\\n [All Fields] OR GSM5680699\\n [All Fields] OR GSM5777127\\n [All Fields] OR GSM5777124\\n [All Fields] OR GSM5024547\\n [All Fields] OR GSM3426249\\n [All Fields] OR GSM5270114\\n [All Fields] OR GSM4447228\\n [All Fields] OR GSM2829022\\n [All Fields] OR GSM2774008\\n [All Fields] OR GSM4836118\\n [All Fields] OR GSM6206937\\n [All Fields] OR GSM4053405\\n [All Fields] OR GSM5454893\\n [All Fields] OR GSM3045220\\n [All Fields] OR GSM5455379\\n [All Fields] OR GSM5270700\\n [All Fields] OR GSM3240309\\n [All Fields] OR GSM4441701\\n [All Fields] OR GSM2774003\\n [All Fields] OR GSM5503587\\n [All Fields] OR GSM3106273\\n [All Fields] OR GSM6528182\\n [All Fields] OR GSM4629082\\n [All Fields] OR GSM4613483\\n [All Fields] OR GSM5340906\\n [All Fields] OR GSM5270605\\n [All Fields] OR GSM5504653\\n [All Fields] OR GSM5819312\\n [All Fields] OR GSM5516902\\n [All Fields] OR GSM3045196\\n [All Fields] OR GSM5905663\\n [All Fields] OR GSM5533446\\n [All Fields] OR GSM5282141\\n [All Fields] OR GSM3664987\\n [All Fields] OR GSM4195086\\n [All Fields] OR GSM5269907\\n [All Fields] OR GSM5905734\\n [All Fields] OR GSM4217578\\n [All Fields] OR GSM3045214\\n [All Fields] OR GSM4836117\\n [All Fields] OR GSM5282138\\n [All Fields] OR GSM5394205\\n [All Fields] OR GSM5270195\\n [All Fields] OR GSM5270552\\n [All Fields] OR GSM5701999\\n [All Fields] OR GSM3263149\\n [All Fields] OR GSM5270691\\n [All Fields] OR GSM2831393\\n [All Fields] OR GSM2831468\\n [All Fields] OR GSM5515167\\n [All Fields] OR GSM5282051\\n [All Fields] OR GSM5270313\\n [All Fields] OR GSM5227758\\n [All Fields] OR GSM4441803\\n [All Fields] OR GSM4061138\\n [All Fields] OR GSM5269959\\n [All Fields] OR GSM2816614\\n [All Fields] OR GSM3263168\\n [All Fields] OR GSM6080944\\n [All Fields] OR GSM5769486\\n [All Fields] OR GSM5533543\\n [All Fields] OR GSM3714385\\n [All Fields] OR GSM3930234\\n [All Fields] OR GSM5454984\\n [All Fields] OR GSM3178969\\n [All Fields] OR GSM5433998\\n [All Fields] OR GSM2829030\\n [All Fields] OR GSM4560487\\n [All Fields] OR GSM4512139\\n [All Fields] OR GSM5269794\\n [All Fields] OR GSM3930243\\n [All Fields] OR GSM5373216\\n [All Fields] OR GSM4441823\\n [All Fields] OR GSM4093604\\n [All Fields] OR GSM5282118\\n [All Fields] OR GSM5533552\\n [All Fields] OR GSM5340932\\n [All Fields] OR GSM3930268\\n [All Fields] OR GSM4061135\\n [All Fields] OR GSM3103910\\n [All Fields] OR GSM4836292\\n [All Fields] OR GSM4332982\\n [All Fields] OR GSM5226558\\n [All Fields] OR GSM4629068\\n [All Fields] OR GSM3897560\\n [All Fields] OR GSM3930265\\n [All Fields] OR GSM5664130\\n [All Fields] OR GSM3486870\\n [All Fields] OR GSM5777107\\n [All Fields] OR GSM5379705\\n [All Fields] OR GSM3676062\\n [All Fields] OR GSM4948219\\n [All Fields] OR GSM5664106\\n [All Fields] OR GSM4836231\\n [All Fields] OR GSM4851910\\n [All Fields] OR GSM5866079\\n [All Fields] OR GSM5270467\\n [All Fields] OR GSM5799998\\n [All Fields] OR GSM4629116\\n [All Fields] OR GSM4061187\\n [All Fields] OR GSM5238586\\n [All Fields] OR GSM4735749\\n [All Fields] OR GSM2572565\\n [All Fields] OR GSM3106279\\n [All Fields] OR GSM3172727\\n [All Fields] OR GSM4002942\\n [All Fields] OR GSM5270696\\n [All Fields] OR GSM4061146\\n [All Fields] OR GSM5905676\\n [All Fields] OR GSM5066577\\n [All Fields] OR GSM5502006\\n [All Fields] OR GSM5571594\\n [All Fields] OR GSM4613462\\n [All Fields] OR GSM5888604\\n [All Fields] OR GSM3181427\\n [All Fields] OR GSM4753158\\n [All Fields] OR GSM4613517\\n [All Fields] OR GSM5270409\\n [All Fields] OR GSM3106293\\n [All Fields] OR GSM4217589\\n [All Fields] OR GSM5533478\\n [All Fields] OR GSM3181440\\n [All Fields] OR GSM4836213\\n [All Fields] OR GSM5769498\\n [All Fields] OR GSM5269725\\n [All Fields] OR GSM4761269\\n [All Fields] OR GSM5777095\\n [All Fields] OR GSM2645354\\n [All Fields] OR GSM5508185\\n [All Fields] OR GSM4002966\\n [All Fields] OR GSM4736147\\n [All Fields] OR GSM5226549\\n [All Fields] OR GSM4027560\\n [All Fields] OR GSM2439225\\n [All Fields] OR GSM4441711\\n [All Fields] OR GSM3639222\\n [All Fields] OR GSM5270539\\n [All Fields] OR GSM3377441\\n [All Fields] OR GSM4658091\\n [All Fields] OR GSM5664104\\n [All Fields] OR GSM4214157\\n [All Fields] OR GSM5617806\\n [All Fields] OR GSM4761263\\n [All Fields] OR GSM5270079\\n [All Fields] OR GSM4061049\\n [All Fields] OR GSM5777116\\n [All Fields] OR GSM4613586\\n [All Fields] OR GSM5270338\\n [All Fields] OR GSM5628875\\n [All Fields] OR GSM4563903\\n [All Fields] OR GSM4002968\\n [All Fields] OR GSM5379677\\n [All Fields] OR GSM4836115\\n [All Fields] OR GSM5277133\\n [All Fields] OR GSM4518157\\n [All Fields] OR GSM2572619\\n [All Fields] OR GSM5365319\\n [All Fields] OR GSM5800033\\n [All Fields] OR GSM5628866\\n [All Fields] OR GSM6508521\\n [All Fields] OR GSM4736181\\n [All Fields] OR GSM4836309\\n [All Fields] OR GSM5655532\\n [All Fields] OR GSM4141991\\n [All Fields] OR GSM5905654\\n [All Fields] OR GSM5213489\\n [All Fields] OR GSM5270681\\n [All Fields] OR GSM5270791\\n [All Fields] OR GSM5282148\\n [All Fields] OR GSM5269993\\n [All Fields] OR GSM5746237\\n [All Fields] OR GSM2752709\\n [All Fields] OR GSM5905684\\n [All Fields] OR GSM5269930\\n [All Fields] OR GSM5420205\\n [All Fields] OR GSM5866080\\n [All Fields] OR GSM3597197\\n [All Fields] OR GSM4447218\\n [All Fields] OR GSM4221704\\n [All Fields] OR GSM2831443\\n [All Fields] OR GSM2572600\\n [All Fields] OR GSM4629105\\n [All Fields] OR GSM4613563\\n [All Fields] OR GSM3664996\\n [All Fields] OR GSM4441793\\n [All Fields] OR GSM4836111\\n [All Fields] OR GSM6210121\\n [All Fields] OR GSM4221705\\n [All Fields] OR GSM2572659\\n [All Fields] OR GSM5533495\\n [All Fields] OR GSM4836199\\n [All Fields] OR GSM4547536\\n [All Fields] OR GSM4512144\\n [All Fields] OR GSM3444789\\n [All Fields] OR GSM5905728\\n [All Fields] OR GSM4613514\\n [All Fields] OR GSM4061175\\n [All Fields] OR GSM2705085\\n [All Fields] OR GSM4061089\\n [All Fields] OR GSM4221698\\n [All Fields] OR GSM5281672\\n [All Fields] OR GSM2829043\\n [All Fields] OR GSM4214143\\n [All Fields] OR GSM2829042\\n [All Fields] OR GSM3508596\\n [All Fields] OR GSM5746088\\n [All Fields] OR GSM4629142\\n [All Fields] OR GSM4792954\\n [All Fields] OR GSM5819304\\n [All Fields] OR GSM4761254\\n [All Fields] OR GSM4551943\\n [All Fields] OR GSM5819354\\n [All Fields] OR GSM3397788\\n [All Fields] OR GSM3902799\\n [All Fields] OR GSM4886798\\n [All Fields] OR GSM5819352\\n [All Fields] OR GSM4523653\\n [All Fields] OR GSM5746246\\n [All Fields] OR GSM4613590\\n [All Fields] OR GSM5029874\\n [All Fields] OR GSM5702005\\n [All Fields] OR GSM3930286\\n [All Fields] OR GSM4551791\\n [All Fields] OR GSM4061028\\n [All Fields] OR GSM4060971\\n [All Fields] OR GSM3930224\\n [All Fields] OR GSM4628278\\n [All Fields] OR GSM3455874\\n [All Fields] OR GSM5819323\\n [All Fields] OR GSM5270592\\n [All Fields] OR GSM6617164\\n [All Fields] OR GSM3103917\\n [All Fields] OR GSM2572677\\n [All Fields] OR GSM5270085\\n [All Fields] OR GSM5270387\\n [All Fields] OR GSM5270504\\n [All Fields] OR GSM2831395\\n [All Fields] OR GSM5270683\\n [All Fields] OR GSM5270728\\n [All Fields] OR GSM5270516\\n [All Fields] OR GSM5270673\\n [All Fields] OR GSM2830539\\n [All Fields] OR GSM5269812\\n [All Fields] OR GSM3376587\\n [All Fields] OR GSM3639228\\n [All Fields] OR GSM4027553\\n [All Fields] OR GSM5746180\\n [All Fields] OR GSM4836171\\n [All Fields] OR GSM5455001\\n [All Fields] OR GSM5269876\\n [All Fields] OR GSM3424974\\n [All Fields] OR GSM5269749\\n [All Fields] OR GSM4061040\\n [All Fields] OR GSM4613482\\n [All Fields] OR GSM5772822\\n [All Fields] OR GSM5270375\\n [All Fields] OR GSM4736151\\n [All Fields] OR GSM3486888\\n [All Fields] OR GSM5270658\\n [All Fields] OR GSM3172698\\n [All Fields] OR GSM4876536\\n [All Fields] OR GSM5905719\\n [All Fields] OR GSM5746041\\n [All Fields] OR GSM2831445\\n [All Fields] OR GSM5270558\\n [All Fields] OR GSM4061082\\n [All Fields] OR GSM4141934\\n [All Fields] OR GSM3930305\\n [All Fields] OR GSM2987658\\n [All Fields] OR GSM3106277\\n [All Fields] OR GSM5746074\\n [All Fields] OR GSM4735765\\n [All Fields] OR GSM2816629\\n [All Fields] OR GSM5228996\\n [All Fields] OR GSM4514005\\n [All Fields] OR GSM4447213\\n [All Fields] OR GSM4214724\\n [All Fields] OR GSM4836415\\n [All Fields] OR GSM3263212\\n [All Fields] OR GSM3106264\\n [All Fields] OR GSM2705051\\n [All Fields] OR GSM4551853\\n [All Fields] OR GSM4214150\\n [All Fields] OR GSM3426271\\n [All Fields] OR GSM5269871\\n [All Fields] OR GSM5066574\\n [All Fields] OR GSM5746185\\n [All Fields] OR GSM5269990\\n [All Fields] OR GSM5270095\\n [All Fields] OR GSM5269889\\n [All Fields] OR GSM4221695\\n [All Fields] OR GSM5270669\\n [All Fields] OR GSM5617835\\n [All Fields] OR GSM4563926\\n [All Fields] OR GSM3263197\\n [All Fields] OR GSM2705062\\n [All Fields] OR GSM5746034\\n [All Fields] OR GSM5270373\\n [All Fields] OR GSM4836182\\n [All Fields] OR GSM4332983\\n [All Fields] OR GSM4613489\\n [All Fields] OR GSM4560483\\n [All Fields] OR GSM2752693\\n [All Fields] OR GSM5270529\\n [All Fields] OR GSM5819346\\n [All Fields] OR GSM4871516\\n [All Fields] OR GSM5228983\\n [All Fields] OR GSM4332981\\n [All Fields] OR GSM5617815\\n [All Fields] OR GSM5029871\\n [All Fields] OR GSM4836050\\n [All Fields] OR GSM3263202\\n [All Fields] OR GSM5533494\\n [All Fields] OR GSM3901174\\n [All Fields] OR GSM5680688\\n [All Fields] OR GSM4141990\\n [All Fields] OR GSM3597244\\n [All Fields] OR GSM5463908\\n [All Fields] OR GSM2138337\\n [All Fields] OR GSM3714378\\n [All Fields] OR GSM3263213\\n [All Fields] OR GSM5261669\\n [All Fields] OR GSM5617796\\n [All Fields] OR GSM4141956\\n [All Fields] OR GSM5066588\\n [All Fields] OR GSM4333048\\n [All Fields] OR GSM4886806\\n [All Fields] OR GSM4836149\\n [All Fields] OR GSM5333780\\n [All Fields] OR GSM4876528\\n [All Fields] OR GSM5029828\\n [All Fields] OR GSM5503585\\n [All Fields] OR GSM5888600\\n [All Fields] OR GSM5270259\\n [All Fields] OR GSM5270596\\n [All Fields] OR GSM3240315\\n [All Fields] OR GSM4061097\\n [All Fields] OR GSM4072352\\n [All Fields] OR GSM4628272\\n [All Fields] OR GSM5394203\\n [All Fields] OR GSM5504663\\n [All Fields] OR GSM4486660\\n [All Fields] OR GSM5238603\\n [All Fields] OR GSM4523661\\n [All Fields] OR GSM5270664\\n [All Fields] OR GSM3452728\\n [All Fields] OR GSM5819326\\n [All Fields] OR GSM4563908\\n [All Fields] OR GSM4061069\\n [All Fields] OR GSM5270615\\n [All Fields] OR GSM3967123\\n [All Fields] OR GSM4629107\\n [All Fields] OR GSM5905738\\n [All Fields] OR GSM5281652\\n [All Fields] OR GSM5029777\\n [All Fields] OR GSM5269870\\n [All Fields] OR GSM5379650\\n [All Fields] OR GSM5270131\\n [All Fields] OR GSM5388183\\n [All Fields] OR GSM5800005\\n [All Fields] OR GSM5746157\\n [All Fields] OR GSM5066591\\n [All Fields] OR GSM4060969\\n [All Fields] OR GSM5905709\\n [All Fields] OR GSM2915178\\n [All Fields] OR GSM4214119\\n [All Fields] OR GSM3376543\\n [All Fields] OR GSM5800018\\n [All Fields] OR GSM2572631\\n [All Fields] OR GSM5269979\\n [All Fields] OR GSM5270284\\n [All Fields] OR GSM5269862\\n [All Fields] OR GSM3903795\\n [All Fields] OR GSM3902796\\n [All Fields] OR GSM3263173\\n [All Fields] OR GSM4563965\\n [All Fields] OR GSM3212832\\n [All Fields] OR GSM2831397\\n [All Fields] OR GSM4523663\\n [All Fields] OR GSM5905736\\n [All Fields] OR GSM5270272\\n [All Fields] OR GSM3377451\\n [All Fields] OR GSM3762806\\n [All Fields] OR GSM5455017\\n [All Fields] OR GSM5379673\\n [All Fields] OR GSM3376535\\n [All Fields] OR GSM6528187\\n [All Fields] OR GSM3391512\\n [All Fields] OR GSM5592673\\n [All Fields] OR GSM5905677\\n [All Fields] OR GSM4333022\\n [All Fields] OR GSM4061055\\n [All Fields] OR GSM4094647\\n [All Fields] OR GSM3032905\\n [All Fields] OR GSM4836366\\n [All Fields] OR GSM5269787\\n [All Fields] OR GSM3018467\\n [All Fields] OR GSM5455020\\n [All Fields] OR GSM5502007\\n [All Fields] OR GSM3676070\\n [All Fields] OR GSM5678433\\n [All Fields] OR GSM5819401\\n [All Fields] OR GSM3018501\\n [All Fields] OR GSM4836389\\n [All Fields] OR GSM4629067\\n [All Fields] OR GSM4061077\\n [All Fields] OR GSM5281669\\n [All Fields] OR GSM3018469\\n [All Fields] OR GSM3181443\\n [All Fields] OR GSM4060946\\n [All Fields] OR GSM4563969\\n [All Fields] OR GSM4441740\\n [All Fields] OR GSM4027530\\n [All Fields] OR GSM5270705\\n [All Fields] OR GSM3377439\\n [All Fields] OR GSM5281640\\n [All Fields] OR GSM4551839\\n [All Fields] OR GSM4613577\\n [All Fields] OR GSM3032913\\n [All Fields] OR GSM5227773\\n [All Fields] OR GSM5819322\\n [All Fields] OR GSM5227766\\n [All Fields] OR GSM4523660\\n [All Fields] OR GSM4629109\\n [All Fields] OR GSM5819311\\n [All Fields] OR GSM4513979\\n [All Fields] OR GSM4628279\\n [All Fields] OR GSM5746073\\n [All Fields] OR GSM3986365\\n [All Fields] OR GSM4214727\\n [All Fields] OR GSM4836236\\n [All Fields] OR GSM3059345\\n [All Fields] OR GSM2831375\\n [All Fields] OR GSM5665777\\n [All Fields] OR GSM5270000\\n [All Fields] OR GSM5270737\\n [All Fields] OR GSM5269954\\n [All Fields] OR GSM5270407\\n [All Fields] OR GSM4217583\\n [All Fields] OR GSM4002962\\n'"
      ]
     },
     "execution_count": 15,
     "metadata": {},
     "output_type": "execute_result"
    }
   ],
   "source": [
    "GSM_IDs_from_file = []\n",
    "\n",
    "# open file and read the content in a list\n",
    "with open(r'gsm_list.txt', 'r') as fp:\n",
    "    for line in fp:\n",
    "        GSM_IDs_from_file.append(line)\n",
    "\n",
    "tenth = round(len(GSM_IDs_from_file)/10)\n",
    "GSM_filters = ' [All Fields] OR '.join(GSM_IDs_from_file[0:tenth])\n",
    "GSM_filters"
   ]
  },
  {
   "cell_type": "code",
   "execution_count": 16,
   "id": "6794baee",
   "metadata": {},
   "outputs": [],
   "source": [
    "Entrez.email = \"zjiang@lji.org\"\n",
    "\n",
    "search_result = Entrez.esearch(db=\"biosample\", retmax=10000, term=GSM_filters)\n",
    "result = Entrez.read(search_result)"
   ]
  },
  {
   "cell_type": "markdown",
   "id": "b8403720",
   "metadata": {},
   "source": [
    "### Filter query result by looping through XML"
   ]
  },
  {
   "cell_type": "code",
   "execution_count": 17,
   "id": "411fc3a2",
   "metadata": {},
   "outputs": [],
   "source": [
    "# name\n",
    "# organism\n",
    "# biomaterial\n",
    "# disease\n",
    "# organ\n",
    "# celltype\n",
    "# sex\n",
    "# age\n",
    "# extdb_name\n",
    "# extdb_uuid\n",
    "\n",
    "    \n",
    "    \n",
    "# \tGSM4027555 and more\n",
    "#     <Attribute attribute_name=\"type\">Tumor</Attribute> # no\n",
    "# \t\t<Attribute attribute_name=\"relapse\">No</Attribute> # no\n",
    "# \t\t<Attribute attribute_name=\"gender\" harmonized_name=\"sex\" display_name=\"sex\">male</Attribute> # added\n",
    "# \t\t<Attribute attribute_name=\"age_days\">2338</Attribute> or timepoint # added\n",
    "# \t\t<Attribute attribute_name=\"Stage\">4</Attribute> # no\n",
    "\n",
    "# GSM6528200 and more\n",
    "# <Attribute attribute_name=\"disease state\" harmonized_name=\"disease\" display_name=\"disease\">HCC</Attribute> # added\n",
    "# <Attribute attribute_name=\"tissue\" harmonized_name=\"tissue\" display_name=\"tissue\">tumour</Attribute> # thinking\n",
    "\n",
    "# GSM3930313 and more\n",
    "# {'attribute_name': 'biological sample'}-->FHC should replace celltype # thinking"
   ]
  },
  {
   "cell_type": "code",
   "execution_count": null,
   "id": "d24f12b0",
   "metadata": {},
   "outputs": [],
   "source": [
    "cell_type_df = pd.DataFrame(columns=['GEO', 'name', 'organism', 'biomaterial', 'disease', 'organ',\n",
    "                                     'tissue', 'celltype', 'strain', 'sex', 'age',\n",
    "                                     'genotype', 'treatment', 'antibody', 'extdb_name',\n",
    "                                     'extdb_uuid', 'other'])\n",
    "\n",
    "i = 0\n",
    "for Id in result[\"IdList\"]:\n",
    "    handle = Entrez.esummary(db=\"biosample\", id=Id, retmode=\"xml\") # get summary of this entry on GEO datasets\n",
    "    entry = Entrez.read(handle)\n",
    "    data = entry[\"DocumentSummarySet\"][\"DocumentSummary\"][0][\"SampleData\"]\n",
    "    myroot = ET.fromstring(data)\n",
    "    other_fields = []\n",
    "    gsm_data = {\n",
    "        \"GEO\":\"\",\n",
    "        \"name\":\"\",\n",
    "        \"organism\":\"\",\n",
    "        \"biomaterial\":\"\",\n",
    "        \"disease\": \"\",\n",
    "        \"organ\":\"\",\n",
    "        \"tissue\":\"\",\n",
    "        \"celltype\":\"\",\n",
    "        \"strain\":\"\",\n",
    "        \"sex\":\"\",\n",
    "        \"age\":\"\",\n",
    "        \"genotype\":\"\",\n",
    "        \"treatment\":\"\",\n",
    "        \"antibody\":\"\",\n",
    "        \"extdb_name\":\"\",\n",
    "        \"extdb_uuid\":\"\",\n",
    "        \"other\":\"\"\n",
    "        }\n",
    "\n",
    "    for elem in myroot:\n",
    "        for subelem in elem:\n",
    "            if ('db\\': \\'GEO' in str(subelem.attrib)):\n",
    "                gsm_data[\"GEO\"] = subelem.text\n",
    "            if ('cell_line' in str(subelem.attrib) or \\\n",
    "                'biological sample' in str(subelem.attrib) or \\\n",
    "                'parental cell line' in str(subelem.attrib)):\n",
    "                if gsm_data[\"name\"] == \"\":\n",
    "                    gsm_data[\"name\"] = subelem.text\n",
    "            if \"taxonomy_name\" in str(subelem.attrib):\n",
    "                gsm_data[\"organism\"] = subelem.attrib[\"taxonomy_name\"]\n",
    "            if ('source_name' in str(subelem.attrib)): # organ info could be here\n",
    "                gsm_data[\"biomaterial\"] = subelem.text\n",
    "            if ('disease' in str(subelem.attrib) or \\\n",
    "                'cancer type' in str(subelem.attrib)):\n",
    "                gsm_data[\"disease\"] = subelem.text\n",
    "            if ('organ' in str(subelem.attrib)): # organ info could be here\n",
    "                gsm_data[\"organ\"] = subelem.text\n",
    "            if ('tissue' in str(subelem.attrib)): # organ info could be here\n",
    "                gsm_data[\"tissue\"] = subelem.text\n",
    "            if ('cell_type' in str(subelem.attrib)): # organ info could be here\n",
    "                gsm_data[\"celltype\"] = subelem.text\n",
    "            if ('strain' in str(subelem.attrib)):\n",
    "                gsm_data[\"strain\"] = subelem.text\n",
    "            if ('gender' in str(subelem.attrib) or \\\n",
    "                '\\'sex\\'' in str(subelem.attrib)):\n",
    "                gsm_data[\"sex\"] = subelem.text\n",
    "            if ('\\'age\\'' in str(subelem.attrib) or \\\n",
    "                '\\'time' in str(subelem.attrib) or \\\n",
    "                '\\'differentiation' in str(subelem.attrib) or \\\n",
    "                'differentiation\\'' in str(subelem.attrib)):\n",
    "                gsm_data[\"age\"] = subelem.text\n",
    "            if ('genotype' in str(subelem.attrib)):\n",
    "                gsm_data[\"genotype\"] = subelem.text\n",
    "            if ('treatment' in str(subelem.attrib)):\n",
    "                gsm_data[\"treatment\"] = subelem.text\n",
    "            if ('antibody' in str(subelem.attrib)):\n",
    "                gsm_data[\"antibody\"] = subelem.text\n",
    "            if (len(str(subelem.attrib)) > 2 and \\\n",
    "                'db\\': \\'GEO' not in str(subelem.attrib) and \\\n",
    "                'cell_line' not in str(subelem.attrib) and \\\n",
    "                'biological sample' not in str(subelem.attrib) and \\\n",
    "                'parental cell line' not in str(subelem.attrib) and \\\n",
    "                'taxonomy_name' not in str(subelem.attrib) and \\\n",
    "                'source_name' not in str(subelem.attrib) and \\\n",
    "                'disease' not in str(subelem.attrib) and \\\n",
    "                'cancer type' not in str(subelem.attrib) and \\\n",
    "                'organ' not in str(subelem.attrib) and \\\n",
    "                'tissue' not in str(subelem.attrib) and \\\n",
    "                'cell_type' not in str(subelem.attrib) and \\\n",
    "                'strain' not in str(subelem.attrib) and \\\n",
    "                'gender' not in str(subelem.attrib) and \\\n",
    "                '\\'sex\\'' not in str(subelem.attrib) and \\\n",
    "                '\\'age\\'' not in str(subelem.attrib) and \\\n",
    "                '\\'time' not in str(subelem.attrib) and \\\n",
    "                '\\'differentiation' not in str(subelem.attrib) and \\\n",
    "                'differentiation\\'' not in str(subelem.attrib) and \\\n",
    "                'genotype' not in str(subelem.attrib) and \\\n",
    "                'treatment' not in str(subelem.attrib) and \\\n",
    "                'antibody' not in str(subelem.attrib) and \\\n",
    "                'url' not in str(subelem.attrib) and \\\n",
    "                'BioSample' not in str(subelem.attrib) and \\\n",
    "                'SRA' not in str(subelem.attrib) and \\\n",
    "                'bioproject' not in str(subelem.attrib)\n",
    "               ):\n",
    "                other_fields.append(str(subelem.attrib) + \"-->\" + subelem.text)\n",
    "    gsm_data[\"other\"] = '|'.join(other_fields)\n",
    "    cell_type_df = cell_type_df.append(gsm_data, ignore_index=True)\n",
    "    i += 1\n",
    "    if (i % 100 == 0):\n",
    "        print(\"finished on GSM number\", i)"
   ]
  },
  {
   "cell_type": "markdown",
   "id": "8e66bc73",
   "metadata": {},
   "source": [
    "### Save query result filtered table"
   ]
  },
  {
   "cell_type": "code",
   "execution_count": null,
   "id": "c37ab216",
   "metadata": {},
   "outputs": [],
   "source": [
    "today = date.today()\n",
    "date_str = today.strftime(\"%Y_%m_%d\")\n",
    "\n",
    "# determining current hour and minute\n",
    "now = datetime.now()\n",
    "time_str = now.strftime(\"%H_%M\")\n",
    "\n",
    "# setting the output filename\n",
    "output = \"GEO_Query_cell_type.{}_{}\".format(date_str, time_str)\n",
    "cell_type_df.to_excel(output + \".xlsx\", index=False)"
   ]
  },
  {
   "cell_type": "markdown",
   "id": "c5a70117",
   "metadata": {},
   "source": [
    "Sample ID: This is the unique identifier for each sample in the database. You can search for samples by their ID using this field.\n",
    "\n",
    "Organism: This field allows you to search for samples from a specific organism, such as human, mouse, or yeast.\n",
    "\n",
    "Tissue: This field allows you to search for samples based on their tissue type, such as liver, brain, or heart.\n",
    "\n",
    "Disease state: This field allows you to search for samples based on their disease state, such as cancer, diabetes, or autoimmune disease.\n",
    "\n",
    "Cell type: This field allows you to search for samples based on their cell type, such as fibroblasts, macrophages, or stem cells.\n",
    "\n",
    "Developmental stage: This field allows you to search for samples based on their developmental stage, such as embryonic, fetal, or adult.\n",
    "\n",
    "Experimental design: This field allows you to search for samples based on the type of experiment they were used in, such as microarray, RNA-seq, or ChIP-seq."
   ]
  },
  {
   "cell_type": "markdown",
   "id": "6e92cd14",
   "metadata": {},
   "source": [
    "### GEO BioSample query result for one GSM"
   ]
  },
  {
   "cell_type": "code",
   "execution_count": 14,
   "id": "c473797b",
   "metadata": {},
   "outputs": [
    {
     "name": "stdout",
     "output_type": "stream",
     "text": [
      "<BioSample access=\"public\" publication_date=\"2020-08-25T00:00:00.000\" last_update=\"2020-08-25T21:58:16.828\" submission_date=\"2019-07-08T09:36:07.766\" id=\"12230117\" accession=\"SAMN12230117\">   <Ids>     <Id db=\"BioSample\" is_primary=\"1\">SAMN12230117</Id>     <Id db=\"GEO\">GSM3930290</Id>   </Ids>   <Description>     <Title>MGH5328_HiC</Title>     <Organism taxonomy_id=\"9606\" taxonomy_name=\"Homo sapiens\">       <OrganismName>Homo sapiens</OrganismName>     </Organism>   </Description>   <Owner>     <Name>Data Sciences, DANA-FARBER CANCER INSTITUTE INC</Name>     <Contacts>       <Contact email=\"ALEJANDRO_REYES@dfci.harvard.edu\">         <Name>           <First>Alejandro</First>           <Last>Reyes</Last>         </Name>       </Contact>     </Contacts>   </Owner>   <Models>     <Model>Generic</Model>   </Models>   <Package display_name=\"Generic\">Generic.1.0</Package>   <Attributes>     <Attribute attribute_name=\"source_name\" harmonized_name=\"source_name\" display_name=\"source name\">Colon tumor</Attribute>     <Attribute attribute_name=\"tissue\" harmonized_name=\"tissue\" display_name=\"tissue\">Colon tumor</Attribute>     <Attribute attribute_name=\"biological sample\">MGH5328</Attribute>     <Attribute attribute_name=\"treatment\" harmonized_name=\"treatment\" display_name=\"treatment\">NA</Attribute>   </Attributes>   <Links>     <Link type=\"url\" label=\"GEO Sample GSM3930290\">https://www.ncbi.nlm.nih.gov/geo/query/acc.cgi?acc=GSM3930290</Link>     <Link type=\"entrez\" target=\"bioproject\" label=\"PRJNA553150\">553150</Link>   </Links>   <Status status=\"live\" when=\"2020-08-25T21:58:16.828\"/> </BioSample>  \n",
      "\n",
      "{'db': 'BioSample', 'is_primary': '1'} --> SAMN12230117\n",
      "{'db': 'GEO'} --> GSM3930290\n",
      "{} --> MGH5328_HiC\n",
      "{'taxonomy_id': '9606', 'taxonomy_name': 'Homo sapiens'} --> Homo sapiens\n",
      "{} --> Data Sciences, DANA-FARBER CANCER INSTITUTE INC\n",
      "{} -->        \n",
      "{} --> Generic\n",
      "{'attribute_name': 'source_name', 'harmonized_name': 'source_name', 'display_name': 'source name'} --> Colon tumor\n",
      "{'attribute_name': 'tissue', 'harmonized_name': 'tissue', 'display_name': 'tissue'} --> Colon tumor\n",
      "{'attribute_name': 'biological sample'} --> MGH5328\n",
      "{'attribute_name': 'treatment', 'harmonized_name': 'treatment', 'display_name': 'treatment'} --> NA\n",
      "{'type': 'url', 'label': 'GEO Sample GSM3930290'} --> https://www.ncbi.nlm.nih.gov/geo/query/acc.cgi?acc=GSM3930290\n",
      "{'type': 'entrez', 'target': 'bioproject', 'label': 'PRJNA553150'} --> 553150\n"
     ]
    }
   ],
   "source": [
    "Entrez.email = \"your_email@example.com\"  # Provide your email address\n",
    "\n",
    "# Retrieve all the BioSample records\n",
    "handle = Entrez.esearch(db=\"biosample\", term=\"GSM3930290\")\n",
    "records = Entrez.read(handle)\n",
    "\n",
    "# Iterate through all the records and print the fields and values\n",
    "for record in records[\"IdList\"]:\n",
    "    handle = Entrez.esummary(db=\"biosample\", id=record)\n",
    "    record = Entrez.read(handle)\n",
    "    data = record[\"DocumentSummarySet\"][\"DocumentSummary\"][0][\"SampleData\"]\n",
    "    print(data, \"\\n\")\n",
    "    myroot = ET.fromstring(data)\n",
    "    for elem in myroot:\n",
    "        for subelem in elem:\n",
    "            if \"taxonomy_name\" in str(subelem.attrib):\n",
    "                print(subelem.attrib, \"-->\", subelem.attrib[\"taxonomy_name\"])\n",
    "            else:\n",
    "                print(subelem.attrib, \"-->\", subelem.text)"
   ]
  },
  {
   "cell_type": "markdown",
   "id": "c7f1dce9",
   "metadata": {},
   "source": [
    "### Dict of organs and their synynoms for classification"
   ]
  },
  {
   "cell_type": "code",
   "execution_count": null,
   "id": "a298f6a9",
   "metadata": {},
   "outputs": [],
   "source": [
    "# organ names are based on ENCODE > data > experiment matrix and common organ names returned by ChatGPT\n",
    "dic = {\n",
    "    \"blood\": [\"vessel\"],\n",
    "    \"blodily fluid\": [],\n",
    "    \"epithelium\": [\"skin\", \"epi\"],\n",
    "    \"brain\": [],\n",
    "    \"endocrine gland\": [\"thyroid gland\"],\n",
    "    \"exocrine gland\": [\"lymph node\"],\n",
    "    \"liver\": [],\n",
    "    \"heart\": [],\n",
    "    \"embryo\": [],\n",
    "    \"connective tissue\": [],\n",
    "    \"musculature of body\": [\"muscul\"],\n",
    "    \"lung\": [],\n",
    "    \"intestine\": [],\n",
    "    \"kidney\": [],\n",
    "    \"bone marrow\": [],\n",
    "    \"colon\": [],\n",
    "    \"spleen\": [],\n",
    "    \"stomach\": [],\n",
    "    \"placenta\": [],\n",
    "    \"pancreas\": [],\n",
    "    \"bladder\": [],\n",
    "    \"reproductive organs\": [\"uterus\", \"penis\", \"ovar\", \"test\"],\n",
    "}\n",
    "# nerves?"
   ]
  },
  {
   "cell_type": "code",
   "execution_count": null,
   "id": "0509dd21",
   "metadata": {},
   "outputs": [],
   "source": []
  },
  {
   "cell_type": "code",
   "execution_count": null,
   "id": "fed0c88e",
   "metadata": {},
   "outputs": [],
   "source": []
  },
  {
   "cell_type": "code",
   "execution_count": null,
   "id": "838f76b8",
   "metadata": {},
   "outputs": [],
   "source": []
  }
 ],
 "metadata": {
  "kernelspec": {
   "display_name": "Python 3 (ipykernel)",
   "language": "python",
   "name": "python3"
  },
  "language_info": {
   "codemirror_mode": {
    "name": "ipython",
    "version": 3
   },
   "file_extension": ".py",
   "mimetype": "text/x-python",
   "name": "python",
   "nbconvert_exporter": "python",
   "pygments_lexer": "ipython3",
   "version": "3.9.12"
  }
 },
 "nbformat": 4,
 "nbformat_minor": 5
}
