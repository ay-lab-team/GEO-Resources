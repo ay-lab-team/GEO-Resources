{
 "cells": [
  {
   "cell_type": "code",
   "execution_count": 3,
   "id": "ee429c1c",
   "metadata": {},
   "outputs": [
    {
     "name": "stderr",
     "output_type": "stream",
     "text": [
      "2022-12-15 21:59:04 Zichens-MBP.attlocal.net metapub.config[63749] WARNING NCBI_API_KEY was not set.\n"
     ]
    }
   ],
   "source": [
    "import argparse\n",
    "from Bio import Entrez\n",
    "\n",
    "import os \n",
    "import warnings\n",
    "warnings.simplefilter(action='ignore', category=FutureWarning)\n",
    "import pandas as pd\n",
    "from datetime import date\n",
    "from datetime import datetime\n",
    "import numpy as np\n",
    "import re\n",
    "from metapub import FindIt\n",
    "from metapub.convert import pmid2doi\n",
    "from metapub.convert import doi2pmid\n",
    "from metapub import PubMedFetcher\n",
    "\n",
    "import xml.etree.ElementTree as ET\n",
    "import ssl\n",
    "\n",
    "import ssl\n",
    "ssl._create_default_https_context = ssl._create_unverified_context\n",
    "\n",
    "import argparse\n",
    "from Bio import Entrez\n",
    "\n",
    "ssl._create_default_https_context = ssl._create_unverified_context"
   ]
  },
  {
   "cell_type": "markdown",
   "id": "1ac51ef2",
   "metadata": {},
   "source": [
    "## Query the NCBI database"
   ]
  },
  {
   "cell_type": "code",
   "execution_count": 3,
   "id": "fbd0ff62",
   "metadata": {},
   "outputs": [],
   "source": [
    "# use one of the following search queries/filters\n",
    "# filters = \"HiChIP[All Fields] AND \\\"gse\\\"[Filter]\" # the whole notebook will take around 7 min to run\n",
    "# filters = \"HiChIP[All Fields] AND (\\\"gse\\\"[Filter] AND (\\\"Homo sapiens\\\"[Organism] OR \\\"Mus musculus\\\"[Organism]))\n",
    "# filters = \"HiChIP[All Fields] AND (\\\"Homo sapiens\\\"[Organism] AND \\\"gse\\\"[Filter])\"\n",
    "# filters = \"HiChIP[All Fields] AND (\\\"Homo sapiens\\\"[Organism] AND \\\"published last year\\\"[Filter]) AND \\\"gse\\\"[Filter]\" # 2 min\n",
    "# filters = \"HiChIP[All Fields] AND (\\\"Mus musculus\\\"[Organism] AND \\\"gse\\\"[Filter])\"\n",
    "\n",
    "filters = \"HiChIP[All Fields] AND (\\\"gse\\\"[Filter] AND (\\\"Homo sapiens\\\"[Organism] OR \\\"Mus musculus\\\"[Organism]))\"\n",
    "\n",
    "# set a dummy email \n",
    "Entrez.email = \"zjiang@lji.org\"\n",
    "\n",
    "# query the NCBI database \n",
    "search_result = Entrez.esearch(db=\"gds\", retmax=10000, term=filters)\n",
    "result = Entrez.read(search_result)\n",
    "\n",
    "# creating a regex to extract pubmed IDs\n",
    "PubMedIds_pattern = re.compile('[0123456789]+')"
   ]
  },
  {
   "cell_type": "code",
   "execution_count": 4,
   "id": "d53a4689",
   "metadata": {},
   "outputs": [
    {
     "ename": "KeyboardInterrupt",
     "evalue": "",
     "output_type": "error",
     "traceback": [
      "\u001b[0;31m---------------------------------------------------------------------------\u001b[0m",
      "\u001b[0;31mKeyboardInterrupt\u001b[0m                         Traceback (most recent call last)",
      "\u001b[0;32m/var/folders/jk/ltpq08_128l0byf2mw4yytv40000gn/T/ipykernel_63634/624997295.py\u001b[0m in \u001b[0;36m<module>\u001b[0;34m\u001b[0m\n\u001b[1;32m      2\u001b[0m \u001b[0mdictionary_lst\u001b[0m \u001b[0;34m=\u001b[0m \u001b[0;34m[\u001b[0m\u001b[0;34m]\u001b[0m\u001b[0;34m\u001b[0m\u001b[0;34m\u001b[0m\u001b[0m\n\u001b[1;32m      3\u001b[0m \u001b[0;32mfor\u001b[0m \u001b[0mId\u001b[0m \u001b[0;32min\u001b[0m \u001b[0mresult\u001b[0m\u001b[0;34m[\u001b[0m\u001b[0;34m\"IdList\"\u001b[0m\u001b[0;34m]\u001b[0m\u001b[0;34m:\u001b[0m\u001b[0;34m\u001b[0m\u001b[0;34m\u001b[0m\u001b[0m\n\u001b[0;32m----> 4\u001b[0;31m     \u001b[0mhandle\u001b[0m \u001b[0;34m=\u001b[0m \u001b[0mEntrez\u001b[0m\u001b[0;34m.\u001b[0m\u001b[0mesummary\u001b[0m\u001b[0;34m(\u001b[0m\u001b[0mdb\u001b[0m\u001b[0;34m=\u001b[0m\u001b[0;34m\"gds\"\u001b[0m\u001b[0;34m,\u001b[0m \u001b[0mid\u001b[0m\u001b[0;34m=\u001b[0m\u001b[0mId\u001b[0m\u001b[0;34m,\u001b[0m \u001b[0mretmode\u001b[0m\u001b[0;34m=\u001b[0m\u001b[0;34m\"xml\"\u001b[0m\u001b[0;34m)\u001b[0m \u001b[0;31m# get summary of this entry on GEO datasets\u001b[0m\u001b[0;34m\u001b[0m\u001b[0;34m\u001b[0m\u001b[0m\n\u001b[0m\u001b[1;32m      5\u001b[0m     \u001b[0mentry\u001b[0m \u001b[0;34m=\u001b[0m \u001b[0mEntrez\u001b[0m\u001b[0;34m.\u001b[0m\u001b[0mparse\u001b[0m\u001b[0;34m(\u001b[0m\u001b[0mhandle\u001b[0m\u001b[0;34m)\u001b[0m\u001b[0;34m\u001b[0m\u001b[0;34m\u001b[0m\u001b[0m\n\u001b[1;32m      6\u001b[0m     \u001b[0;32mfor\u001b[0m \u001b[0mcolumn\u001b[0m \u001b[0;32min\u001b[0m \u001b[0mentry\u001b[0m\u001b[0;34m:\u001b[0m\u001b[0;34m\u001b[0m\u001b[0;34m\u001b[0m\u001b[0m\n",
      "\u001b[0;32m~/miniconda3/lib/python3.9/site-packages/Bio/Entrez/__init__.py\u001b[0m in \u001b[0;36mesummary\u001b[0;34m(**keywds)\u001b[0m\n\u001b[1;32m    340\u001b[0m     \u001b[0mvariables\u001b[0m \u001b[0;34m=\u001b[0m \u001b[0;34m{\u001b[0m\u001b[0;34m}\u001b[0m\u001b[0;34m\u001b[0m\u001b[0;34m\u001b[0m\u001b[0m\n\u001b[1;32m    341\u001b[0m     \u001b[0mvariables\u001b[0m\u001b[0;34m.\u001b[0m\u001b[0mupdate\u001b[0m\u001b[0;34m(\u001b[0m\u001b[0mkeywds\u001b[0m\u001b[0;34m)\u001b[0m\u001b[0;34m\u001b[0m\u001b[0;34m\u001b[0m\u001b[0m\n\u001b[0;32m--> 342\u001b[0;31m     \u001b[0;32mreturn\u001b[0m \u001b[0m_open\u001b[0m\u001b[0;34m(\u001b[0m\u001b[0mcgi\u001b[0m\u001b[0;34m,\u001b[0m \u001b[0mvariables\u001b[0m\u001b[0;34m)\u001b[0m\u001b[0;34m\u001b[0m\u001b[0;34m\u001b[0m\u001b[0m\n\u001b[0m\u001b[1;32m    343\u001b[0m \u001b[0;34m\u001b[0m\u001b[0m\n\u001b[1;32m    344\u001b[0m \u001b[0;34m\u001b[0m\u001b[0m\n",
      "\u001b[0;32m~/miniconda3/lib/python3.9/site-packages/Bio/Entrez/__init__.py\u001b[0m in \u001b[0;36m_open\u001b[0;34m(cgi, params, post, ecitmatch)\u001b[0m\n\u001b[1;32m    604\u001b[0m                 \u001b[0mhandle\u001b[0m \u001b[0;34m=\u001b[0m \u001b[0murlopen\u001b[0m\u001b[0;34m(\u001b[0m\u001b[0mcgi\u001b[0m\u001b[0;34m,\u001b[0m \u001b[0mdata\u001b[0m\u001b[0;34m=\u001b[0m\u001b[0moptions\u001b[0m\u001b[0;34m.\u001b[0m\u001b[0mencode\u001b[0m\u001b[0;34m(\u001b[0m\u001b[0;34m\"utf8\"\u001b[0m\u001b[0;34m)\u001b[0m\u001b[0;34m)\u001b[0m\u001b[0;34m\u001b[0m\u001b[0;34m\u001b[0m\u001b[0m\n\u001b[1;32m    605\u001b[0m             \u001b[0;32melse\u001b[0m\u001b[0;34m:\u001b[0m\u001b[0;34m\u001b[0m\u001b[0;34m\u001b[0m\u001b[0m\n\u001b[0;32m--> 606\u001b[0;31m                 \u001b[0mhandle\u001b[0m \u001b[0;34m=\u001b[0m \u001b[0murlopen\u001b[0m\u001b[0;34m(\u001b[0m\u001b[0mcgi\u001b[0m\u001b[0;34m)\u001b[0m\u001b[0;34m\u001b[0m\u001b[0;34m\u001b[0m\u001b[0m\n\u001b[0m\u001b[1;32m    607\u001b[0m         \u001b[0;32mexcept\u001b[0m \u001b[0mHTTPError\u001b[0m \u001b[0;32mas\u001b[0m \u001b[0mexception\u001b[0m\u001b[0;34m:\u001b[0m\u001b[0;34m\u001b[0m\u001b[0;34m\u001b[0m\u001b[0m\n\u001b[1;32m    608\u001b[0m             \u001b[0;31m# Reraise if the final try fails\u001b[0m\u001b[0;34m\u001b[0m\u001b[0;34m\u001b[0m\u001b[0m\n",
      "\u001b[0;32m~/miniconda3/lib/python3.9/urllib/request.py\u001b[0m in \u001b[0;36murlopen\u001b[0;34m(url, data, timeout, cafile, capath, cadefault, context)\u001b[0m\n\u001b[1;32m    212\u001b[0m     \u001b[0;32melse\u001b[0m\u001b[0;34m:\u001b[0m\u001b[0;34m\u001b[0m\u001b[0;34m\u001b[0m\u001b[0m\n\u001b[1;32m    213\u001b[0m         \u001b[0mopener\u001b[0m \u001b[0;34m=\u001b[0m \u001b[0m_opener\u001b[0m\u001b[0;34m\u001b[0m\u001b[0;34m\u001b[0m\u001b[0m\n\u001b[0;32m--> 214\u001b[0;31m     \u001b[0;32mreturn\u001b[0m \u001b[0mopener\u001b[0m\u001b[0;34m.\u001b[0m\u001b[0mopen\u001b[0m\u001b[0;34m(\u001b[0m\u001b[0murl\u001b[0m\u001b[0;34m,\u001b[0m \u001b[0mdata\u001b[0m\u001b[0;34m,\u001b[0m \u001b[0mtimeout\u001b[0m\u001b[0;34m)\u001b[0m\u001b[0;34m\u001b[0m\u001b[0;34m\u001b[0m\u001b[0m\n\u001b[0m\u001b[1;32m    215\u001b[0m \u001b[0;34m\u001b[0m\u001b[0m\n\u001b[1;32m    216\u001b[0m \u001b[0;32mdef\u001b[0m \u001b[0minstall_opener\u001b[0m\u001b[0;34m(\u001b[0m\u001b[0mopener\u001b[0m\u001b[0;34m)\u001b[0m\u001b[0;34m:\u001b[0m\u001b[0;34m\u001b[0m\u001b[0;34m\u001b[0m\u001b[0m\n",
      "\u001b[0;32m~/miniconda3/lib/python3.9/urllib/request.py\u001b[0m in \u001b[0;36mopen\u001b[0;34m(self, fullurl, data, timeout)\u001b[0m\n\u001b[1;32m    515\u001b[0m \u001b[0;34m\u001b[0m\u001b[0m\n\u001b[1;32m    516\u001b[0m         \u001b[0msys\u001b[0m\u001b[0;34m.\u001b[0m\u001b[0maudit\u001b[0m\u001b[0;34m(\u001b[0m\u001b[0;34m'urllib.Request'\u001b[0m\u001b[0;34m,\u001b[0m \u001b[0mreq\u001b[0m\u001b[0;34m.\u001b[0m\u001b[0mfull_url\u001b[0m\u001b[0;34m,\u001b[0m \u001b[0mreq\u001b[0m\u001b[0;34m.\u001b[0m\u001b[0mdata\u001b[0m\u001b[0;34m,\u001b[0m \u001b[0mreq\u001b[0m\u001b[0;34m.\u001b[0m\u001b[0mheaders\u001b[0m\u001b[0;34m,\u001b[0m \u001b[0mreq\u001b[0m\u001b[0;34m.\u001b[0m\u001b[0mget_method\u001b[0m\u001b[0;34m(\u001b[0m\u001b[0;34m)\u001b[0m\u001b[0;34m)\u001b[0m\u001b[0;34m\u001b[0m\u001b[0;34m\u001b[0m\u001b[0m\n\u001b[0;32m--> 517\u001b[0;31m         \u001b[0mresponse\u001b[0m \u001b[0;34m=\u001b[0m \u001b[0mself\u001b[0m\u001b[0;34m.\u001b[0m\u001b[0m_open\u001b[0m\u001b[0;34m(\u001b[0m\u001b[0mreq\u001b[0m\u001b[0;34m,\u001b[0m \u001b[0mdata\u001b[0m\u001b[0;34m)\u001b[0m\u001b[0;34m\u001b[0m\u001b[0;34m\u001b[0m\u001b[0m\n\u001b[0m\u001b[1;32m    518\u001b[0m \u001b[0;34m\u001b[0m\u001b[0m\n\u001b[1;32m    519\u001b[0m         \u001b[0;31m# post-process response\u001b[0m\u001b[0;34m\u001b[0m\u001b[0;34m\u001b[0m\u001b[0m\n",
      "\u001b[0;32m~/miniconda3/lib/python3.9/urllib/request.py\u001b[0m in \u001b[0;36m_open\u001b[0;34m(self, req, data)\u001b[0m\n\u001b[1;32m    532\u001b[0m \u001b[0;34m\u001b[0m\u001b[0m\n\u001b[1;32m    533\u001b[0m         \u001b[0mprotocol\u001b[0m \u001b[0;34m=\u001b[0m \u001b[0mreq\u001b[0m\u001b[0;34m.\u001b[0m\u001b[0mtype\u001b[0m\u001b[0;34m\u001b[0m\u001b[0;34m\u001b[0m\u001b[0m\n\u001b[0;32m--> 534\u001b[0;31m         result = self._call_chain(self.handle_open, protocol, protocol +\n\u001b[0m\u001b[1;32m    535\u001b[0m                                   '_open', req)\n\u001b[1;32m    536\u001b[0m         \u001b[0;32mif\u001b[0m \u001b[0mresult\u001b[0m\u001b[0;34m:\u001b[0m\u001b[0;34m\u001b[0m\u001b[0;34m\u001b[0m\u001b[0m\n",
      "\u001b[0;32m~/miniconda3/lib/python3.9/urllib/request.py\u001b[0m in \u001b[0;36m_call_chain\u001b[0;34m(self, chain, kind, meth_name, *args)\u001b[0m\n\u001b[1;32m    492\u001b[0m         \u001b[0;32mfor\u001b[0m \u001b[0mhandler\u001b[0m \u001b[0;32min\u001b[0m \u001b[0mhandlers\u001b[0m\u001b[0;34m:\u001b[0m\u001b[0;34m\u001b[0m\u001b[0;34m\u001b[0m\u001b[0m\n\u001b[1;32m    493\u001b[0m             \u001b[0mfunc\u001b[0m \u001b[0;34m=\u001b[0m \u001b[0mgetattr\u001b[0m\u001b[0;34m(\u001b[0m\u001b[0mhandler\u001b[0m\u001b[0;34m,\u001b[0m \u001b[0mmeth_name\u001b[0m\u001b[0;34m)\u001b[0m\u001b[0;34m\u001b[0m\u001b[0;34m\u001b[0m\u001b[0m\n\u001b[0;32m--> 494\u001b[0;31m             \u001b[0mresult\u001b[0m \u001b[0;34m=\u001b[0m \u001b[0mfunc\u001b[0m\u001b[0;34m(\u001b[0m\u001b[0;34m*\u001b[0m\u001b[0margs\u001b[0m\u001b[0;34m)\u001b[0m\u001b[0;34m\u001b[0m\u001b[0;34m\u001b[0m\u001b[0m\n\u001b[0m\u001b[1;32m    495\u001b[0m             \u001b[0;32mif\u001b[0m \u001b[0mresult\u001b[0m \u001b[0;32mis\u001b[0m \u001b[0;32mnot\u001b[0m \u001b[0;32mNone\u001b[0m\u001b[0;34m:\u001b[0m\u001b[0;34m\u001b[0m\u001b[0;34m\u001b[0m\u001b[0m\n\u001b[1;32m    496\u001b[0m                 \u001b[0;32mreturn\u001b[0m \u001b[0mresult\u001b[0m\u001b[0;34m\u001b[0m\u001b[0;34m\u001b[0m\u001b[0m\n",
      "\u001b[0;32m~/miniconda3/lib/python3.9/urllib/request.py\u001b[0m in \u001b[0;36mhttps_open\u001b[0;34m(self, req)\u001b[0m\n\u001b[1;32m   1387\u001b[0m \u001b[0;34m\u001b[0m\u001b[0m\n\u001b[1;32m   1388\u001b[0m         \u001b[0;32mdef\u001b[0m \u001b[0mhttps_open\u001b[0m\u001b[0;34m(\u001b[0m\u001b[0mself\u001b[0m\u001b[0;34m,\u001b[0m \u001b[0mreq\u001b[0m\u001b[0;34m)\u001b[0m\u001b[0;34m:\u001b[0m\u001b[0;34m\u001b[0m\u001b[0;34m\u001b[0m\u001b[0m\n\u001b[0;32m-> 1389\u001b[0;31m             return self.do_open(http.client.HTTPSConnection, req,\n\u001b[0m\u001b[1;32m   1390\u001b[0m                 context=self._context, check_hostname=self._check_hostname)\n\u001b[1;32m   1391\u001b[0m \u001b[0;34m\u001b[0m\u001b[0m\n",
      "\u001b[0;32m~/miniconda3/lib/python3.9/urllib/request.py\u001b[0m in \u001b[0;36mdo_open\u001b[0;34m(self, http_class, req, **http_conn_args)\u001b[0m\n\u001b[1;32m   1344\u001b[0m         \u001b[0;32mtry\u001b[0m\u001b[0;34m:\u001b[0m\u001b[0;34m\u001b[0m\u001b[0;34m\u001b[0m\u001b[0m\n\u001b[1;32m   1345\u001b[0m             \u001b[0;32mtry\u001b[0m\u001b[0;34m:\u001b[0m\u001b[0;34m\u001b[0m\u001b[0;34m\u001b[0m\u001b[0m\n\u001b[0;32m-> 1346\u001b[0;31m                 h.request(req.get_method(), req.selector, req.data, headers,\n\u001b[0m\u001b[1;32m   1347\u001b[0m                           encode_chunked=req.has_header('Transfer-encoding'))\n\u001b[1;32m   1348\u001b[0m             \u001b[0;32mexcept\u001b[0m \u001b[0mOSError\u001b[0m \u001b[0;32mas\u001b[0m \u001b[0merr\u001b[0m\u001b[0;34m:\u001b[0m \u001b[0;31m# timeout error\u001b[0m\u001b[0;34m\u001b[0m\u001b[0;34m\u001b[0m\u001b[0m\n",
      "\u001b[0;32m~/miniconda3/lib/python3.9/http/client.py\u001b[0m in \u001b[0;36mrequest\u001b[0;34m(self, method, url, body, headers, encode_chunked)\u001b[0m\n\u001b[1;32m   1283\u001b[0m                 encode_chunked=False):\n\u001b[1;32m   1284\u001b[0m         \u001b[0;34m\"\"\"Send a complete request to the server.\"\"\"\u001b[0m\u001b[0;34m\u001b[0m\u001b[0;34m\u001b[0m\u001b[0m\n\u001b[0;32m-> 1285\u001b[0;31m         \u001b[0mself\u001b[0m\u001b[0;34m.\u001b[0m\u001b[0m_send_request\u001b[0m\u001b[0;34m(\u001b[0m\u001b[0mmethod\u001b[0m\u001b[0;34m,\u001b[0m \u001b[0murl\u001b[0m\u001b[0;34m,\u001b[0m \u001b[0mbody\u001b[0m\u001b[0;34m,\u001b[0m \u001b[0mheaders\u001b[0m\u001b[0;34m,\u001b[0m \u001b[0mencode_chunked\u001b[0m\u001b[0;34m)\u001b[0m\u001b[0;34m\u001b[0m\u001b[0;34m\u001b[0m\u001b[0m\n\u001b[0m\u001b[1;32m   1286\u001b[0m \u001b[0;34m\u001b[0m\u001b[0m\n\u001b[1;32m   1287\u001b[0m     \u001b[0;32mdef\u001b[0m \u001b[0m_send_request\u001b[0m\u001b[0;34m(\u001b[0m\u001b[0mself\u001b[0m\u001b[0;34m,\u001b[0m \u001b[0mmethod\u001b[0m\u001b[0;34m,\u001b[0m \u001b[0murl\u001b[0m\u001b[0;34m,\u001b[0m \u001b[0mbody\u001b[0m\u001b[0;34m,\u001b[0m \u001b[0mheaders\u001b[0m\u001b[0;34m,\u001b[0m \u001b[0mencode_chunked\u001b[0m\u001b[0;34m)\u001b[0m\u001b[0;34m:\u001b[0m\u001b[0;34m\u001b[0m\u001b[0;34m\u001b[0m\u001b[0m\n",
      "\u001b[0;32m~/miniconda3/lib/python3.9/http/client.py\u001b[0m in \u001b[0;36m_send_request\u001b[0;34m(self, method, url, body, headers, encode_chunked)\u001b[0m\n\u001b[1;32m   1329\u001b[0m             \u001b[0;31m# default charset of iso-8859-1.\u001b[0m\u001b[0;34m\u001b[0m\u001b[0;34m\u001b[0m\u001b[0m\n\u001b[1;32m   1330\u001b[0m             \u001b[0mbody\u001b[0m \u001b[0;34m=\u001b[0m \u001b[0m_encode\u001b[0m\u001b[0;34m(\u001b[0m\u001b[0mbody\u001b[0m\u001b[0;34m,\u001b[0m \u001b[0;34m'body'\u001b[0m\u001b[0;34m)\u001b[0m\u001b[0;34m\u001b[0m\u001b[0;34m\u001b[0m\u001b[0m\n\u001b[0;32m-> 1331\u001b[0;31m         \u001b[0mself\u001b[0m\u001b[0;34m.\u001b[0m\u001b[0mendheaders\u001b[0m\u001b[0;34m(\u001b[0m\u001b[0mbody\u001b[0m\u001b[0;34m,\u001b[0m \u001b[0mencode_chunked\u001b[0m\u001b[0;34m=\u001b[0m\u001b[0mencode_chunked\u001b[0m\u001b[0;34m)\u001b[0m\u001b[0;34m\u001b[0m\u001b[0;34m\u001b[0m\u001b[0m\n\u001b[0m\u001b[1;32m   1332\u001b[0m \u001b[0;34m\u001b[0m\u001b[0m\n\u001b[1;32m   1333\u001b[0m     \u001b[0;32mdef\u001b[0m \u001b[0mgetresponse\u001b[0m\u001b[0;34m(\u001b[0m\u001b[0mself\u001b[0m\u001b[0;34m)\u001b[0m\u001b[0;34m:\u001b[0m\u001b[0;34m\u001b[0m\u001b[0;34m\u001b[0m\u001b[0m\n",
      "\u001b[0;32m~/miniconda3/lib/python3.9/http/client.py\u001b[0m in \u001b[0;36mendheaders\u001b[0;34m(self, message_body, encode_chunked)\u001b[0m\n\u001b[1;32m   1278\u001b[0m         \u001b[0;32melse\u001b[0m\u001b[0;34m:\u001b[0m\u001b[0;34m\u001b[0m\u001b[0;34m\u001b[0m\u001b[0m\n\u001b[1;32m   1279\u001b[0m             \u001b[0;32mraise\u001b[0m \u001b[0mCannotSendHeader\u001b[0m\u001b[0;34m(\u001b[0m\u001b[0;34m)\u001b[0m\u001b[0;34m\u001b[0m\u001b[0;34m\u001b[0m\u001b[0m\n\u001b[0;32m-> 1280\u001b[0;31m         \u001b[0mself\u001b[0m\u001b[0;34m.\u001b[0m\u001b[0m_send_output\u001b[0m\u001b[0;34m(\u001b[0m\u001b[0mmessage_body\u001b[0m\u001b[0;34m,\u001b[0m \u001b[0mencode_chunked\u001b[0m\u001b[0;34m=\u001b[0m\u001b[0mencode_chunked\u001b[0m\u001b[0;34m)\u001b[0m\u001b[0;34m\u001b[0m\u001b[0;34m\u001b[0m\u001b[0m\n\u001b[0m\u001b[1;32m   1281\u001b[0m \u001b[0;34m\u001b[0m\u001b[0m\n\u001b[1;32m   1282\u001b[0m     def request(self, method, url, body=None, headers={}, *,\n",
      "\u001b[0;32m~/miniconda3/lib/python3.9/http/client.py\u001b[0m in \u001b[0;36m_send_output\u001b[0;34m(self, message_body, encode_chunked)\u001b[0m\n\u001b[1;32m   1038\u001b[0m         \u001b[0mmsg\u001b[0m \u001b[0;34m=\u001b[0m \u001b[0;34mb\"\\r\\n\"\u001b[0m\u001b[0;34m.\u001b[0m\u001b[0mjoin\u001b[0m\u001b[0;34m(\u001b[0m\u001b[0mself\u001b[0m\u001b[0;34m.\u001b[0m\u001b[0m_buffer\u001b[0m\u001b[0;34m)\u001b[0m\u001b[0;34m\u001b[0m\u001b[0;34m\u001b[0m\u001b[0m\n\u001b[1;32m   1039\u001b[0m         \u001b[0;32mdel\u001b[0m \u001b[0mself\u001b[0m\u001b[0;34m.\u001b[0m\u001b[0m_buffer\u001b[0m\u001b[0;34m[\u001b[0m\u001b[0;34m:\u001b[0m\u001b[0;34m]\u001b[0m\u001b[0;34m\u001b[0m\u001b[0;34m\u001b[0m\u001b[0m\n\u001b[0;32m-> 1040\u001b[0;31m         \u001b[0mself\u001b[0m\u001b[0;34m.\u001b[0m\u001b[0msend\u001b[0m\u001b[0;34m(\u001b[0m\u001b[0mmsg\u001b[0m\u001b[0;34m)\u001b[0m\u001b[0;34m\u001b[0m\u001b[0;34m\u001b[0m\u001b[0m\n\u001b[0m\u001b[1;32m   1041\u001b[0m \u001b[0;34m\u001b[0m\u001b[0m\n\u001b[1;32m   1042\u001b[0m         \u001b[0;32mif\u001b[0m \u001b[0mmessage_body\u001b[0m \u001b[0;32mis\u001b[0m \u001b[0;32mnot\u001b[0m \u001b[0;32mNone\u001b[0m\u001b[0;34m:\u001b[0m\u001b[0;34m\u001b[0m\u001b[0;34m\u001b[0m\u001b[0m\n",
      "\u001b[0;32m~/miniconda3/lib/python3.9/http/client.py\u001b[0m in \u001b[0;36msend\u001b[0;34m(self, data)\u001b[0m\n\u001b[1;32m    978\u001b[0m         \u001b[0;32mif\u001b[0m \u001b[0mself\u001b[0m\u001b[0;34m.\u001b[0m\u001b[0msock\u001b[0m \u001b[0;32mis\u001b[0m \u001b[0;32mNone\u001b[0m\u001b[0;34m:\u001b[0m\u001b[0;34m\u001b[0m\u001b[0;34m\u001b[0m\u001b[0m\n\u001b[1;32m    979\u001b[0m             \u001b[0;32mif\u001b[0m \u001b[0mself\u001b[0m\u001b[0;34m.\u001b[0m\u001b[0mauto_open\u001b[0m\u001b[0;34m:\u001b[0m\u001b[0;34m\u001b[0m\u001b[0;34m\u001b[0m\u001b[0m\n\u001b[0;32m--> 980\u001b[0;31m                 \u001b[0mself\u001b[0m\u001b[0;34m.\u001b[0m\u001b[0mconnect\u001b[0m\u001b[0;34m(\u001b[0m\u001b[0;34m)\u001b[0m\u001b[0;34m\u001b[0m\u001b[0;34m\u001b[0m\u001b[0m\n\u001b[0m\u001b[1;32m    981\u001b[0m             \u001b[0;32melse\u001b[0m\u001b[0;34m:\u001b[0m\u001b[0;34m\u001b[0m\u001b[0;34m\u001b[0m\u001b[0m\n\u001b[1;32m    982\u001b[0m                 \u001b[0;32mraise\u001b[0m \u001b[0mNotConnected\u001b[0m\u001b[0;34m(\u001b[0m\u001b[0;34m)\u001b[0m\u001b[0;34m\u001b[0m\u001b[0;34m\u001b[0m\u001b[0m\n",
      "\u001b[0;32m~/miniconda3/lib/python3.9/http/client.py\u001b[0m in \u001b[0;36mconnect\u001b[0;34m(self)\u001b[0m\n\u001b[1;32m   1452\u001b[0m                 \u001b[0mserver_hostname\u001b[0m \u001b[0;34m=\u001b[0m \u001b[0mself\u001b[0m\u001b[0;34m.\u001b[0m\u001b[0mhost\u001b[0m\u001b[0;34m\u001b[0m\u001b[0;34m\u001b[0m\u001b[0m\n\u001b[1;32m   1453\u001b[0m \u001b[0;34m\u001b[0m\u001b[0m\n\u001b[0;32m-> 1454\u001b[0;31m             self.sock = self._context.wrap_socket(self.sock,\n\u001b[0m\u001b[1;32m   1455\u001b[0m                                                   server_hostname=server_hostname)\n\u001b[1;32m   1456\u001b[0m \u001b[0;34m\u001b[0m\u001b[0m\n",
      "\u001b[0;32m~/miniconda3/lib/python3.9/ssl.py\u001b[0m in \u001b[0;36mwrap_socket\u001b[0;34m(self, sock, server_side, do_handshake_on_connect, suppress_ragged_eofs, server_hostname, session)\u001b[0m\n\u001b[1;32m    498\u001b[0m         \u001b[0;31m# SSLSocket class handles server_hostname encoding before it calls\u001b[0m\u001b[0;34m\u001b[0m\u001b[0;34m\u001b[0m\u001b[0m\n\u001b[1;32m    499\u001b[0m         \u001b[0;31m# ctx._wrap_socket()\u001b[0m\u001b[0;34m\u001b[0m\u001b[0;34m\u001b[0m\u001b[0m\n\u001b[0;32m--> 500\u001b[0;31m         return self.sslsocket_class._create(\n\u001b[0m\u001b[1;32m    501\u001b[0m             \u001b[0msock\u001b[0m\u001b[0;34m=\u001b[0m\u001b[0msock\u001b[0m\u001b[0;34m,\u001b[0m\u001b[0;34m\u001b[0m\u001b[0;34m\u001b[0m\u001b[0m\n\u001b[1;32m    502\u001b[0m             \u001b[0mserver_side\u001b[0m\u001b[0;34m=\u001b[0m\u001b[0mserver_side\u001b[0m\u001b[0;34m,\u001b[0m\u001b[0;34m\u001b[0m\u001b[0;34m\u001b[0m\u001b[0m\n",
      "\u001b[0;32m~/miniconda3/lib/python3.9/ssl.py\u001b[0m in \u001b[0;36m_create\u001b[0;34m(cls, sock, server_side, do_handshake_on_connect, suppress_ragged_eofs, server_hostname, context, session)\u001b[0m\n\u001b[1;32m   1038\u001b[0m                         \u001b[0;31m# non-blocking\u001b[0m\u001b[0;34m\u001b[0m\u001b[0;34m\u001b[0m\u001b[0m\n\u001b[1;32m   1039\u001b[0m                         \u001b[0;32mraise\u001b[0m \u001b[0mValueError\u001b[0m\u001b[0;34m(\u001b[0m\u001b[0;34m\"do_handshake_on_connect should not be specified for non-blocking sockets\"\u001b[0m\u001b[0;34m)\u001b[0m\u001b[0;34m\u001b[0m\u001b[0;34m\u001b[0m\u001b[0m\n\u001b[0;32m-> 1040\u001b[0;31m                     \u001b[0mself\u001b[0m\u001b[0;34m.\u001b[0m\u001b[0mdo_handshake\u001b[0m\u001b[0;34m(\u001b[0m\u001b[0;34m)\u001b[0m\u001b[0;34m\u001b[0m\u001b[0;34m\u001b[0m\u001b[0m\n\u001b[0m\u001b[1;32m   1041\u001b[0m             \u001b[0;32mexcept\u001b[0m \u001b[0;34m(\u001b[0m\u001b[0mOSError\u001b[0m\u001b[0;34m,\u001b[0m \u001b[0mValueError\u001b[0m\u001b[0;34m)\u001b[0m\u001b[0;34m:\u001b[0m\u001b[0;34m\u001b[0m\u001b[0;34m\u001b[0m\u001b[0m\n\u001b[1;32m   1042\u001b[0m                 \u001b[0mself\u001b[0m\u001b[0;34m.\u001b[0m\u001b[0mclose\u001b[0m\u001b[0;34m(\u001b[0m\u001b[0;34m)\u001b[0m\u001b[0;34m\u001b[0m\u001b[0;34m\u001b[0m\u001b[0m\n",
      "\u001b[0;32m~/miniconda3/lib/python3.9/ssl.py\u001b[0m in \u001b[0;36mdo_handshake\u001b[0;34m(self, block)\u001b[0m\n\u001b[1;32m   1307\u001b[0m             \u001b[0;32mif\u001b[0m \u001b[0mtimeout\u001b[0m \u001b[0;34m==\u001b[0m \u001b[0;36m0.0\u001b[0m \u001b[0;32mand\u001b[0m \u001b[0mblock\u001b[0m\u001b[0;34m:\u001b[0m\u001b[0;34m\u001b[0m\u001b[0;34m\u001b[0m\u001b[0m\n\u001b[1;32m   1308\u001b[0m                 \u001b[0mself\u001b[0m\u001b[0;34m.\u001b[0m\u001b[0msettimeout\u001b[0m\u001b[0;34m(\u001b[0m\u001b[0;32mNone\u001b[0m\u001b[0;34m)\u001b[0m\u001b[0;34m\u001b[0m\u001b[0;34m\u001b[0m\u001b[0m\n\u001b[0;32m-> 1309\u001b[0;31m             \u001b[0mself\u001b[0m\u001b[0;34m.\u001b[0m\u001b[0m_sslobj\u001b[0m\u001b[0;34m.\u001b[0m\u001b[0mdo_handshake\u001b[0m\u001b[0;34m(\u001b[0m\u001b[0;34m)\u001b[0m\u001b[0;34m\u001b[0m\u001b[0;34m\u001b[0m\u001b[0m\n\u001b[0m\u001b[1;32m   1310\u001b[0m         \u001b[0;32mfinally\u001b[0m\u001b[0;34m:\u001b[0m\u001b[0;34m\u001b[0m\u001b[0;34m\u001b[0m\u001b[0m\n\u001b[1;32m   1311\u001b[0m             \u001b[0mself\u001b[0m\u001b[0;34m.\u001b[0m\u001b[0msettimeout\u001b[0m\u001b[0;34m(\u001b[0m\u001b[0mtimeout\u001b[0m\u001b[0;34m)\u001b[0m\u001b[0;34m\u001b[0m\u001b[0;34m\u001b[0m\u001b[0m\n",
      "\u001b[0;31mKeyboardInterrupt\u001b[0m: "
     ]
    }
   ],
   "source": [
    "# parse the results into a dataframe \n",
    "dictionary_lst = []\n",
    "for Id in result[\"IdList\"]:\n",
    "    handle = Entrez.esummary(db=\"gds\", id=Id, retmode=\"xml\") # get summary of this entry on GEO datasets\n",
    "    entry = Entrez.parse(handle)\n",
    "    for column in entry:\n",
    "        dictionary_lst.append(column)\n",
    "df = pd.DataFrame(dictionary_lst)"
   ]
  },
  {
   "cell_type": "code",
   "execution_count": null,
   "id": "2e0445ef",
   "metadata": {},
   "outputs": [],
   "source": [
    "df.head()"
   ]
  },
  {
   "cell_type": "code",
   "execution_count": null,
   "id": "bee10737",
   "metadata": {},
   "outputs": [],
   "source": [
    "df.shape"
   ]
  },
  {
   "cell_type": "markdown",
   "id": "bb4d1e58",
   "metadata": {},
   "source": [
    "## Cleaning the Paper Names and Converting from PMID to DOI"
   ]
  },
  {
   "cell_type": "code",
   "execution_count": null,
   "id": "4c5feeac",
   "metadata": {
    "scrolled": false
   },
   "outputs": [],
   "source": [
    "dictionary_lst = []\n",
    "for Id in result[\"IdList\"]:\n",
    "    \n",
    "    handle = Entrez.esummary(db=\"gds\", id=Id, retmode=\"xml\")\n",
    "    entry = Entrez.parse(handle)\n",
    "    \n",
    "    for column in entry:\n",
    "        paper_title = column['title']\n",
    "        new_paper_title = ''\n",
    "        last_word = re.split('\\s|[.]', paper_title)[-1]\n",
    "        last_two_words = re.split('\\s|[.]', paper_title)[-2:]\n",
    "        \n",
    "        # remove \".[HiChIP]\", \". [HiChIP]\", or \"(HiChIP)\" in paper titles using steps below\n",
    "        if ('[' in last_word and ']' in last_word) or \\\n",
    "                ('(' in last_word and ')' in last_word):\n",
    "            new_paper_title = re.split('\\s|[.]', paper_title)[0:-1]\n",
    "            new_paper_title = ' '.join(new_paper_title)\n",
    "            new_paper_title = new_paper_title.strip()\n",
    "            if new_paper_title.endswith('.'): # remove the last period in paper title\n",
    "                new_paper_title = new_paper_title[:-1]\n",
    "                \n",
    "        # remove \".[Hi ChIP]\", \". [Hi ChIP]\", or \"[Bead Array]\" in paper titles using steps below\n",
    "        elif ('[' in last_two_words[0] and ']' in last_two_words[1]) or \\\n",
    "                    ('(' in last_two_words[0] and ')' in last_two_words[1]):\n",
    "            new_paper_title = re.split('\\s|[.]', paper_title)[0:-2]\n",
    "            new_paper_title = ' '.join(new_paper_title)\n",
    "            new_paper_title = new_paper_title.strip()\n",
    "            if new_paper_title.endswith('.'): # remove the last period in paper title\n",
    "                new_paper_title = new_paper_title[:-1]\n",
    "                \n",
    "        elif paper_title.endswith('.'):\n",
    "            new_paper_title = paper_title[:-1] \n",
    "            \n",
    "        else:\n",
    "            new_paper_title = paper_title\n",
    "            \n",
    "        new_paper_title = new_paper_title.replace(\"\\xa0\", \" \") # remove no-break space\n",
    "        column['title'] = new_paper_title\n",
    "        \n",
    "        # convert PMID to DOI, some have no PMID so empty string\n",
    "        string = str(column['PubMedIds'])\n",
    "        pdf_url = \"\"\n",
    "        PubMedIds = PubMedIds_pattern.findall(string)\n",
    "        \n",
    "        if len(PubMedIds) > 0:\n",
    "            DOI = pmid2doi(PubMedIds[0])\n",
    "            column['PubMedIds'] = DOI\n",
    "        else: column['PubMedIds'] = \"\"\n",
    "        dictionary_lst.append(column)\n",
    "        \n",
    "df = pd.DataFrame(dictionary_lst)"
   ]
  },
  {
   "cell_type": "markdown",
   "id": "c463820d",
   "metadata": {},
   "source": [
    "## Reformat the Columns for Google Sheet Compatibility"
   ]
  },
  {
   "cell_type": "code",
   "execution_count": null,
   "id": "e5bc08ea",
   "metadata": {},
   "outputs": [],
   "source": [
    "# drop extra columns\n",
    "df = pd.DataFrame(dictionary_lst)\n",
    "\n",
    "drop_cols = ['Item', 'Id', 'GDS', 'GPL', 'GSE', 'entryType', 'ptechType',\n",
    "             'valType', 'SSInfo', 'subsetInfo', 'suppFile', 'Relations', 'ExtRelations',\n",
    "             'n_samples', 'SeriesTitle', 'PlatformTitle', 'PlatformTaxa', 'SamplesTaxa',\n",
    "             'Projects', 'FTPLink', 'GEO2R']\n",
    "df.drop(drop_cols, inplace=True, axis=1)\n",
    "\n",
    "# rename columns\n",
    "rename_cols = {\"Accession\":\"GEO / Data link\", \"PubMedIds\":\"DOI\", \"title\":\"Paper Title\",\n",
    "               \"taxon\":\"Organism\", \"gdsType\":\"Any other information\", \"PDAT\":\"Year\",\n",
    "               \"Samples\":\"Other matched data\"}\n",
    "df.rename(columns=rename_cols, inplace=True)\n",
    "\n",
    "# extract just the year\n",
    "df[\"Year\"] = df[\"Year\"].str[:4]\n",
    "\n",
    "# add index for merging\n",
    "df['index'] = np.arange(len(df))\n",
    "\n",
    "# fill na with empty values\n",
    "df.fillna(\"\",inplace=True)\n",
    "\n",
    "# adding missing columns with empty values\n",
    "df[\"Journal\"] = \"\"\n",
    "df[\"Authors\"] = \"\"\n",
    "df[\"Tissue/Cell Line\"] = \"\"\n",
    "df[\"Presenter\"] = \"\"\n",
    "df[\"Potential HiChIP\"] = \"\""
   ]
  },
  {
   "cell_type": "markdown",
   "id": "19c61b12",
   "metadata": {},
   "source": [
    "## Assigning Potential HiChIP Samples"
   ]
  },
  {
   "cell_type": "markdown",
   "id": "d2d5df7f",
   "metadata": {},
   "source": [
    "Filter out samples with no HiChIP mention and assigned Yes or Maybe to all others "
   ]
  },
  {
   "cell_type": "code",
   "execution_count": null,
   "id": "ecfe777c",
   "metadata": {},
   "outputs": [],
   "source": [
    "col = df[\"Other matched data\"]\n",
    "lst = []\n",
    "GSM_IDs = [] ######## new for cell type\n",
    "index = 0\n",
    "for row in col:\n",
    "    \n",
    "    temp = []\n",
    "    state = False\n",
    "    \n",
    "    # Check for the term HiChIP in the title\n",
    "    for ele in row: \n",
    "        if (\"HiChIP\".casefold() in ele[\"Title\"].casefold()) or \\\n",
    "                (\"Hi-ChIP\".casefold() in ele[\"Title\"].casefold()):\n",
    "            state = True\n",
    "    \n",
    "    # keep samples with HiChIP and mark \"Yes\"\n",
    "    if state == True: \n",
    "        for ele in row:\n",
    "            GSM_IDs.append(ele[\"Accession\"]) ######## new for cell type\n",
    "            if (\"HiChIP\".casefold() in ele[\"Title\"].casefold()) or \\\n",
    "                    (\"Hi-ChIP\".casefold() in ele[\"Title\"].casefold()):\n",
    "                temp.append(ele[\"Accession\"] + \": \" + ele[\"Title\"])\n",
    "        temp_str = \"\\n\".join(temp)\n",
    "        df.at[index, \"Potential HiChIP\"] = \"Yes\"\n",
    "\n",
    "    # otherwise, keep all GSM samples and mark \"Maybe\"\n",
    "    else: \n",
    "        for ele in row:\n",
    "            GSM_IDs.append(ele[\"Accession\"]) ######## new for cell type\n",
    "            temp.append(ele[\"Accession\"] + \": \" + ele[\"Title\"])\n",
    "        temp_str = \"\\n\".join(temp)\n",
    "        df.at[index,\"Potential HiChIP\"]=\"Maybe\"\n",
    "    lst.append(temp_str)\n",
    "    index += 1\n",
    "    \n",
    "df[\"Other matched data\"] = list(lst)"
   ]
  },
  {
   "cell_type": "markdown",
   "id": "e88c1586",
   "metadata": {},
   "source": [
    "## Merge Rows with the Same Paper Title"
   ]
  },
  {
   "cell_type": "code",
   "execution_count": null,
   "id": "4aa57284",
   "metadata": {},
   "outputs": [],
   "source": [
    "aggregation_functions = {'Paper Title':'first', 'DOI':'max', 'Journal':'first', 'Authors':'first', 'Year':'first', 'GEO / Data link':lambda x: '\\n'.join(x),\n",
    "       'Any other information':lambda x: '\\n'.join(x), 'Organism':'first', 'Tissue/Cell Line':'first',\n",
    "       'Potential HiChIP':'first', 'Other matched data':lambda x: '\\n'.join(x), 'Presenter':'first'}\n",
    "df_grouped = df.groupby(df['Paper Title']).aggregate(aggregation_functions)"
   ]
  },
  {
   "cell_type": "markdown",
   "id": "a13db4f0",
   "metadata": {},
   "source": [
    "## Fetch Journal Name and First Author of Each Paper and Add https to DOI"
   ]
  },
  {
   "cell_type": "code",
   "execution_count": null,
   "id": "55a1a9b5",
   "metadata": {},
   "outputs": [],
   "source": [
    "jounrnal_lst = []\n",
    "authors_lst = []\n",
    "fetch = PubMedFetcher()\n",
    "for DOI in df_grouped['DOI']:\n",
    "    try:\n",
    "        PMID = doi2pmid(DOI)\n",
    "        article = fetch.article_by_pmid(PMID)\n",
    "        jounrnal_lst.append(article.journal)\n",
    "        authors_lst.append(article.authors[0].split()[0] + \" et al.\")\n",
    "    except:\n",
    "        jounrnal_lst.append(\"\")\n",
    "        authors_lst.append(\"\")\n",
    "df_grouped['Journal'] = jounrnal_lst\n",
    "df_grouped['Authors'] = authors_lst"
   ]
  },
  {
   "cell_type": "code",
   "execution_count": null,
   "id": "9384d88e",
   "metadata": {},
   "outputs": [],
   "source": [
    "# add https address to DOI (for easy access)\n",
    "df_grouped.loc[(df_grouped['DOI'] != ''), 'DOI'] = 'https://doi.org/' + df_grouped.loc[(df_grouped['DOI'] != ''), 'DOI']"
   ]
  },
  {
   "cell_type": "markdown",
   "id": "07a4b4c8",
   "metadata": {},
   "source": [
    "## Note the Date Added, Set Output Path, and Save the Final Output File"
   ]
  },
  {
   "cell_type": "code",
   "execution_count": null,
   "id": "beed3d3d",
   "metadata": {},
   "outputs": [],
   "source": [
    "# make an output directory\n",
    "######## new for cell type\n",
    "outdir = ''\n",
    "# outdir = 'results/hichip_db/'\n",
    "# os.makedirs(outdir, exist_ok=True)"
   ]
  },
  {
   "cell_type": "code",
   "execution_count": null,
   "id": "be627b76",
   "metadata": {},
   "outputs": [],
   "source": [
    "# determining the current year, month and day\n",
    "today = date.today()\n",
    "date_str = today.strftime(\"%Y_%m_%d\")\n",
    "\n",
    "# determining current hour and minute\n",
    "now = datetime.now()\n",
    "time_str = now.strftime(\"%H_%M\")\n",
    "\n",
    "# setting the output filename\n",
    "output = os.path.join(outdir, \"GEO_Query.{}_{}\".format(date_str, time_str))"
   ]
  },
  {
   "cell_type": "code",
   "execution_count": null,
   "id": "b1e2e626",
   "metadata": {},
   "outputs": [],
   "source": [
    "# add a column that notes the added date\n",
    "df_grouped['Date Added'] = date_str.replace('_', '-')\n",
    "reorder = ['Paper Title', 'Journal', 'Authors', 'Year', 'DOI', 'GEO / Data link', 'Any other information',\n",
    "           'Organism', 'Tissue/Cell Line', 'Potential HiChIP', 'Other matched data', 'Presenter', 'Date Added']\n",
    "df_grouped = df_grouped.loc[:, reorder]"
   ]
  },
  {
   "cell_type": "code",
   "execution_count": null,
   "id": "4d90d666",
   "metadata": {},
   "outputs": [],
   "source": [
    "df_grouped.to_excel(output+\".xlsx\", index=False)"
   ]
  },
  {
   "cell_type": "markdown",
   "id": "ea78b735",
   "metadata": {},
   "source": [
    "## Save the GSM IDs line by line"
   ]
  },
  {
   "cell_type": "code",
   "execution_count": null,
   "id": "3de96405",
   "metadata": {},
   "outputs": [],
   "source": [
    "GSM_IDs = list(set(GSM_IDs))\n",
    "with open(r'gsm_list.txt', 'w') as fp:\n",
    "    for gsm in GSM_IDs:\n",
    "        # write each item on a new line\n",
    "        fp.write(\"%s\\n\" % gsm)"
   ]
  },
  {
   "cell_type": "markdown",
   "id": "b8bbc7d4",
   "metadata": {},
   "source": [
    "## Query GEO BioSample using the GSM IDs"
   ]
  },
  {
   "cell_type": "code",
   "execution_count": 21,
   "id": "49d34276",
   "metadata": {},
   "outputs": [
    {
     "data": {
      "text/plain": [
       "'GSM5066603\\n [All Fields] OR GSM4027536\\n [All Fields] OR GSM5269989\\n [All Fields] OR GSM2572636\\n [All Fields] OR GSM3059347\\n [All Fields] OR GSM5029775\\n [All Fields] OR GSM3103921\\n [All Fields] OR GSM3930325\\n [All Fields] OR GSM4214149\\n [All Fields] OR GSM5533509\\n [All Fields] OR GSM5269818\\n [All Fields] OR GSM5270760\\n [All Fields] OR GSM4513989\\n [All Fields] OR GSM6528198\\n [All Fields] OR GSM5746056\\n [All Fields] OR GSM4613476\\n [All Fields] OR GSM3263143\\n [All Fields] OR GSM5746007\\n [All Fields] OR GSM3376557\\n [All Fields] OR GSM2572625\\n [All Fields] OR GSM4214139\\n [All Fields] OR GSM4333041\\n [All Fields] OR GSM2816631\\n [All Fields] OR GSM4441813\\n [All Fields] OR GSM4551849\\n [All Fields] OR GSM4061152\\n [All Fields] OR GSM5066600\\n [All Fields] OR GSM4836043\\n [All Fields] OR GSM3426275\\n [All Fields] OR GSM6318728\\n [All Fields] OR GSM3229488\\n [All Fields] OR GSM3018513\\n [All Fields] OR GSM6528183\\n [All Fields] OR GSM5777101\\n [All Fields] OR GSM4851920\\n [All Fields] OR GSM5270747\\n [All Fields] OR GSM5533469\\n [All Fields] OR GSM3902809\\n [All Fields] OR GSM5270002\\n [All Fields] OR GSM3452729\\n [All Fields] OR GSM4629118\\n [All Fields] OR GSM5238606\\n [All Fields] OR GSM4551901\\n [All Fields] OR GSM5420209\\n [All Fields] OR GSM4646927\\n [All Fields] OR GSM5388189\\n [All Fields] OR GSM5772868\\n [All Fields] OR GSM2238512\\n [All Fields] OR GSM4195083\\n [All Fields] OR GSM5004111\\n [All Fields] OR GSM5455280\\n [All Fields] OR GSM3902804\\n [All Fields] OR GSM4072347\\n [All Fields] OR GSM3212888\\n [All Fields] OR GSM4061104\\n [All Fields] OR GSM5455384\\n [All Fields] OR GSM5269863\\n [All Fields] OR GSM2987649\\n [All Fields] OR GSM3901155\\n [All Fields] OR GSM4736190\\n [All Fields] OR GSM5270041\\n [All Fields] OR GSM5632799\\n [All Fields] OR GSM4613453\\n [All Fields] OR GSM4476744\\n [All Fields] OR GSM2572626\\n [All Fields] OR GSM4141954\\n [All Fields] OR GSM4560484\\n [All Fields] OR GSM4061093\\n [All Fields] OR GSM3967110\\n [All Fields] OR GSM5746186\\n [All Fields] OR GSM4447210\\n [All Fields] OR GSM4002958\\n [All Fields] OR GSM4551968\\n [All Fields] OR GSM6528141\\n [All Fields] OR GSM4876534\\n [All Fields] OR GSM5712663\\n [All Fields] OR GSM4551881\\n [All Fields] OR GSM5664119\\n [All Fields] OR GSM5769495\\n [All Fields] OR GSM4060962\\n [All Fields] OR GSM5284457\\n [All Fields] OR GSM4613545\\n [All Fields] OR GSM5746025\\n [All Fields] OR GSM5365322\\n [All Fields] OR GSM4735782\\n [All Fields] OR GSM3930336\\n [All Fields] OR GSM5270111\\n [All Fields] OR GSM3018457\\n [All Fields] OR GSM5533470\\n [All Fields] OR GSM3181444\\n [All Fields] OR GSM5463913\\n [All Fields] OR GSM5533490\\n [All Fields] OR GSM2645438\\n [All Fields] OR GSM5269928\\n [All Fields] OR GSM5270718\\n [All Fields] OR GSM5270418\\n [All Fields] OR GSM4551854\\n [All Fields] OR GSM4142010\\n [All Fields] OR GSM4513999\\n [All Fields] OR GSM6234563\\n [All Fields] OR GSM5434003\\n [All Fields] OR GSM5270196\\n [All Fields] OR GSM3212908\\n [All Fields] OR GSM5282144\\n [All Fields] OR GSM5455068\\n [All Fields] OR GSM5066565\\n [All Fields] OR GSM5270380\\n [All Fields] OR GSM5819412\\n [All Fields] OR GSM5334235\\n [All Fields] OR GSM4061090\\n [All Fields] OR GSM4441691\\n [All Fields] OR GSM2816619\\n [All Fields] OR GSM4871524\\n [All Fields] OR GSM5866082\\n [All Fields] OR GSM5029731\\n [All Fields] OR GSM5066590\\n [All Fields] OR GSM4002937\\n [All Fields] OR GSM5800034\\n [All Fields] OR GSM5777208\\n [All Fields] OR GSM5270356\\n [All Fields] OR GSM5434008\\n [All Fields] OR GSM4441815\\n [All Fields] OR GSM5664126\\n [All Fields] OR GSM5282137\\n [All Fields] OR GSM5425962\\n [All Fields] OR GSM4061115\\n [All Fields] OR GSM3176579\\n [All Fields] OR GSM3486874\\n [All Fields] OR GSM5270089\\n [All Fields] OR GSM3377443\\n [All Fields] OR GSM5905671\\n [All Fields] OR GSM4735775\\n [All Fields] OR GSM5617837\\n [All Fields] OR GSM5269721\\n [All Fields] OR GSM5455381\\n [All Fields] OR GSM4217579\\n [All Fields] OR GSM4141972\\n [All Fields] OR GSM5269884\\n [All Fields] OR GSM4441761\\n [All Fields] OR GSM5270125\\n [All Fields] OR GSM3930240\\n [All Fields] OR GSM4563899\\n [All Fields] OR GSM4551879\\n [All Fields] OR GSM5268043\\n [All Fields] OR GSM5034226\\n [All Fields] OR GSM3212890\\n [All Fields] OR GSM5340947\\n [All Fields] OR GSM5270122\\n [All Fields] OR GSM6234582\\n [All Fields] OR GSM5270221\\n [All Fields] OR GSM5282159\\n [All Fields] OR GSM5281762\\n [All Fields] OR GSM3229495\\n [All Fields] OR GSM4836320\\n [All Fields] OR GSM5746093\\n [All Fields] OR GSM5270754\\n [All Fields] OR GSM5533514\\n [All Fields] OR GSM3176563\\n [All Fields] OR GSM2705066\\n [All Fields] OR GSM4826472\\n [All Fields] OR GSM5029740\\n [All Fields] OR GSM5379687\\n [All Fields] OR GSM3664989\\n [All Fields] OR GSM5463917\\n [All Fields] OR GSM4836418\\n [All Fields] OR GSM5340898\\n [All Fields] OR GSM4613561\\n [All Fields] OR GSM4836157\\n [All Fields] OR GSM4061101\\n [All Fields] OR GSM3967108\\n [All Fields] OR GSM5365315\\n [All Fields] OR GSM3229503\\n [All Fields] OR GSM4851921\\n [All Fields] OR GSM5029761\\n [All Fields] OR GSM4513964\\n [All Fields] OR GSM2829059\\n [All Fields] OR GSM5516900\\n [All Fields] OR GSM4061163\\n [All Fields] OR GSM4441795\\n [All Fields] OR GSM5269741\\n [All Fields] OR GSM4696927\\n [All Fields] OR GSM4836375\\n [All Fields] OR GSM3901159\\n [All Fields] OR GSM5746236\\n [All Fields] OR GSM3455871\\n [All Fields] OR GSM5281665\\n [All Fields] OR GSM5270497\\n [All Fields] OR GSM3486894\\n [All Fields] OR GSM5365320\\n [All Fields] OR GSM2831398\\n [All Fields] OR GSM4053404\\n [All Fields] OR GSM3263161\\n [All Fields] OR GSM4613485\\n [All Fields] OR GSM5463911\\n [All Fields] OR GSM3059349\\n [All Fields] OR GSM5066611\\n [All Fields] OR GSM5340907\\n [All Fields] OR GSM5340957\\n [All Fields] OR GSM5269940\\n [All Fields] OR GSM2774010\\n [All Fields] OR GSM2572604\\n [All Fields] OR GSM5655529\\n [All Fields] OR GSM4736187\\n [All Fields] OR GSM4061019\\n [All Fields] OR GSM5746205\\n [All Fields] OR GSM5270619\\n [All Fields] OR GSM5455079\\n [All Fields] OR GSM4801409\\n [All Fields] OR GSM5270056\\n [All Fields] OR GSM4563902\\n [All Fields] OR GSM4441758\\n [All Fields] OR GSM4658090\\n [All Fields] OR GSM4061066\\n [All Fields] OR GSM3263145\\n [All Fields] OR GSM5503583\\n [All Fields] OR GSM5065202\\n [All Fields] OR GSM3212829\\n [All Fields] OR GSM5270110\\n [All Fields] OR GSM5270780\\n [All Fields] OR GSM5455080\\n [All Fields] OR GSM5270508\\n [All Fields] OR GSM5270311\\n [All Fields] OR GSM5270088\\n [All Fields] OR GSM4060947\\n [All Fields] OR GSM4761244\\n [All Fields] OR GSM3212869\\n [All Fields] OR GSM5394200\\n [All Fields] OR GSM5270395\\n [All Fields] OR GSM3103918\\n [All Fields] OR GSM4447212\\n [All Fields] OR GSM5617810\\n [All Fields] OR GSM2752710\\n [All Fields] OR GSM5227750\\n [All Fields] OR GSM5270007\\n [All Fields] OR GSM4696926\\n [All Fields] OR GSM2572579\\n [All Fields] OR GSM5702001\\n [All Fields] OR GSM5665776\\n [All Fields] OR GSM5655517\\n [All Fields] OR GSM5270369\\n [All Fields] OR GSM3263140\\n [All Fields] OR GSM4629120\\n [All Fields] OR GSM5455048\\n [All Fields] OR GSM4836385\\n [All Fields] OR GSM4072355\\n [All Fields] OR GSM5270679\\n [All Fields] OR GSM4836407\\n [All Fields] OR GSM2572633\\n [All Fields] OR GSM5819394\\n [All Fields] OR GSM5270735\\n [All Fields] OR GSM3212893\\n [All Fields] OR GSM3930271\\n [All Fields] OR GSM5455052\\n [All Fields] OR GSM5282052\\n [All Fields] OR GSM5269747\\n [All Fields] OR GSM4060924\\n [All Fields] OR GSM4697013\\n [All Fields] OR GSM5270543\\n [All Fields] OR GSM3930300\\n [All Fields] OR GSM5270061\\n [All Fields] OR GSM6585956\\n [All Fields] OR GSM5800025\\n [All Fields] OR GSM5269823\\n [All Fields] OR GSM4002960\\n [All Fields] OR GSM4736200\\n [All Fields] OR GSM4002967\\n [All Fields] OR GSM3263177\\n [All Fields] OR GSM4514003\\n [All Fields] OR GSM5772832\\n [All Fields] OR GSM4338304\\n [All Fields] OR GSM4027533\\n [All Fields] OR GSM4568375\\n [All Fields] OR GSM3082021\\n [All Fields] OR GSM4447195\\n [All Fields] OR GSM2816640\\n [All Fields] OR GSM3791757\\n [All Fields] OR GSM4836041\\n [All Fields] OR GSM4792960\\n [All Fields] OR GSM4441721\\n [All Fields] OR GSM5746223\\n [All Fields] OR GSM3897564\\n [All Fields] OR GSM5270622\\n [All Fields] OR GSM5270518\\n [All Fields] OR GSM5632794\\n [All Fields] OR GSM4613532\\n [All Fields] OR GSM4836140\\n [All Fields] OR GSM5029873\\n [All Fields] OR GSM2572643\\n [All Fields] OR GSM5905672\\n [All Fields] OR GSM6508528\\n [All Fields] OR GSM5680701\\n [All Fields] OR GSM4735747\\n [All Fields] OR GSM2830544\\n [All Fields] OR GSM3597235\\n [All Fields] OR GSM5533532\\n [All Fields] OR GSM4836121\\n [All Fields] OR GSM4217564\\n [All Fields] OR GSM2572605\\n [All Fields] OR GSM2831434\\n [All Fields] OR GSM4826470\\n [All Fields] OR GSM3082015\\n [All Fields] OR GSM5270261\\n [All Fields] OR GSM5268045\\n [All Fields] OR GSM5746225\\n [All Fields] OR GSM3901142\\n [All Fields] OR GSM4836087\\n [All Fields] OR GSM3902823\\n [All Fields] OR GSM6234546\\n [All Fields] OR GSM5268047\\n [All Fields] OR GSM4441804\\n [All Fields] OR GSM5746135\\n [All Fields] OR GSM5267743\\n [All Fields] OR GSM5049899\\n [All Fields] OR GSM4061025\\n [All Fields] OR GSM4060940\\n [All Fields] OR GSM4646926\\n [All Fields] OR GSM5455031\\n [All Fields] OR GSM5269986\\n [All Fields] OR GSM5281660\\n [All Fields] OR GSM3314497\\n [All Fields] OR GSM3466911\\n [All Fields] OR GSM3181428\\n [All Fields] OR GSM5227762\\n [All Fields] OR GSM5270651\\n [All Fields] OR GSM5270190\\n [All Fields] OR GSM5270764\\n [All Fields] OR GSM3455877\\n [All Fields] OR GSM4948223\\n [All Fields] OR GSM5270355\\n [All Fields] OR GSM5270632\\n [All Fields] OR GSM2752700\\n [All Fields] OR GSM3426253\\n [All Fields] OR GSM4403633\\n [All Fields] OR GSM4836159\\n [All Fields] OR GSM5270716\\n [All Fields] OR GSM3106288\\n [All Fields] OR GSM3967135\\n [All Fields] OR GSM4629084\\n [All Fields] OR GSM5270207\\n [All Fields] OR GSM5226570\\n [All Fields] OR GSM5269861\\n [All Fields] OR GSM5282131\\n [All Fields] OR GSM5270331\\n [All Fields] OR GSM5570007\\n [All Fields] OR GSM2705060\\n [All Fields] OR GSM5533529\\n [All Fields] OR GSM4027558\\n [All Fields] OR GSM4836322\\n [All Fields] OR GSM3376525\\n [All Fields] OR GSM3902810\\n [All Fields] OR GSM6234532\\n [All Fields] OR GSM5066616\\n [All Fields] OR GSM5777102\\n [All Fields] OR GSM5269809\\n [All Fields] OR GSM2831456\\n [All Fields] OR GSM5533499\\n [All Fields] OR GSM3059342\\n [All Fields] OR GSM5281738\\n [All Fields] OR GSM2572593\\n [All Fields] OR GSM5373215\\n [All Fields] OR GSM5261685\\n [All Fields] OR GSM3762807\\n [All Fields] OR GSM6234515\\n [All Fields] OR GSM4551856\\n [All Fields] OR GSM5261612\\n [All Fields] OR GSM4523657\\n [All Fields] OR GSM5270612\\n [All Fields] OR GSM5655527\\n [All Fields] OR GSM5024539\\n [All Fields] OR GSM5455369\\n [All Fields] OR GSM5261686\\n [All Fields] OR GSM4613451\\n [All Fields] OR GSM5282147\\n [All Fields] OR GSM5270071\\n [All Fields] OR GSM4214142\\n [All Fields] OR GSM5270269\\n [All Fields] OR GSM5270542\\n [All Fields] OR GSM5454993\\n [All Fields] OR GSM4437218\\n [All Fields] OR GSM3613366\\n [All Fields] OR GSM5380715\\n [All Fields] OR GSM3212883\\n [All Fields] OR GSM4195025\\n [All Fields] OR GSM5270153\\n [All Fields] OR GSM4551828\\n [All Fields] OR GSM3664988\\n [All Fields] OR GSM5049895\\n [All Fields] OR GSM2752712\\n [All Fields] OR GSM5269913\\n [All Fields] OR GSM5455042\\n [All Fields] OR GSM5533561\\n [All Fields] OR GSM3212901\\n [All Fields] OR GSM5269893\\n [All Fields] OR GSM4093600\\n [All Fields] OR GSM5665755\\n [All Fields] OR GSM5252279\\n [All Fields] OR GSM4061164\\n [All Fields] OR GSM3018468\\n [All Fields] OR GSM4441710\\n [All Fields] OR GSM3426259\\n [All Fields] OR GSM3930214\\n [All Fields] OR GSM5746049\\n [All Fields] OR GSM3212887\\n [All Fields] OR GSM2936366\\n [All Fields] OR GSM4027555\\n [All Fields] OR GSM5228985\\n [All Fields] OR GSM5772859\\n [All Fields] OR GSM5282126\\n [All Fields] OR GSM5769497\\n [All Fields] OR GSM5379717\\n [All Fields] OR GSM3930331\\n [All Fields] OR GSM4956217\\n [All Fields] OR GSM2831450\\n [All Fields] OR GSM6617163\\n [All Fields] OR GSM6528177\\n [All Fields] OR GSM3018477\\n [All Fields] OR GSM4061166\\n [All Fields] OR GSM5270132\\n [All Fields] OR GSM5905687\\n [All Fields] OR GSM3831283\\n [All Fields] OR GSM4221688\\n [All Fields] OR GSM3486881\\n [All Fields] OR GSM5866071\\n [All Fields] OR GSM5425946\\n [All Fields] OR GSM5270335\\n [All Fields] OR GSM5270564\\n [All Fields] OR GSM4560473\\n [All Fields] OR GSM5772843\\n [All Fields] OR GSM4836154\\n [All Fields] OR GSM4061124\\n [All Fields] OR GSM5617798\\n [All Fields] OR GSM3212904\\n [All Fields] OR GSM5270105\\n [All Fields] OR GSM5746137\\n [All Fields] OR GSM3106285\\n [All Fields] OR GSM5680699\\n [All Fields] OR GSM5777127\\n [All Fields] OR GSM5777124\\n [All Fields] OR GSM5024547\\n [All Fields] OR GSM3426249\\n [All Fields] OR GSM5270114\\n [All Fields] OR GSM4447228\\n [All Fields] OR GSM2829022\\n [All Fields] OR GSM2774008\\n [All Fields] OR GSM4836118\\n [All Fields] OR GSM6206937\\n [All Fields] OR GSM4053405\\n [All Fields] OR GSM5454893\\n [All Fields] OR GSM3045220\\n [All Fields] OR GSM5455379\\n [All Fields] OR GSM5270700\\n [All Fields] OR GSM3240309\\n [All Fields] OR GSM4441701\\n [All Fields] OR GSM2774003\\n [All Fields] OR GSM5503587\\n [All Fields] OR GSM3106273\\n [All Fields] OR GSM6528182\\n [All Fields] OR GSM4629082\\n [All Fields] OR GSM4613483\\n [All Fields] OR GSM5340906\\n [All Fields] OR GSM5270605\\n [All Fields] OR GSM5504653\\n [All Fields] OR GSM5819312\\n [All Fields] OR GSM5516902\\n [All Fields] OR GSM3045196\\n [All Fields] OR GSM5905663\\n [All Fields] OR GSM5533446\\n [All Fields] OR GSM5282141\\n [All Fields] OR GSM3664987\\n [All Fields] OR GSM4195086\\n [All Fields] OR GSM5269907\\n [All Fields] OR GSM5905734\\n [All Fields] OR GSM4217578\\n [All Fields] OR GSM3045214\\n [All Fields] OR GSM4836117\\n [All Fields] OR GSM5282138\\n [All Fields] OR GSM5394205\\n [All Fields] OR GSM5270195\\n [All Fields] OR GSM5270552\\n [All Fields] OR GSM5701999\\n [All Fields] OR GSM3263149\\n [All Fields] OR GSM5270691\\n [All Fields] OR GSM2831393\\n [All Fields] OR GSM2831468\\n [All Fields] OR GSM5515167\\n [All Fields] OR GSM5282051\\n [All Fields] OR GSM5270313\\n [All Fields] OR GSM5227758\\n [All Fields] OR GSM4441803\\n [All Fields] OR GSM4061138\\n [All Fields] OR GSM5269959\\n [All Fields] OR GSM2816614\\n [All Fields] OR GSM3263168\\n [All Fields] OR GSM6080944\\n [All Fields] OR GSM5769486\\n [All Fields] OR GSM5533543\\n [All Fields] OR GSM3714385\\n [All Fields] OR GSM3930234\\n [All Fields] OR GSM5454984\\n [All Fields] OR GSM3178969\\n [All Fields] OR GSM5433998\\n [All Fields] OR GSM2829030\\n [All Fields] OR GSM4560487\\n [All Fields] OR GSM4512139\\n [All Fields] OR GSM5269794\\n [All Fields] OR GSM3930243\\n [All Fields] OR GSM5373216\\n [All Fields] OR GSM4441823\\n [All Fields] OR GSM4093604\\n [All Fields] OR GSM5282118\\n [All Fields] OR GSM5533552\\n [All Fields] OR GSM5340932\\n [All Fields] OR GSM3930268\\n [All Fields] OR GSM4061135\\n [All Fields] OR GSM3103910\\n [All Fields] OR GSM4836292\\n [All Fields] OR GSM4332982\\n [All Fields] OR GSM5226558\\n [All Fields] OR GSM4629068\\n [All Fields] OR GSM3897560\\n [All Fields] OR GSM3930265\\n [All Fields] OR GSM5664130\\n [All Fields] OR GSM3486870\\n [All Fields] OR GSM5777107\\n [All Fields] OR GSM5379705\\n [All Fields] OR GSM3676062\\n [All Fields] OR GSM4948219\\n [All Fields] OR GSM5664106\\n [All Fields] OR GSM4836231\\n [All Fields] OR GSM4851910\\n [All Fields] OR GSM5866079\\n [All Fields] OR GSM5270467\\n [All Fields] OR GSM5799998\\n [All Fields] OR GSM4629116\\n [All Fields] OR GSM4061187\\n [All Fields] OR GSM5238586\\n [All Fields] OR GSM4735749\\n [All Fields] OR GSM2572565\\n [All Fields] OR GSM3106279\\n [All Fields] OR GSM3172727\\n [All Fields] OR GSM4002942\\n [All Fields] OR GSM5270696\\n [All Fields] OR GSM4061146\\n [All Fields] OR GSM5905676\\n [All Fields] OR GSM5066577\\n [All Fields] OR GSM5502006\\n [All Fields] OR GSM5571594\\n [All Fields] OR GSM4613462\\n [All Fields] OR GSM5888604\\n [All Fields] OR GSM3181427\\n [All Fields] OR GSM4753158\\n [All Fields] OR GSM4613517\\n [All Fields] OR GSM5270409\\n [All Fields] OR GSM3106293\\n [All Fields] OR GSM4217589\\n [All Fields] OR GSM5533478\\n [All Fields] OR GSM3181440\\n [All Fields] OR GSM4836213\\n [All Fields] OR GSM5769498\\n [All Fields] OR GSM5269725\\n [All Fields] OR GSM4761269\\n [All Fields] OR GSM5777095\\n [All Fields] OR GSM2645354\\n [All Fields] OR GSM5508185\\n [All Fields] OR GSM4002966\\n [All Fields] OR GSM4736147\\n [All Fields] OR GSM5226549\\n [All Fields] OR GSM4027560\\n [All Fields] OR GSM2439225\\n [All Fields] OR GSM4441711\\n [All Fields] OR GSM3639222\\n [All Fields] OR GSM5270539\\n [All Fields] OR GSM3377441\\n [All Fields] OR GSM4658091\\n [All Fields] OR GSM5664104\\n [All Fields] OR GSM4214157\\n [All Fields] OR GSM5617806\\n [All Fields] OR GSM4761263\\n [All Fields] OR GSM5270079\\n [All Fields] OR GSM4061049\\n [All Fields] OR GSM5777116\\n [All Fields] OR GSM4613586\\n [All Fields] OR GSM5270338\\n [All Fields] OR GSM5628875\\n [All Fields] OR GSM4563903\\n [All Fields] OR GSM4002968\\n [All Fields] OR GSM5379677\\n [All Fields] OR GSM4836115\\n [All Fields] OR GSM5277133\\n [All Fields] OR GSM4518157\\n [All Fields] OR GSM2572619\\n [All Fields] OR GSM5365319\\n [All Fields] OR GSM5800033\\n [All Fields] OR GSM5628866\\n [All Fields] OR GSM6508521\\n [All Fields] OR GSM4736181\\n [All Fields] OR GSM4836309\\n [All Fields] OR GSM5655532\\n [All Fields] OR GSM4141991\\n [All Fields] OR GSM5905654\\n [All Fields] OR GSM5213489\\n [All Fields] OR GSM5270681\\n [All Fields] OR GSM5270791\\n [All Fields] OR GSM5282148\\n [All Fields] OR GSM5269993\\n [All Fields] OR GSM5746237\\n [All Fields] OR GSM2752709\\n [All Fields] OR GSM5905684\\n [All Fields] OR GSM5269930\\n [All Fields] OR GSM5420205\\n [All Fields] OR GSM5866080\\n [All Fields] OR GSM3597197\\n [All Fields] OR GSM4447218\\n [All Fields] OR GSM4221704\\n [All Fields] OR GSM2831443\\n [All Fields] OR GSM2572600\\n [All Fields] OR GSM4629105\\n [All Fields] OR GSM4613563\\n [All Fields] OR GSM3664996\\n [All Fields] OR GSM4441793\\n [All Fields] OR GSM4836111\\n [All Fields] OR GSM6210121\\n [All Fields] OR GSM4221705\\n [All Fields] OR GSM2572659\\n [All Fields] OR GSM5533495\\n [All Fields] OR GSM4836199\\n [All Fields] OR GSM4547536\\n [All Fields] OR GSM4512144\\n [All Fields] OR GSM3444789\\n [All Fields] OR GSM5905728\\n [All Fields] OR GSM4613514\\n [All Fields] OR GSM4061175\\n [All Fields] OR GSM2705085\\n [All Fields] OR GSM4061089\\n [All Fields] OR GSM4221698\\n [All Fields] OR GSM5281672\\n [All Fields] OR GSM2829043\\n [All Fields] OR GSM4214143\\n [All Fields] OR GSM2829042\\n [All Fields] OR GSM3508596\\n [All Fields] OR GSM5746088\\n [All Fields] OR GSM4629142\\n [All Fields] OR GSM4792954\\n [All Fields] OR GSM5819304\\n [All Fields] OR GSM4761254\\n [All Fields] OR GSM4551943\\n [All Fields] OR GSM5819354\\n [All Fields] OR GSM3397788\\n [All Fields] OR GSM3902799\\n [All Fields] OR GSM4886798\\n [All Fields] OR GSM5819352\\n [All Fields] OR GSM4523653\\n [All Fields] OR GSM5746246\\n [All Fields] OR GSM4613590\\n [All Fields] OR GSM5029874\\n [All Fields] OR GSM5702005\\n [All Fields] OR GSM3930286\\n [All Fields] OR GSM4551791\\n [All Fields] OR GSM4061028\\n [All Fields] OR GSM4060971\\n [All Fields] OR GSM3930224\\n [All Fields] OR GSM4628278\\n [All Fields] OR GSM3455874\\n [All Fields] OR GSM5819323\\n [All Fields] OR GSM5270592\\n [All Fields] OR GSM6617164\\n [All Fields] OR GSM3103917\\n [All Fields] OR GSM2572677\\n [All Fields] OR GSM5270085\\n [All Fields] OR GSM5270387\\n [All Fields] OR GSM5270504\\n [All Fields] OR GSM2831395\\n [All Fields] OR GSM5270683\\n [All Fields] OR GSM5270728\\n [All Fields] OR GSM5270516\\n [All Fields] OR GSM5270673\\n [All Fields] OR GSM2830539\\n [All Fields] OR GSM5269812\\n [All Fields] OR GSM3376587\\n [All Fields] OR GSM3639228\\n [All Fields] OR GSM4027553\\n [All Fields] OR GSM5746180\\n [All Fields] OR GSM4836171\\n [All Fields] OR GSM5455001\\n [All Fields] OR GSM5269876\\n [All Fields] OR GSM3424974\\n [All Fields] OR GSM5269749\\n [All Fields] OR GSM4061040\\n [All Fields] OR GSM4613482\\n [All Fields] OR GSM5772822\\n [All Fields] OR GSM5270375\\n [All Fields] OR GSM4736151\\n [All Fields] OR GSM3486888\\n [All Fields] OR GSM5270658\\n [All Fields] OR GSM3172698\\n [All Fields] OR GSM4876536\\n [All Fields] OR GSM5905719\\n [All Fields] OR GSM5746041\\n [All Fields] OR GSM2831445\\n [All Fields] OR GSM5270558\\n [All Fields] OR GSM4061082\\n [All Fields] OR GSM4141934\\n [All Fields] OR GSM3930305\\n [All Fields] OR GSM2987658\\n [All Fields] OR GSM3106277\\n [All Fields] OR GSM5746074\\n [All Fields] OR GSM4735765\\n [All Fields] OR GSM2816629\\n [All Fields] OR GSM5228996\\n [All Fields] OR GSM4514005\\n [All Fields] OR GSM4447213\\n [All Fields] OR GSM4214724\\n [All Fields] OR GSM4836415\\n [All Fields] OR GSM3263212\\n [All Fields] OR GSM3106264\\n [All Fields] OR GSM2705051\\n [All Fields] OR GSM4551853\\n [All Fields] OR GSM4214150\\n [All Fields] OR GSM3426271\\n [All Fields] OR GSM5269871\\n [All Fields] OR GSM5066574\\n [All Fields] OR GSM5746185\\n [All Fields] OR GSM5269990\\n [All Fields] OR GSM5270095\\n [All Fields] OR GSM5269889\\n [All Fields] OR GSM4221695\\n [All Fields] OR GSM5270669\\n [All Fields] OR GSM5617835\\n [All Fields] OR GSM4563926\\n [All Fields] OR GSM3263197\\n [All Fields] OR GSM2705062\\n [All Fields] OR GSM5746034\\n [All Fields] OR GSM5270373\\n [All Fields] OR GSM4836182\\n [All Fields] OR GSM4332983\\n [All Fields] OR GSM4613489\\n [All Fields] OR GSM4560483\\n [All Fields] OR GSM2752693\\n [All Fields] OR GSM5270529\\n [All Fields] OR GSM5819346\\n [All Fields] OR GSM4871516\\n [All Fields] OR GSM5228983\\n [All Fields] OR GSM4332981\\n [All Fields] OR GSM5617815\\n [All Fields] OR GSM5029871\\n [All Fields] OR GSM4836050\\n [All Fields] OR GSM3263202\\n [All Fields] OR GSM5533494\\n [All Fields] OR GSM3901174\\n [All Fields] OR GSM5680688\\n [All Fields] OR GSM4141990\\n [All Fields] OR GSM3597244\\n [All Fields] OR GSM5463908\\n [All Fields] OR GSM2138337\\n [All Fields] OR GSM3714378\\n [All Fields] OR GSM3263213\\n [All Fields] OR GSM5261669\\n [All Fields] OR GSM5617796\\n [All Fields] OR GSM4141956\\n [All Fields] OR GSM5066588\\n [All Fields] OR GSM4333048\\n [All Fields] OR GSM4886806\\n [All Fields] OR GSM4836149\\n [All Fields] OR GSM5333780\\n [All Fields] OR GSM4876528\\n [All Fields] OR GSM5029828\\n [All Fields] OR GSM5503585\\n [All Fields] OR GSM5888600\\n [All Fields] OR GSM5270259\\n [All Fields] OR GSM5270596\\n [All Fields] OR GSM3240315\\n [All Fields] OR GSM4061097\\n [All Fields] OR GSM4072352\\n [All Fields] OR GSM4628272\\n [All Fields] OR GSM5394203\\n [All Fields] OR GSM5504663\\n [All Fields] OR GSM4486660\\n [All Fields] OR GSM5238603\\n [All Fields] OR GSM4523661\\n [All Fields] OR GSM5270664\\n [All Fields] OR GSM3452728\\n [All Fields] OR GSM5819326\\n [All Fields] OR GSM4563908\\n [All Fields] OR GSM4061069\\n [All Fields] OR GSM5270615\\n [All Fields] OR GSM3967123\\n [All Fields] OR GSM4629107\\n [All Fields] OR GSM5905738\\n [All Fields] OR GSM5281652\\n [All Fields] OR GSM5029777\\n [All Fields] OR GSM5269870\\n [All Fields] OR GSM5379650\\n [All Fields] OR GSM5270131\\n [All Fields] OR GSM5388183\\n [All Fields] OR GSM5800005\\n [All Fields] OR GSM5746157\\n [All Fields] OR GSM5066591\\n [All Fields] OR GSM4060969\\n [All Fields] OR GSM5905709\\n [All Fields] OR GSM2915178\\n [All Fields] OR GSM4214119\\n [All Fields] OR GSM3376543\\n [All Fields] OR GSM5800018\\n [All Fields] OR GSM2572631\\n [All Fields] OR GSM5269979\\n [All Fields] OR GSM5270284\\n [All Fields] OR GSM5269862\\n [All Fields] OR GSM3903795\\n [All Fields] OR GSM3902796\\n [All Fields] OR GSM3263173\\n [All Fields] OR GSM4563965\\n [All Fields] OR GSM3212832\\n [All Fields] OR GSM2831397\\n [All Fields] OR GSM4523663\\n [All Fields] OR GSM5905736\\n [All Fields] OR GSM5270272\\n [All Fields] OR GSM3377451\\n [All Fields] OR GSM3762806\\n [All Fields] OR GSM5455017\\n [All Fields] OR GSM5379673\\n [All Fields] OR GSM3376535\\n [All Fields] OR GSM6528187\\n [All Fields] OR GSM3391512\\n [All Fields] OR GSM5592673\\n [All Fields] OR GSM5905677\\n [All Fields] OR GSM4333022\\n [All Fields] OR GSM4061055\\n [All Fields] OR GSM4094647\\n [All Fields] OR GSM3032905\\n [All Fields] OR GSM4836366\\n [All Fields] OR GSM5269787\\n [All Fields] OR GSM3018467\\n [All Fields] OR GSM5455020\\n [All Fields] OR GSM5502007\\n [All Fields] OR GSM3676070\\n [All Fields] OR GSM5678433\\n [All Fields] OR GSM5819401\\n [All Fields] OR GSM3018501\\n [All Fields] OR GSM4836389\\n [All Fields] OR GSM4629067\\n [All Fields] OR GSM4061077\\n [All Fields] OR GSM5281669\\n [All Fields] OR GSM3018469\\n [All Fields] OR GSM3181443\\n [All Fields] OR GSM4060946\\n [All Fields] OR GSM4563969\\n [All Fields] OR GSM4441740\\n [All Fields] OR GSM4027530\\n [All Fields] OR GSM5270705\\n [All Fields] OR GSM3377439\\n [All Fields] OR GSM5281640\\n [All Fields] OR GSM4551839\\n [All Fields] OR GSM4613577\\n [All Fields] OR GSM3032913\\n [All Fields] OR GSM5227773\\n [All Fields] OR GSM5819322\\n [All Fields] OR GSM5227766\\n [All Fields] OR GSM4523660\\n [All Fields] OR GSM4629109\\n [All Fields] OR GSM5819311\\n [All Fields] OR GSM4513979\\n [All Fields] OR GSM4628279\\n [All Fields] OR GSM5746073\\n [All Fields] OR GSM3986365\\n [All Fields] OR GSM4214727\\n [All Fields] OR GSM4836236\\n [All Fields] OR GSM3059345\\n [All Fields] OR GSM2831375\\n [All Fields] OR GSM5665777\\n [All Fields] OR GSM5270000\\n [All Fields] OR GSM5270737\\n [All Fields] OR GSM5269954\\n [All Fields] OR GSM5270407\\n [All Fields] OR GSM4217583\\n [All Fields] OR GSM4002962\\n [All Fields] OR GSM5269771\\n [All Fields] OR GSM4002974\\n [All Fields] OR GSM5270285\\n [All Fields] OR GSM5252272\\n [All Fields] OR GSM4613516\\n [All Fields] OR GSM3172719\\n [All Fields] OR GSM5819325\\n [All Fields] OR GSM6528193\\n [All Fields] OR GSM5066609\\n [All Fields] OR GSM5455062\\n [All Fields] OR GSM3212881\\n [All Fields] OR GSM3263215\\n [All Fields] OR GSM5746200\\n [All Fields] OR GSM4836253\\n [All Fields] OR GSM5270454\\n [All Fields] OR GSM3455893\\n [All Fields] OR GSM5270142\\n [All Fields] OR GSM6528190\\n [All Fields] OR GSM3444790\\n [All Fields] OR GSM3376598\\n [All Fields] OR GSM5029848\\n [All Fields] OR GSM5270763\\n [All Fields] OR GSM5270603\\n [All Fields] OR GSM5282060\\n [All Fields] OR GSM5269859\\n [All Fields] OR GSM3714376\\n [All Fields] OR GSM4061042\\n [All Fields] OR GSM5029851\\n [All Fields] OR GSM4735771\\n [All Fields] OR GSM3426287\\n [All Fields] OR GSM4782224\\n [All Fields] OR GSM6234568\\n [All Fields] OR GSM5269935\\n [All Fields] OR GSM5420199\\n [All Fields] OR GSM5029885\\n [All Fields] OR GSM4214141\\n [All Fields] OR GSM5270741\\n [All Fields] OR GSM4512145\\n [All Fields] OR GSM5388167\\n [All Fields] OR GSM5340922\\n [All Fields] OR GSM4403636\\n [All Fields] OR GSM3424979\\n [All Fields] OR GSM4836370\\n [All Fields] OR GSM5219235\\n [All Fields] OR GSM4002939\\n [All Fields] OR GSM4456307\\n [All Fields] OR GSM5029853\\n [All Fields] OR GSM5819405\\n [All Fields] OR GSM5269726\\n [All Fields] OR GSM2705059\\n [All Fields] OR GSM5746226\\n [All Fields] OR GSM6528135\\n [All Fields] OR GSM5252281\\n [All Fields] OR GSM3018487\\n [All Fields] OR GSM5270358\\n [All Fields] OR GSM4836047\\n [All Fields] OR GSM4672363\\n [All Fields] OR GSM5270279\\n [All Fields] OR GSM5270786\\n [All Fields] OR GSM5772960\\n [All Fields] OR GSM5270471\\n [All Fields] OR GSM5800031\\n [All Fields] OR GSM5905718\\n [All Fields] OR GSM4836388\\n [All Fields] OR GSM5746030\\n [All Fields] OR GSM5269713\\n [All Fields] OR GSM6508864\\n [All Fields] OR GSM5029870\\n [All Fields] OR GSM3229501\\n [All Fields] OR GSM2831411\\n [All Fields] OR GSM4736178\\n [All Fields] OR GSM5270014\\n [All Fields] OR GSM5571595\\n [All Fields] OR GSM5269750\\n [All Fields] OR GSM4851912\\n [All Fields] OR GSM5746062\\n [All Fields] OR GSM4551837\\n [All Fields] OR GSM3791760\\n [All Fields] OR GSM4851909\\n [All Fields] OR GSM5680702\\n [All Fields] OR GSM4761264\\n [All Fields] OR GSM3376521\\n [All Fields] OR GSM3762802\\n [All Fields] OR GSM3639697\\n [All Fields] OR GSM5004146\\n [All Fields] OR GSM4061194\\n [All Fields] OR GSM5034239\\n [All Fields] OR GSM5267744\\n [All Fields] OR GSM5526451\\n [All Fields] OR GSM5252273\\n [All Fields] OR GSM5282064\\n [All Fields] OR GSM4836384\\n [All Fields] OR GSM3902827\\n [All Fields] OR GSM4061003\\n [All Fields] OR GSM4836419\\n [All Fields] OR GSM3181426\\n [All Fields] OR GSM3897566\\n [All Fields] OR GSM5268033\\n [All Fields] OR GSM3967082\\n [All Fields] OR GSM5269857\\n [All Fields] OR GSM5282125\\n [All Fields] OR GSM5455374\\n [All Fields] OR GSM5570024\\n [All Fields] OR GSM5269842\\n [All Fields] OR GSM4836056\\n [All Fields] OR GSM4061067\\n [All Fields] OR GSM5617814\\n [All Fields] OR GSM4551823\\n [All Fields] OR GSM4696931\\n [All Fields] OR GSM4441775\\n [All Fields] OR GSM3376538\\n [All Fields] OR GSM5680728\\n [All Fields] OR GSM6585939\\n [All Fields] OR GSM4512151\\n [All Fields] OR GSM5270248\\n [All Fields] OR GSM4217570\\n [All Fields] OR GSM5379692\\n [All Fields] OR GSM4447215\\n [All Fields] OR GSM4836325\\n [All Fields] OR GSM5270012\\n [All Fields] OR GSM3106286\\n [All Fields] OR GSM4061211\\n [All Fields] OR GSM5379647\\n [All Fields] OR GSM4761238\\n [All Fields] OR GSM5270675\\n [All Fields] OR GSM2831384\\n [All Fields] OR GSM2705053\\n [All Fields] OR GSM5029765\\n [All Fields] OR GSM5526449\\n [All Fields] OR GSM5282110\\n [All Fields] OR GSM4441694\\n [All Fields] OR GSM3714978\\n [All Fields] OR GSM3591885\\n [All Fields] OR GSM2572560\\n [All Fields] OR GSM6528176\\n [All Fields] OR GSM4836272\\n [All Fields] OR GSM2974088\\n [All Fields] OR GSM5029818\\n [All Fields] OR GSM2831473\\n [All Fields] OR GSM6234564\\n [All Fields] OR GSM4551932\\n [All Fields] OR GSM5270034\\n [All Fields] OR GSM2705050\\n [All Fields] OR GSM4476747\\n [All Fields] OR GSM4217586\\n [All Fields] OR GSM5827292\\n [All Fields] OR GSM4333034\\n [All Fields] OR GSM5827290\\n [All Fields] OR GSM5029760\\n [All Fields] OR GSM4836245\\n [All Fields] OR GSM5420204\\n [All Fields] OR GSM5664132\\n [All Fields] OR GSM5455043\\n [All Fields] OR GSM3597225\\n [All Fields] OR GSM5270169\\n [All Fields] OR GSM2831347\\n [All Fields] OR GSM4836169\\n [All Fields] OR GSM5270174\\n [All Fields] OR GSM4826476\\n [All Fields] OR GSM3762820\\n [All Fields] OR GSM3059344\\n [All Fields] OR GSM3212838\\n [All Fields] OR GSM4060950\\n [All Fields] OR GSM5617778\\n [All Fields] OR GSM5737699\\n [All Fields] OR GSM4513977\\n [All Fields] OR GSM3106268\\n [All Fields] OR GSM5533519\\n [All Fields] OR GSM4551958\\n [All Fields] OR GSM5454985\\n [All Fields] OR GSM5269918\\n [All Fields] OR GSM5269754\\n [All Fields] OR GSM4563941\\n [All Fields] OR GSM4876535\\n [All Fields] OR GSM3376583\\n [All Fields] OR GSM2572645\\n [All Fields] OR GSM4061048\\n [All Fields] OR GSM4563963\\n [All Fields] OR GSM5516897\\n [All Fields] OR GSM3466910\\n [All Fields] OR GSM5270640\\n [All Fields] OR GSM3897555\\n [All Fields] OR GSM5603565\\n [All Fields] OR GSM4027568\\n [All Fields] OR GSM3081992\\n [All Fields] OR GSM5434007\\n [All Fields] OR GSM4441832\\n [All Fields] OR GSM4061170\\n [All Fields] OR GSM2829055\\n [All Fields] OR GSM5501985\\n [All Fields] OR GSM4836392\\n [All Fields] OR GSM4763885\\n [All Fields] OR GSM5769504\\n [All Fields] OR GSM4441767\\n [All Fields] OR GSM5226553\\n [All Fields] OR GSM4836070\\n [All Fields] OR GSM4141938\\n [All Fields] OR GSM3930303\\n [All Fields] OR GSM5819367\\n [All Fields] OR GSM2572616\\n [All Fields] OR GSM4826477\\n [All Fields] OR GSM4476750\\n [All Fields] OR GSM4551905\\n [All Fields] OR GSM4792968\\n [All Fields] OR GSM4613454\\n [All Fields] OR GSM3930246\\n [All Fields] OR GSM5425966\\n [All Fields] OR GSM4214138\\n [All Fields] OR GSM3597226\\n [All Fields] OR GSM3240313\\n [All Fields] OR GSM5269829\\n [All Fields] OR GSM4836264\\n [All Fields] OR GSM6528168\\n [All Fields] OR GSM4792967\\n [All Fields] OR GSM3597209\\n [All Fields] OR GSM5772842\\n [All Fields] OR GSM3172736\\n [All Fields] OR GSM5455046\\n [All Fields] OR GSM5252268\\n [All Fields] OR GSM3426277\\n [All Fields] OR GSM5029739\\n [All Fields] OR GSM5282055\\n [All Fields] OR GSM3762826\\n [All Fields] OR GSM3986367\\n [All Fields] OR GSM5270666\\n [All Fields] OR GSM5819333\\n [All Fields] OR GSM5049900\\n [All Fields] OR GSM5720715\\n [All Fields] OR GSM5827710\\n [All Fields] OR GSM4955433\\n [All Fields] OR GSM4441802\\n [All Fields] OR GSM4560474\\n [All Fields] OR GSM5270222\\n [All Fields] OR GSM4194771\\n [All Fields] OR GSM4514004\\n [All Fields] OR GSM2705054\\n [All Fields] OR GSM5340934\\n [All Fields] OR GSM5533451\\n [All Fields] OR GSM4506426\\n [All Fields] OR GSM6585935\\n [All Fields] OR GSM4441774\\n [All Fields] OR GSM3376572\\n [All Fields] OR GSM5029753\\n [All Fields] OR GSM5281760\\n [All Fields] OR GSM3930278\\n [All Fields] OR GSM5819318\\n [All Fields] OR GSM3902793\\n [All Fields] OR GSM3967114\\n [All Fields] OR GSM5617795\\n [All Fields] OR GSM5029876\\n [All Fields] OR GSM6234518\\n [All Fields] OR GSM5819384\\n [All Fields] OR GSM3018462\\n [All Fields] OR GSM4743722\\n [All Fields] OR GSM5379709\\n [All Fields] OR GSM5270452\\n [All Fields] OR GSM5226560\\n [All Fields] OR GSM5270591\\n [All Fields] OR GSM5270258\\n [All Fields] OR GSM4836330\\n [All Fields] OR GSM5455026\\n [All Fields] OR GSM5029860\\n [All Fields] OR GSM4735757\\n [All Fields] OR GSM2829018\\n [All Fields] OR GSM4195084\\n [All Fields] OR GSM3106276\\n [All Fields] OR GSM4792944\\n [All Fields] OR GSM5270626\\n [All Fields] OR GSM6585954\\n [All Fields] OR GSM2572601\\n [All Fields] OR GSM5533520\\n [All Fields] OR GSM4836074\\n [All Fields] OR GSM5746174\\n [All Fields] OR GSM4195043\\n [All Fields] OR GSM5270755\\n [All Fields] OR GSM2915171\\n [All Fields] OR GSM5282075\\n [All Fields] OR GSM3930285\\n [All Fields] OR GSM5270060\\n [All Fields] OR GSM5772878\\n [All Fields] OR GSM3901181\\n [All Fields] OR GSM3106299\\n [All Fields] OR GSM4441730\\n [All Fields] OR GSM5269847\\n [All Fields] OR GSM4836102\\n [All Fields] OR GSM2756146\\n [All Fields] OR GSM4061189\\n [All Fields] OR GSM4447223\\n [All Fields] OR GSM4332980\\n [All Fields] OR GSM5905713\\n [All Fields] OR GSM5004158\\n [All Fields] OR GSM5425959\\n [All Fields] OR GSM4871527\\n [All Fields] OR GSM4613555\\n [All Fields] OR GSM5737698\\n [All Fields] OR GSM4333037\\n [All Fields] OR GSM2831419\\n [All Fields] OR GSM5340919\\n [All Fields] OR GSM5269866\\n [All Fields] OR GSM3397784\\n [All Fields] OR GSM5533505\\n [All Fields] OR GSM4333016\\n [All Fields] OR GSM4969721\\n [All Fields] OR GSM5379689\\n [All Fields] OR GSM5777094\\n [All Fields] OR GSM5270008\\n [All Fields] OR GSM6234565\\n [All Fields] OR GSM5261667\\n [All Fields] OR GSM5533541\\n [All Fields] OR GSM4441705\\n [All Fields] OR GSM4658095\\n [All Fields] OR GSM4613478\\n [All Fields] OR GSM4568365\\n [All Fields] OR GSM5340945\\n [All Fields] OR GSM4753151\\n [All Fields] OR GSM5029877\\n [All Fields] OR GSM5379669\\n [All Fields] OR GSM5269934\\n [All Fields] OR GSM4836239\\n [All Fields] OR GSM3212889\\n [All Fields] OR GSM3263169\\n [All Fields] OR GSM5819297\\n [All Fields] OR GSM2915169\\n [All Fields] OR GSM3172715\\n [All Fields] OR GSM5772852\\n [All Fields] OR GSM5746142\\n [All Fields] OR GSM5777126\\n [All Fields] OR GSM5004131\\n [All Fields] OR GSM3486886\\n [All Fields] OR GSM3426266\\n [All Fields] OR GSM5508198\\n [All Fields] OR GSM4441831\\n [All Fields] OR GSM5281752\\n [All Fields] OR GSM5905690\\n [All Fields] OR GSM5571602\\n [All Fields] OR GSM4506427\\n [All Fields] OR GSM4551930\\n [All Fields] OR GSM4613459\\n [All Fields] OR GSM5340937\\n [All Fields] OR GSM4551820\\n [All Fields] OR GSM4551810\\n [All Fields] OR GSM5281712\\n [All Fields] OR GSM5270545\\n [All Fields] OR GSM4441835\\n [All Fields] OR GSM4836057\\n [All Fields] OR GSM3106269\\n [All Fields] OR GSM5772833\\n [All Fields] OR GSM3376550\\n [All Fields] OR GSM4563905\\n [All Fields] OR GSM4613588\\n [All Fields] OR GSM5819301\\n [All Fields] OR GSM4876530\\n [All Fields] OR GSM5379676\\n [All Fields] OR GSM6528197\\n [All Fields] OR GSM4836261\\n [All Fields] OR GSM4053397\\n [All Fields] OR GSM3376591\\n [All Fields] OR GSM3426261\\n [All Fields] OR GSM6234516\\n [All Fields] OR GSM5282164\\n [All Fields] OR GSM5269996\\n [All Fields] OR GSM5155216\\n [All Fields] OR GSM5029830\\n [All Fields] OR GSM5340954\\n [All Fields] OR GSM5270562\\n [All Fields] OR GSM5270046\\n [All Fields] OR GSM4736194\\n [All Fields] OR GSM3212875\\n [All Fields] OR GSM5270136\\n [All Fields] OR GSM5029759\\n [All Fields] OR GSM4773065\\n [All Fields] OR GSM4836204\\n [All Fields] OR GSM5819328\\n [All Fields] OR GSM5269825\\n [All Fields] OR GSM4332978\\n [All Fields] OR GSM2773997\\n [All Fields] OR GSM5655513\\n [All Fields] OR GSM5504648\\n [All Fields] OR GSM5533533\\n [All Fields] OR GSM2572647\\n [All Fields] OR GSM5270599\\n [All Fields] OR GSM5819361\\n [All Fields] OR GSM3424969\\n [All Fields] OR GSM3897556\\n [All Fields] OR GSM5701995\\n [All Fields] OR GSM5004132\\n [All Fields] OR GSM4141928\\n [All Fields] OR GSM3897573\\n [All Fields] OR GSM4441772\\n [All Fields] OR GSM3212930\\n [All Fields] OR GSM2572674\\n [All Fields] OR GSM3897554\\n [All Fields] OR GSM4836300\\n [All Fields] OR GSM4338300\\n [All Fields] OR GSM4332984\\n [All Fields] OR GSM2816634\\n [All Fields] OR GSM3376540\\n [All Fields] OR GSM4514006\\n [All Fields] OR GSM5270527\\n [All Fields] OR GSM4551877\\n [All Fields] OR GSM3106296\\n [All Fields] OR GSM4801416\\n [All Fields] OR GSM5228986\\n [All Fields] OR GSM4061192\\n [All Fields] OR GSM3769103\\n [All Fields] OR GSM5261603\\n [All Fields] OR GSM4338296\\n [All Fields] OR GSM3103911\\n [All Fields] OR GSM2645359\\n [All Fields] OR GSM5282139\\n [All Fields] OR GSM4629108\\n [All Fields] OR GSM3902806\\n [All Fields] OR GSM5065201\\n [All Fields] OR GSM5226557\\n [All Fields] OR GSM4792965\\n [All Fields] OR GSM5226571\\n [All Fields] OR GSM4551895\\n [All Fields] OR GSM4333025\\n [All Fields] OR GSM4518154\\n [All Fields] OR GSM2831454\\n [All Fields] OR GSM5533542\\n [All Fields] OR GSM4214156\\n [All Fields] OR GSM4836106\\n [All Fields] OR GSM5282057\\n [All Fields] OR GSM5515076\\n [All Fields] OR GSM5746224\\n [All Fields] OR GSM4061111\\n [All Fields] OR GSM4061008\\n [All Fields] OR GSM3901185\\n [All Fields] OR GSM4861352\\n [All Fields] OR GSM4633104\\n [All Fields] OR GSM5270121\\n [All Fields] OR GSM4736182\\n [All Fields] OR GSM4792945\\n [All Fields] OR GSM4613571\\n [All Fields] OR GSM5270629\\n [All Fields] OR GSM4551801\\n [All Fields] OR GSM4836215\\n [All Fields] OR GSM4761240\\n [All Fields] OR GSM3452734\\n [All Fields] OR GSM4441765\\n [All Fields] OR GSM5229036\\n [All Fields] OR GSM5270113\\n [All Fields] OR GSM4551789\\n [All Fields] OR GSM2816649\\n [All Fields] OR GSM4836364\\n [All Fields] OR GSM4061191\\n [All Fields] OR GSM3426286\\n [All Fields] OR GSM4629124\\n [All Fields] OR GSM3455895\\n [All Fields] OR GSM5269737\\n [All Fields] OR GSM4551826\\n [All Fields] OR GSM2572596\\n [All Fields] OR GSM3930230\\n [All Fields] OR GSM3380558\\n [All Fields] OR GSM5832687\\n [All Fields] OR GSM5570008\\n [All Fields] OR GSM6206934\\n [All Fields] OR GSM5281749\\n [All Fields] OR GSM5746179\\n [All Fields] OR GSM5227753\\n [All Fields] OR GSM5333782\\n [All Fields] OR GSM5680743\\n [All Fields] OR GSM5270412\\n [All Fields] OR GSM4613560\\n [All Fields] OR GSM5772857\\n [All Fields] OR GSM4629085\\n [All Fields] OR GSM4836135\\n [All Fields] OR GSM5433997\\n [All Fields] OR GSM3376578\\n [All Fields] OR GSM5746099\\n [All Fields] OR GSM2572592\\n [All Fields] OR GSM5270444\\n [All Fields] OR GSM4551802\\n [All Fields] OR GSM4194651\\n [All Fields] OR GSM5746011\\n [All Fields] OR GSM4861366\\n [All Fields] OR GSM5270520\\n [All Fields] OR GSM4142009\\n [All Fields] OR GSM2752717\\n [All Fields] OR GSM4551907\\n [All Fields] OR GSM5281677\\n [All Fields] OR GSM2572594\\n [All Fields] OR GSM5800015\\n [All Fields] OR GSM5777128\\n [All Fields] OR GSM4332965\\n [All Fields] OR GSM5226568\\n [All Fields] OR GSM5270302\\n [All Fields] OR GSM5866077\\n [All Fields] OR GSM5270530\\n [All Fields] OR GSM4871518\\n [All Fields] OR GSM4142032\\n [All Fields] OR GSM3212897\\n [All Fields] OR GSM5533456\\n [All Fields] OR GSM5269779\\n [All Fields] OR GSM5270699\\n [All Fields] OR GSM3045207\\n [All Fields] OR GSM4613501\\n [All Fields] OR GSM4514010\\n [All Fields] OR GSM4696930\\n [All Fields] OR GSM5455004\\n [All Fields] OR GSM4333049\\n [All Fields] OR GSM5455083\\n [All Fields] OR GSM5029834\\n [All Fields] OR GSM4563928\\n [All Fields] OR GSM5905725\\n [All Fields] OR GSM5269843\\n [All Fields] OR GSM3901164\\n [All Fields] OR GSM5066615\\n [All Fields] OR GSM4696920\\n [All Fields] OR GSM5029729\\n [All Fields] OR GSM5029728\\n [All Fields] OR GSM4836279\\n [All Fields] OR GSM4613543\\n [All Fields] OR GSM4560489\\n [All Fields] OR GSM2831465\\n [All Fields] OR GSM2138330\\n [All Fields] OR GSM3263188\\n [All Fields] OR GSM4061072\\n [All Fields] OR GSM5282121\\n [All Fields] OR GSM4836259\\n [All Fields] OR GSM3263223\\n [All Fields] OR GSM4836164\\n [All Fields] OR GSM4061092\\n [All Fields] OR GSM5004134\\n [All Fields] OR GSM4061190\\n [All Fields] OR GSM5252295\\n [All Fields] OR GSM3901173\\n [All Fields] OR GSM5270789\\n [All Fields] OR GSM5213490\\n [All Fields] OR GSM3376532\\n [All Fields] OR GSM6528186\\n [All Fields] OR GSM2831470\\n [All Fields] OR GSM5772954\\n [All Fields] OR GSM5213488\\n [All Fields] OR GSM5004162\\n [All Fields] OR GSM3897550\\n [All Fields] OR GSM3831284\\n [All Fields] OR GSM5516910\\n [All Fields] OR GSM3897549\\n [All Fields] OR GSM4836271\\n [All Fields] OR GSM5632800\\n [All Fields] OR GSM5905717\\n [All Fields] OR GSM4836304\\n [All Fields] OR GSM5434015\\n [All Fields] OR GSM5270567\\n [All Fields] OR GSM4523680\\n [All Fields] OR GSM5270038\\n [All Fields] OR GSM4333024\\n [All Fields] OR GSM4551869\\n [All Fields] OR GSM6528147\\n [All Fields] OR GSM4836134\\n [All Fields] OR GSM4551947\\n [All Fields] OR GSM3018510\\n [All Fields] OR GSM3391511\\n [All Fields] OR GSM6528146\\n [All Fields] OR GSM5533500\\n [All Fields] OR GSM4061208\\n [All Fields] OR GSM3181438\\n [All Fields] OR GSM5379652\\n [All Fields] OR GSM5504659\\n [All Fields] OR GSM5270141\\n [All Fields] OR GSM5269719\\n [All Fields] OR GSM4736157\\n [All Fields] OR GSM5034243\\n [All Fields] OR GSM3967103\\n [All Fields] OR GSM5380714\\n [All Fields] OR GSM4061206\\n [All Fields] OR GSM5269796\\n [All Fields] OR GSM3455870\\n [All Fields] OR GSM6617165\\n [All Fields] OR GSM5777109\\n [All Fields] OR GSM6234577\\n [All Fields] OR GSM4736170\\n [All Fields] OR GSM5664129\\n [All Fields] OR GSM3240304\\n [All Fields] OR GSM5270361\\n [All Fields] OR GSM4512142\\n [All Fields] OR GSM3930311\\n [All Fields] OR GSM5270323\\n [All Fields] OR GSM5270151\\n [All Fields] OR GSM3018466\\n [All Fields] OR GSM4441810\\n [All Fields] OR GSM5455372\\n [All Fields] OR GSM3901168\\n [All Fields] OR GSM3930255\\n [All Fields] OR GSM4027557\\n [All Fields] OR GSM5238608\\n [All Fields] OR GSM5570017\\n [All Fields] OR GSM3967115\\n [All Fields] OR GSM4836122\\n [All Fields] OR GSM3103915\\n [All Fields] OR GSM5270795\\n [All Fields] OR GSM5004110\\n [All Fields] OR GSM4871513\\n [All Fields] OR GSM5746171\\n [All Fields] OR GSM3676072\\n [All Fields] OR GSM5004167\\n [All Fields] OR GSM2816656\\n [All Fields] OR GSM4061081\\n [All Fields] OR GSM4836079\\n [All Fields] OR GSM5819395\\n [All Fields] OR GSM4613507\\n [All Fields] OR GSM3466912\\n [All Fields] OR GSM5066617\\n [All Fields] OR GSM4836225\\n [All Fields] OR GSM4836332\\n [All Fields] OR GSM4753179\\n [All Fields] OR GSM3212924\\n [All Fields] OR GSM2987656\\n [All Fields] OR GSM2831385\\n [All Fields] OR GSM5281679\\n [All Fields] OR GSM4628274\\n [All Fields] OR GSM5270317\\n [All Fields] OR GSM5226566\\n [All Fields] OR GSM4333030\\n [All Fields] OR GSM3597223\\n [All Fields] OR GSM5270298\\n [All Fields] OR GSM4551840\\n [All Fields] OR GSM2572629\\n [All Fields] OR GSM4551889\\n [All Fields] OR GSM3967077\\n [All Fields] OR GSM5720711\\n [All Fields] OR GSM5270770\\n [All Fields] OR GSM2816645\\n [All Fields] OR GSM5746219\\n [All Fields] OR GSM5270731\\n [All Fields] OR GSM4027534\\n [All Fields] OR GSM4629110\\n [All Fields] OR GSM3455879\\n [All Fields] OR GSM5533516\\n [All Fields] OR GSM5819369\\n [All Fields] OR GSM5270719\\n [All Fields] OR GSM5772828\\n [All Fields] OR GSM4447214\\n [All Fields] OR GSM5340944\\n [All Fields] OR GSM5029865\\n [All Fields] OR GSM5772885\\n [All Fields] OR GSM5270236\\n [All Fields] OR GSM3426284\\n [All Fields] OR GSM2572595\\n [All Fields] OR GSM2645364\\n [All Fields] OR GSM5281653\\n [All Fields] OR GSM3902802\\n [All Fields] OR GSM4214129\\n [All Fields] OR GSM4861360\\n [All Fields] OR GSM4551938\\n [All Fields] OR GSM4836368\\n [All Fields] OR GSM5571591\\n [All Fields] OR GSM2816615\\n [All Fields] OR GSM5434006\\n [All Fields] OR GSM5270717\\n [All Fields] OR GSM4948222\\n [All Fields] OR GSM4061199\\n [All Fields] OR GSM5269700\\n [All Fields] OR GSM4061100\\n [All Fields] OR GSM5533477\\n [All Fields] OR GSM2830550\\n [All Fields] OR GSM3901186\\n [All Fields] OR GSM3263194\\n [All Fields] OR GSM3791774\\n [All Fields] OR GSM5268039\\n [All Fields] OR GSM5281658\\n [All Fields] OR GSM4447208\\n [All Fields] OR GSM5680703\\n [All Fields] OR GSM2915182\\n [All Fields] OR GSM5832686\\n [All Fields] OR GSM3791773\\n [All Fields] OR GSM3930290\\n [All Fields] OR GSM4142011\\n [All Fields] OR GSM5617838\\n [All Fields] OR GSM4836177\\n [All Fields] OR GSM5819299\\n [All Fields] OR GSM2705044\\n [All Fields] OR GSM4801413\\n [All Fields] OR GSM2138324\\n [All Fields] OR GSM3376528\\n [All Fields] OR GSM4523679\\n [All Fields] OR GSM5270090\\n [All Fields] OR GSM5665763\\n [All Fields] OR GSM5502009\\n [All Fields] OR GSM4736164\\n [All Fields] OR GSM5024540\\n [All Fields] OR GSM6234550\\n [All Fields] OR GSM5028231\\n [All Fields] OR GSM3597204\\n [All Fields] OR GSM5664137\\n [All Fields] OR GSM5270063\\n [All Fields] OR GSM4761236\\n [All Fields] OR GSM3897574\\n [All Fields] OR GSM4214137\\n [All Fields] OR GSM3930248\\n [All Fields] OR GSM5340953\\n [All Fields] OR GSM5905691\\n [All Fields] OR GSM5746130\\n [All Fields] OR GSM2705040\\n [All Fields] OR GSM5270771\\n [All Fields] OR GSM4221702\\n [All Fields] OR GSM5269942\\n [All Fields] OR GSM5819391\\n [All Fields] OR GSM3901160\\n [All Fields] OR GSM5365321\\n [All Fields] OR GSM3018506\\n [All Fields] OR GSM5270097\\n [All Fields] OR GSM3597208\\n [All Fields] OR GSM4061171\\n [All Fields] OR GSM5431871\\n [All Fields] OR GSM4513976\\n [All Fields] OR GSM3791779\\n [All Fields] OR GSM5270015\\n [All Fields] OR GSM6528144\\n [All Fields] OR GSM5455034\\n [All Fields] OR GSM4836327\\n [All Fields] OR GSM5270582\\n [All Fields] OR GSM5270742\\n [All Fields] OR GSM5029771\\n [All Fields] OR GSM4826485\\n [All Fields] OR GSM4053401\\n [All Fields] OR GSM4563959\\n [All Fields] OR GSM5455082\\n [All Fields] OR GSM4333051\\n [All Fields] OR GSM2572622\\n [All Fields] OR GSM5029733\\n [All Fields] OR GSM5270749\\n [All Fields] OR GSM4141995\\n [All Fields] OR GSM4476748\\n [All Fields] OR GSM2831011\\n [All Fields] OR GSM5270025\\n [All Fields] OR GSM5454892\\n [All Fields] OR GSM4061122\\n [All Fields] OR GSM4613584\\n [All Fields] OR GSM5270126\\n [All Fields] OR GSM3466916\\n [All Fields] OR GSM6528154\\n [All Fields] OR GSM4836357\\n [All Fields] OR GSM5504670\\n [All Fields] OR GSM5454986\\n [All Fields] OR GSM5269855\\n [All Fields] OR GSM5746114\\n [All Fields] OR GSM4002952\\n [All Fields] OR GSM5029752\\n [All Fields] OR GSM5268302\\n [All Fields] OR GSM5504652\\n [All Fields] OR GSM5379696\\n [All Fields] OR GSM3930222\\n [All Fields] OR GSM3397787\\n [All Fields] OR GSM5571598\\n [All Fields] OR GSM6528143\\n [All Fields] OR GSM4836084\\n [All Fields] OR GSM5269891\\n [All Fields] OR GSM3240325\\n [All Fields] OR GSM3930317\\n [All Fields] OR GSM5270620\\n [All Fields] OR GSM5004126\\n [All Fields] OR GSM3263139\\n [All Fields] OR GSM3172712\\n [All Fields] OR GSM5746096\\n [All Fields] OR GSM6206927\\n [All Fields] OR GSM5746232\\n [All Fields] OR GSM4613492\\n [All Fields] OR GSM5282082\\n [All Fields] OR GSM4836243\\n [All Fields] OR GSM4613464\\n [All Fields] OR GSM5281754\\n [All Fields] OR GSM5270794\\n [All Fields] OR GSM4836183\\n [All Fields] OR GSM3897548\\n [All Fields] OR GSM5269811\\n [All Fields] OR GSM4547555\\n [All Fields] OR GSM6528160\\n [All Fields] OR GSM5281719\\n [All Fields] OR GSM4836132\\n [All Fields] OR GSM5270627\\n [All Fields] OR GSM5270433\\n [All Fields] OR GSM5029781\\n [All Fields] OR GSM3263200\\n [All Fields] OR GSM4672362\\n [All Fields] OR GSM4836412\\n [All Fields] OR GSM2705034\\n [All Fields] OR GSM4403638\\n [All Fields] OR GSM5655510\\n [All Fields] OR GSM5029891\\n [All Fields] OR GSM3967094\\n [All Fields] OR GSM5268048\\n [All Fields] OR GSM5269798\\n [All Fields] OR GSM5034248\\n [All Fields] OR GSM4629089\\n [All Fields] OR GSM3181441\\n [All Fields] OR GSM3930279\\n [All Fields] OR GSM2572658\\n [All Fields] OR GSM3045205\\n [All Fields] OR GSM5269949\\n [All Fields] OR GSM4332974\\n [All Fields] OR GSM3045235\\n [All Fields] OR GSM5617792\\n [All Fields] OR GSM5270667\\n [All Fields] OR GSM4060936\\n [All Fields] OR GSM3714374\\n [All Fields] OR GSM5655511\\n [All Fields] OR GSM5340911\\n [All Fields] OR GSM3106281\\n [All Fields] OR GSM3212900\\n [All Fields] OR GSM3897568\\n [All Fields] OR GSM4551804\\n [All Fields] OR GSM4061013\\n [All Fields] OR GSM5261684\\n [All Fields] OR GSM3967081\\n [All Fields] OR GSM4836046\\n [All Fields] OR GSM5533507\\n [All Fields] OR GSM5379643\\n [All Fields] OR GSM5029747\\n [All Fields] OR GSM4002946\\n [All Fields] OR GSM5340917\\n [All Fields] OR GSM6528199\\n [All Fields] OR GSM4792955\\n [All Fields] OR GSM4613498\\n [All Fields] OR GSM3376548\\n [All Fields] OR GSM5508179\\n [All Fields] OR GSM5617821\\n [All Fields] OR GSM5269899\\n [All Fields] OR GSM5066570\\n [All Fields] OR GSM4613596\\n [All Fields] OR GSM4141927\\n [All Fields] OR GSM2705041\\n [All Fields] OR GSM5066606\\n [All Fields] OR GSM5680739\\n [All Fields] OR GSM3380554\\n [All Fields] OR GSM4696928\\n [All Fields] OR GSM5516909\\n [All Fields] OR GSM3106291\\n [All Fields] OR GSM3426267\\n [All Fields] OR GSM5004156\\n [All Fields] OR GSM5502003\\n [All Fields] OR GSM5800002\\n [All Fields] OR GSM4053402\\n [All Fields] OR GSM5270734\\n [All Fields] OR GSM5463899\\n [All Fields] OR GSM5664128\\n [All Fields] OR GSM4142015\\n [All Fields] OR GSM5379700\\n [All Fields] OR GSM3176570\\n [All Fields] OR GSM2830382\\n [All Fields] OR GSM4955432\\n [All Fields] OR GSM4441790\\n [All Fields] OR GSM4836248\\n [All Fields] OR GSM4801417\\n [All Fields] OR GSM3240316\\n [All Fields] OR GSM5270282\\n [All Fields] OR GSM5269761\\n [All Fields] OR GSM5617783\\n [All Fields] OR GSM5270743\\n [All Fields] OR GSM3901131\\n [All Fields] OR GSM5570016\\n [All Fields] OR GSM3426280\\n [All Fields] OR GSM5533492\\n [All Fields] OR GSM5281736\\n [All Fields] OR GSM4836094\\n [All Fields] OR GSM4551910\\n [All Fields] OR GSM4441688\\n [All Fields] OR GSM5029805\\n [All Fields] OR GSM3897572\\n [All Fields] OR GSM4523678\\n [All Fields] OR GSM5270357\\n [All Fields] OR GSM3263155\\n [All Fields] OR GSM4836298\\n [All Fields] OR GSM4613472\\n [All Fields] OR GSM3639218\\n [All Fields] OR GSM3466333\\n [All Fields] OR GSM4753161\\n [All Fields] OR GSM4551934\\n [All Fields] OR GSM3791778\\n [All Fields] OR GSM5746255\\n [All Fields] OR GSM5270289\\n [All Fields] OR GSM4447207\\n [All Fields] OR GSM4736148\\n [All Fields] OR GSM3263204\\n [All Fields] OR GSM5388168\\n [All Fields] OR GSM5777110\\n [All Fields] OR GSM5501996\\n [All Fields] OR GSM5455012\\n [All Fields] OR GSM3032917\\n [All Fields] OR GSM5772871\\n [All Fields] OR GSM5270466\\n [All Fields] OR GSM5270306\\n [All Fields] OR GSM4403639\\n [All Fields] OR GSM3930329\\n [All Fields] OR GSM5388164\\n [All Fields] OR GSM4672360\\n [All Fields] OR GSM5800011\\n [All Fields] OR GSM6210122\\n [All Fields] OR GSM5066618\\n [All Fields] OR GSM5819409\\n [All Fields] OR GSM5270168\\n [All Fields] OR GSM4629137\\n [All Fields] OR GSM5269874\\n [All Fields] OR GSM3714984\\n [All Fields] OR GSM3901190\\n [All Fields] OR GSM5270488\\n [All Fields] OR GSM3452733\\n [All Fields] OR GSM2816638\\n [All Fields] OR GSM3212896\\n [All Fields] OR GSM4043954\\n [All Fields] OR GSM4040952\\n [All Fields] OR GSM4217580\\n [All Fields] OR GSM5772947\\n [All Fields] OR GSM5270534\\n [All Fields] OR GSM2705075\\n [All Fields] OR GSM5270572\\n [All Fields] OR GSM5504666\\n [All Fields] OR GSM2816627\\n [All Fields] OR GSM5629827\\n [All Fields] OR GSM5029726\\n [All Fields] OR GSM3930335\\n [All Fields] OR GSM5270108\\n [All Fields] OR GSM5048677\\n [All Fields] OR GSM2773996\\n [All Fields] OR GSM5270024\\n [All Fields] OR GSM4871520\\n [All Fields] OR GSM4826484\\n [All Fields] OR GSM5333779\\n [All Fields] OR GSM3181442\\n [All Fields] OR GSM5270465\\n [All Fields] OR GSM5746128\\n [All Fields] OR GSM4547533\\n [All Fields] OR GSM3901180\\n [All Fields] OR GSM3455881\\n [All Fields] OR GSM5228997\\n [All Fields] OR GSM4093594\\n [All Fields] OR GSM3018463\\n [All Fields] OR GSM5270349\\n [All Fields] OR GSM4061131\\n [All Fields] OR GSM5617809\\n [All Fields] OR GSM4040942\\n [All Fields] OR GSM3452731\\n [All Fields] OR GSM4613553\\n [All Fields] OR GSM5434004\\n [All Fields] OR GSM4876559\\n [All Fields] OR GSM3263205\\n [All Fields] OR GSM4563953\\n [All Fields] OR GSM3018482\\n [All Fields] OR GSM5504668\\n [All Fields] OR GSM4836262\\n [All Fields] OR GSM3902814\\n [All Fields] OR GSM5665753\\n [All Fields] OR GSM6210133\\n [All Fields] OR GSM5270419\\n [All Fields] OR GSM4613452\\n [All Fields] OR GSM5270035\\n [All Fields] OR GSM5772874\\n [All Fields] OR GSM2572568\\n [All Fields] OR GSM5239425\\n [All Fields] OR GSM4836197\\n [All Fields] OR GSM4333023\\n [All Fields] OR GSM4551923\\n [All Fields] OR GSM5799992\\n [All Fields] OR GSM3930256\\n [All Fields] OR GSM3791776\\n [All Fields] OR GSM4551940\\n [All Fields] OR GSM4735783\\n [All Fields] OR GSM5238611\\n [All Fields] OR GSM5379691\\n [All Fields] OR GSM4792943\\n [All Fields] OR GSM4736179\\n [All Fields] OR GSM3486882\\n [All Fields] OR GSM5270616\\n [All Fields] OR GSM5004159\\n [All Fields] OR GSM5269728\\n [All Fields] OR GSM5270039\\n [All Fields] OR GSM5270228\\n [All Fields] OR GSM5516898\\n [All Fields] OR GSM6210119\\n [All Fields] OR GSM5617770\\n [All Fields] OR GSM4629086\\n [All Fields] OR GSM3181429\\n [All Fields] OR GSM4221686\\n [All Fields] OR GSM4613530\\n [All Fields] OR GSM6585951\\n [All Fields] OR GSM5388187\\n [All Fields] OR GSM5394202\\n [All Fields] OR GSM3212874\\n [All Fields] OR GSM5905716\\n [All Fields] OR GSM4002976\\n [All Fields] OR GSM4441841\\n [All Fields] OR GSM2830538\\n [All Fields] OR GSM4551808\\n [All Fields] OR GSM3791772\\n [All Fields] OR GSM5664102\\n [All Fields] OR GSM4551887\\n [All Fields] OR GSM4836066\\n [All Fields] OR GSM4002951\\n [All Fields] OR GSM5746052\\n [All Fields] OR GSM5454996\\n [All Fields] OR GSM5028227\\n [All Fields] OR GSM5746058\\n [All Fields] OR GSM5066580\\n [All Fields] OR GSM3791768\\n [All Fields] OR GSM5029836\\n [All Fields] OR GSM5777100\\n [All Fields] OR GSM4761251\\n [All Fields] OR GSM4061128\\n [All Fields] OR GSM5269845\\n [All Fields] OR GSM5664135\\n [All Fields] OR GSM5800010\\n [All Fields] OR GSM5270767\\n [All Fields] OR GSM5769499\\n [All Fields] OR GSM5270491\\n [All Fields] OR GSM3172704\\n [All Fields] OR GSM4141920\\n [All Fields] OR GSM5270157\\n [All Fields] OR GSM5629831\\n [All Fields] OR GSM4547541\\n [All Fields] OR GSM5777103\\n [All Fields] OR GSM3045198\\n [All Fields] OR GSM5420292\\n [All Fields] OR GSM2645435\\n [All Fields] OR GSM2816641\\n [All Fields] OR GSM4333027\\n [All Fields] OR GSM2774001\\n [All Fields] OR GSM3377448\\n [All Fields] OR GSM5269875\\n [All Fields] OR GSM5270427\\n [All Fields] OR GSM4782223\\n [All Fields] OR GSM5388171\\n [All Fields] OR GSM4836362\\n [All Fields] OR GSM3791751\\n [All Fields] OR GSM3636803\\n [All Fields] OR GSM5270193\\n [All Fields] OR GSM4441800\\n [All Fields] OR GSM5024554\\n [All Fields] OR GSM4441715\\n [All Fields] OR GSM5269738\\n [All Fields] OR GSM3018512\\n [All Fields] OR GSM5029857\\n [All Fields] OR GSM5533498\\n [All Fields] OR GSM4061034\\n [All Fields] OR GSM5268040\\n [All Fields] OR GSM5066614\\n [All Fields] OR GSM4753168\\n [All Fields] OR GSM5373213\\n [All Fields] OR GSM5746233\\n [All Fields] OR GSM2572657\\n [All Fields] OR GSM4563901\\n [All Fields] OR GSM4551848\\n [All Fields] OR GSM3426273\\n [All Fields] OR GSM5270257\\n [All Fields] OR GSM4836064\\n [All Fields] OR GSM5570009\\n [All Fields] OR GSM5819406\\n [All Fields] OR GSM5504644\\n [All Fields] OR GSM5269776\\n [All Fields] OR GSM3986368\\n [All Fields] OR GSM4221694\\n [All Fields] OR GSM4072353\\n [All Fields] OR GSM5772877\\n [All Fields] OR GSM4513970\\n [All Fields] OR GSM5270606\\n [All Fields] OR GSM4547532\\n [All Fields] OR GSM4456306\\n [All Fields] OR GSM3081997\\n [All Fields] OR GSM4886800\\n [All Fields] OR GSM5270386\\n [All Fields] OR GSM4061053\\n [All Fields] OR GSM5746055\\n [All Fields] OR GSM4441697\\n [All Fields] OR GSM4214144\\n [All Fields] OR GSM2705064\\n [All Fields] OR GSM4141978\\n [All Fields] OR GSM5270440\\n [All Fields] OR GSM3212821\\n [All Fields] OR GSM5270397\\n [All Fields] OR GSM5270334\\n [All Fields] OR GSM4563940\\n [All Fields] OR GSM5270049\\n [All Fields] OR GSM3967134\\n [All Fields] OR GSM5227763\\n [All Fields] OR GSM4061052\\n [All Fields] OR GSM2830548\\n [All Fields] OR GSM5029845\\n [All Fields] OR GSM2816655\\n [All Fields] OR GSM5024551\\n [All Fields] OR GSM5029780\\n [All Fields] OR GSM4027535\\n [All Fields] OR GSM2645434\\n [All Fields] OR GSM4876564\\n [All Fields] OR GSM3967124\\n [All Fields] OR GSM4441693\\n [All Fields] OR GSM5261676\\n [All Fields] OR GSM5379645\\n [All Fields] OR GSM4563931\\n [All Fields] OR GSM5746076\\n [All Fields] OR GSM4448894\\n [All Fields] OR GSM5281714\\n [All Fields] OR GSM5504646\\n [All Fields] OR GSM4836355\\n [All Fields] OR GSM5270253\\n [All Fields] OR GSM3897558\\n [All Fields] OR GSM4142031\\n [All Fields] OR GSM5269858\\n [All Fields] OR GSM4836381\\n [All Fields] OR GSM5772850\\n [All Fields] OR GSM5270403\\n [All Fields] OR GSM4060955\\n [All Fields] OR GSM5502000\\n [All Fields] OR GSM5270152\\n [All Fields] OR GSM2572681\\n [All Fields] OR GSM5270623\\n [All Fields] OR GSM3263196\\n [All Fields] OR GSM5270030\\n [All Fields] OR GSM4563956\\n [All Fields] OR GSM5269968\\n [All Fields] OR GSM4093596\\n [All Fields] OR GSM5270264\\n [All Fields] OR GSM5269905\\n [All Fields] OR GSM4629071\\n [All Fields] OR GSM3639232\\n [All Fields] OR GSM4333014\\n [All Fields] OR GSM4836200\\n [All Fields] OR GSM4518159\\n [All Fields] OR GSM5238607\\n [All Fields] OR GSM3376523\\n [All Fields] OR GSM3930218\\n [All Fields] OR GSM2829051\\n [All Fields] OR GSM4836306\\n [All Fields] OR GSM4060990\\n [All Fields] OR GSM2816635\\n'"
      ]
     },
     "execution_count": 21,
     "metadata": {},
     "output_type": "execute_result"
    }
   ],
   "source": [
    "GSM_IDs_from_file = []\n",
    "\n",
    "# open file and read the content in a list\n",
    "with open(r'gsm_list.txt', 'r') as fp:\n",
    "    for line in fp:\n",
    "        GSM_IDs_from_file.append(line)\n",
    "\n",
    "# quarter = round(len(GSM_IDs_from_file)/4)\n",
    "# GSM_filters = ' [All Fields] OR '.join(GSM_IDs_from_file[0:quarter])\n",
    "GSM_filters = ' [All Fields] OR '.join(GSM_IDs_from_file[0:2000])\n",
    "GSM_filters"
   ]
  },
  {
   "cell_type": "code",
   "execution_count": 22,
   "id": "6794baee",
   "metadata": {},
   "outputs": [],
   "source": [
    "Entrez.email = \"zjiang@lji.org\"\n",
    "\n",
    "search_result = Entrez.esearch(db=\"biosample\", retmax=10000, term=GSM_filters)\n",
    "result = Entrez.read(search_result)"
   ]
  },
  {
   "cell_type": "markdown",
   "id": "b8403720",
   "metadata": {},
   "source": [
    "### Filter query result by looping through XML"
   ]
  },
  {
   "cell_type": "code",
   "execution_count": 23,
   "id": "787990ad",
   "metadata": {},
   "outputs": [],
   "source": [
    "# name\n",
    "# organism\n",
    "# biomaterial\n",
    "# disease\n",
    "# organ\n",
    "# celltype\n",
    "# sex\n",
    "# age\n",
    "# extdb_name\n",
    "# extdb_uuid\n",
    "\n",
    "    \n",
    "    \n",
    "# \tGSM4027555 and more\n",
    "#     <Attribute attribute_name=\"type\">Tumor</Attribute> # no\n",
    "# \t\t<Attribute attribute_name=\"relapse\">No</Attribute> # no\n",
    "# \t\t<Attribute attribute_name=\"gender\" harmonized_name=\"sex\" display_name=\"sex\">male</Attribute> # added\n",
    "# \t\t<Attribute attribute_name=\"age_days\">2338</Attribute> or timepoint # added\n",
    "# \t\t<Attribute attribute_name=\"Stage\">4</Attribute> # no\n",
    "\n",
    "# GSM6528200 and more\n",
    "# <Attribute attribute_name=\"disease state\" harmonized_name=\"disease\" display_name=\"disease\">HCC</Attribute> # added\n",
    "# <Attribute attribute_name=\"tissue\" harmonized_name=\"tissue\" display_name=\"tissue\">tumour</Attribute> # thinking\n",
    "\n",
    "# GSM3930313 and more\n",
    "# {'attribute_name': 'biological sample'}-->FHC should replace celltype # thinking"
   ]
  },
  {
   "cell_type": "code",
   "execution_count": 29,
   "id": "d24f12b0",
   "metadata": {},
   "outputs": [
    {
     "name": "stdout",
     "output_type": "stream",
     "text": [
      "finished on GSM number 100\n",
      "finished on GSM number 200\n",
      "finished on GSM number 300\n",
      "finished on GSM number 400\n",
      "finished on GSM number 500\n",
      "finished on GSM number 600\n",
      "finished on GSM number 700\n",
      "finished on GSM number 800\n",
      "finished on GSM number 900\n",
      "finished on GSM number 1000\n",
      "finished on GSM number 1100\n",
      "finished on GSM number 1200\n",
      "finished on GSM number 1300\n",
      "finished on GSM number 1400\n",
      "finished on GSM number 1500\n",
      "finished on GSM number 1600\n",
      "finished on GSM number 1700\n",
      "finished on GSM number 1800\n",
      "finished on GSM number 1900\n"
     ]
    }
   ],
   "source": [
    "# 50 s per 100 GSMs\n",
    "cell_type_df = pd.DataFrame(columns=['name',\n",
    "                                     'organism',\n",
    "                                     'biomaterial',\n",
    "                                     'disease',\n",
    "                                     'organ',\n",
    "                                     'tissue',\n",
    "                                     'celltype',\n",
    "                                     'strain',\n",
    "                                     'sex',\n",
    "                                     'age',\n",
    "#                                      'genotype',\n",
    "#                                      'treatment',\n",
    "#                                      'antibody',\n",
    "                                     'extdb_name',\n",
    "                                     'extdb_uuid',\n",
    "                                     'other'])\n",
    "\n",
    "i = 0\n",
    "for Id in result[\"IdList\"]:\n",
    "    handle = Entrez.esummary(db=\"biosample\", id=Id, retmode=\"xml\") # get summary of this entry on GEO datasets\n",
    "    entry = Entrez.read(handle)\n",
    "    data = entry[\"DocumentSummarySet\"][\"DocumentSummary\"][0][\"SampleData\"]\n",
    "    myroot = ET.fromstring(data)\n",
    "    other_fields = []\n",
    "    celltype_infos = []\n",
    "    gsm_data = {\n",
    "        \"name\":\"\",\n",
    "        \"organism\":\"\",\n",
    "        \"biomaterial\":\"\",\n",
    "        \"disease\": \"\",\n",
    "        \"organ\":\"\",\n",
    "        \"tissue\":\"\",\n",
    "        \"celltype\":\"\",\n",
    "        \"strain\":\"\",\n",
    "        \"sex\":\"\",\n",
    "        \"age\":\"\",\n",
    "#         \"genotype\":\"\",\n",
    "#         \"treatment\":\"\",\n",
    "#         \"antibody\":\"\",\n",
    "        \"extdb_name\":\"\",\n",
    "        \"extdb_uuid\":\"\",\n",
    "        \"other\":\"\"\n",
    "        }\n",
    "\n",
    "    for elem in myroot:\n",
    "        for subelem in elem:\n",
    "            if ('db\\': \\'GEO' in str(subelem.attrib)):\n",
    "                gsm_data[\"name\"] = subelem.text\n",
    "            if \"taxonomy_name\" in str(subelem.attrib):\n",
    "                gsm_data[\"organism\"] = subelem.attrib[\"taxonomy_name\"]\n",
    "            if ('source_name' in str(subelem.attrib)): # no organ info here\n",
    "                gsm_data[\"biomaterial\"] = subelem.text\n",
    "            if ('disease' in str(subelem.attrib) or \\\n",
    "                'cancer type' in str(subelem.attrib)):\n",
    "                gsm_data[\"disease\"] = subelem.text # many organ info are from here\n",
    "            if ('organ' in str(subelem.attrib)): # no organ attributes at all\n",
    "                gsm_data[\"organ\"] = subelem.text\n",
    "            if ('tissue' in str(subelem.attrib)): # most organ info are from here # can have disease info\n",
    "                gsm_data[\"tissue\"] = subelem.text\n",
    "            if ('cell_line' in str(subelem.attrib) or \\\n",
    "                'biological sample' in str(subelem.attrib) or \\\n",
    "                'parental cell line' in str(subelem.attrib) or \\\n",
    "                'cell_type' in str(subelem.attrib) # some organ info are from here # can have disease info\n",
    "               ):\n",
    "                celltype_infos.append(str(subelem.attrib['attribute_name']) + \"-->\" + subelem.text)\n",
    "            if ('strain' in str(subelem.attrib)):\n",
    "                gsm_data[\"strain\"] = subelem.text\n",
    "            if ('gender' in str(subelem.attrib) or \\\n",
    "                '\\'sex\\'' in str(subelem.attrib)):\n",
    "                gsm_data[\"sex\"] = subelem.text\n",
    "            if ('\\'age\\'' in str(subelem.attrib) or \\\n",
    "                '\\'time' in str(subelem.attrib) or \\\n",
    "                '\\'differentiation' in str(subelem.attrib) or \\\n",
    "                'differentiation\\'' in str(subelem.attrib)):\n",
    "                gsm_data[\"age\"] = subelem.text\n",
    "#             if ('genotype' in str(subelem.attrib)):\n",
    "#                 gsm_data[\"genotype\"] = subelem.text\n",
    "#             if ('treatment' in str(subelem.attrib)):\n",
    "#                 gsm_data[\"treatment\"] = subelem.text\n",
    "#             if ('antibody' in str(subelem.attrib)):\n",
    "#                 gsm_data[\"antibody\"] = subelem.text\n",
    "            if (len(str(subelem.attrib)) > 2 and \\\n",
    "                'db\\': \\'GEO' not in str(subelem.attrib) and \\\n",
    "                'cell_line' not in str(subelem.attrib) and \\\n",
    "                'biological sample' not in str(subelem.attrib) and \\\n",
    "                'parental cell line' not in str(subelem.attrib) and \\\n",
    "                'taxonomy_name' not in str(subelem.attrib) and \\\n",
    "                'source_name' not in str(subelem.attrib) and \\\n",
    "                'disease' not in str(subelem.attrib) and \\\n",
    "                'cancer type' not in str(subelem.attrib) and \\\n",
    "                'organ' not in str(subelem.attrib) and \\\n",
    "                'tissue' not in str(subelem.attrib) and \\\n",
    "                'cell_type' not in str(subelem.attrib) and \\\n",
    "                'strain' not in str(subelem.attrib) and \\\n",
    "                'gender' not in str(subelem.attrib) and \\\n",
    "                '\\'sex\\'' not in str(subelem.attrib) and \\\n",
    "                '\\'age\\'' not in str(subelem.attrib) and \\\n",
    "                '\\'time' not in str(subelem.attrib) and \\\n",
    "                '\\'differentiation' not in str(subelem.attrib) and \\\n",
    "                'differentiation\\'' not in str(subelem.attrib) and \\\n",
    "                'genotype' not in str(subelem.attrib) and \\\n",
    "                'treatment' not in str(subelem.attrib) and \\\n",
    "                'antibody' not in str(subelem.attrib) and \\\n",
    "                'url' not in str(subelem.attrib) and \\\n",
    "                'BioSample' not in str(subelem.attrib) and \\\n",
    "                'SRA' not in str(subelem.attrib) and \\\n",
    "                'bioproject' not in str(subelem.attrib)\n",
    "               ):\n",
    "                other_fields.append(str(subelem.attrib) + \"-->\" + subelem.text)\n",
    "    gsm_data[\"celltype\"] = '|'.join(celltype_infos) \n",
    "    gsm_data[\"other\"] = '|'.join(other_fields)\n",
    "    cell_type_df = cell_type_df.append(gsm_data, ignore_index=True)\n",
    "    i += 1\n",
    "    if (i % 100 == 0):\n",
    "        print(\"finished on GSM number\", i)"
   ]
  },
  {
   "cell_type": "markdown",
   "id": "8e66bc73",
   "metadata": {},
   "source": [
    "### Save query result filtered table"
   ]
  },
  {
   "cell_type": "code",
   "execution_count": 30,
   "id": "c37ab216",
   "metadata": {},
   "outputs": [],
   "source": [
    "today = date.today()\n",
    "date_str = today.strftime(\"%Y_%m_%d\")\n",
    "\n",
    "# determining current hour and minute\n",
    "now = datetime.now()\n",
    "time_str = now.strftime(\"%H_%M\")\n",
    "\n",
    "# setting the output filename\n",
    "output = \"GEO_Query_cell_type.{}_{}\".format(date_str, time_str)\n",
    "cell_type_df.to_excel(output + \".xlsx\", index=False)"
   ]
  },
  {
   "cell_type": "markdown",
   "id": "c5a70117",
   "metadata": {},
   "source": [
    "Sample ID: This is the unique identifier for each sample in the database. You can search for samples by their ID using this field.\n",
    "\n",
    "Organism: This field allows you to search for samples from a specific organism, such as human, mouse, or yeast.\n",
    "\n",
    "Tissue: This field allows you to search for samples based on their tissue type, such as liver, brain, or heart.\n",
    "\n",
    "Disease state: This field allows you to search for samples based on their disease state, such as cancer, diabetes, or autoimmune disease.\n",
    "\n",
    "Cell type: This field allows you to search for samples based on their cell type, such as fibroblasts, macrophages, or stem cells.\n",
    "\n",
    "Developmental stage: This field allows you to search for samples based on their developmental stage, such as embryonic, fetal, or adult.\n",
    "\n",
    "Experimental design: This field allows you to search for samples based on the type of experiment they were used in, such as microarray, RNA-seq, or ChIP-seq."
   ]
  },
  {
   "cell_type": "markdown",
   "id": "6e92cd14",
   "metadata": {},
   "source": [
    "### Validate a GSM"
   ]
  },
  {
   "cell_type": "code",
   "execution_count": 28,
   "id": "c473797b",
   "metadata": {},
   "outputs": [
    {
     "name": "stdout",
     "output_type": "stream",
     "text": [
      "<BioSample access=\"public\" publication_date=\"2020-08-25T00:00:00.000\" last_update=\"2020-08-25T21:59:15.929\" submission_date=\"2019-07-08T09:37:05.980\" id=\"12230136\" accession=\"SAMN12230136\">   <Ids>     <Id db=\"BioSample\" is_primary=\"1\">SAMN12230136</Id>     <Id db=\"GEO\">GSM3930256</Id>   </Ids>   <Description>     <Title>BRD3162_HiC</Title>     <Organism taxonomy_id=\"9606\" taxonomy_name=\"Homo sapiens\">       <OrganismName>Homo sapiens</OrganismName>     </Organism>   </Description>   <Owner>     <Name>Data Sciences, DANA-FARBER CANCER INSTITUTE INC</Name>     <Contacts>       <Contact email=\"ALEJANDRO_REYES@dfci.harvard.edu\">         <Name>           <First>Alejandro</First>           <Last>Reyes</Last>         </Name>       </Contact>     </Contacts>   </Owner>   <Models>     <Model>Generic</Model>   </Models>   <Package display_name=\"Generic\">Generic.1.0</Package>   <Attributes>     <Attribute attribute_name=\"source_name\" harmonized_name=\"source_name\" display_name=\"source name\">Colon tumor</Attribute>     <Attribute attribute_name=\"tissue\" harmonized_name=\"tissue\" display_name=\"tissue\">Colon tumor</Attribute>     <Attribute attribute_name=\"biological sample\">BRD3162</Attribute>     <Attribute attribute_name=\"treatment\" harmonized_name=\"treatment\" display_name=\"treatment\">NA</Attribute>   </Attributes>   <Links>     <Link type=\"url\" label=\"GEO Sample GSM3930256\">https://www.ncbi.nlm.nih.gov/geo/query/acc.cgi?acc=GSM3930256</Link>     <Link type=\"entrez\" target=\"bioproject\" label=\"PRJNA553150\">553150</Link>   </Links>   <Status status=\"live\" when=\"2020-08-25T21:59:15.929\"/> </BioSample>  \n",
      "\n",
      "{'db': 'BioSample', 'is_primary': '1'} --> SAMN12230136\n",
      "{'db': 'GEO'} --> GSM3930256\n",
      "{} --> BRD3162_HiC\n",
      "{'taxonomy_id': '9606', 'taxonomy_name': 'Homo sapiens'} --> Homo sapiens\n",
      "{} --> Data Sciences, DANA-FARBER CANCER INSTITUTE INC\n",
      "{} -->        \n",
      "{} --> Generic\n",
      "{'attribute_name': 'source_name', 'harmonized_name': 'source_name', 'display_name': 'source name'} --> Colon tumor\n",
      "{'attribute_name': 'tissue', 'harmonized_name': 'tissue', 'display_name': 'tissue'} --> Colon tumor\n",
      "{'attribute_name': 'biological sample'} --> BRD3162\n",
      "{'attribute_name': 'treatment', 'harmonized_name': 'treatment', 'display_name': 'treatment'} --> NA\n",
      "{'type': 'url', 'label': 'GEO Sample GSM3930256'} --> https://www.ncbi.nlm.nih.gov/geo/query/acc.cgi?acc=GSM3930256\n",
      "{'type': 'entrez', 'target': 'bioproject', 'label': 'PRJNA553150'} --> 553150\n"
     ]
    }
   ],
   "source": [
    "Entrez.email = \"your_email@example.com\"  # Provide your email address\n",
    "\n",
    "# Retrieve all the BioSample records\n",
    "handle = Entrez.esearch(db=\"biosample\", term=\"GSM3930256\")\n",
    "records = Entrez.read(handle)\n",
    "\n",
    "# Iterate through all the records and print the fields and values\n",
    "for record in records[\"IdList\"]:\n",
    "    handle = Entrez.esummary(db=\"biosample\", id=record)\n",
    "    record = Entrez.read(handle)\n",
    "    data = record[\"DocumentSummarySet\"][\"DocumentSummary\"][0][\"SampleData\"]\n",
    "    print(data, \"\\n\") # https://codebeautify.org/xmlviewer#\n",
    "    myroot = ET.fromstring(data)\n",
    "    for elem in myroot:\n",
    "        for subelem in elem:\n",
    "            if \"taxonomy_name\" in str(subelem.attrib):\n",
    "                print(subelem.attrib, \"-->\", subelem.attrib[\"taxonomy_name\"])\n",
    "            else:\n",
    "                print(subelem.attrib, \"-->\", subelem.text)"
   ]
  },
  {
   "cell_type": "markdown",
   "id": "c7f1dce9",
   "metadata": {},
   "source": [
    "### Dict of organs and their synynoms for classification"
   ]
  },
  {
   "cell_type": "code",
   "execution_count": null,
   "id": "a298f6a9",
   "metadata": {},
   "outputs": [],
   "source": [
    "# organ names are based on ENCODE > data > experiment matrix and common organ names returned by ChatGPT\n",
    "dic = {\n",
    "    \"blood\": [\"vessel\"],\n",
    "    \"blodily fluid\": [],\n",
    "    \"epithelium\": [\"skin\", \"epi\"],\n",
    "    \"brain\": [],\n",
    "    \"endocrine gland\": [\"thyroid gland\"],\n",
    "    \"exocrine gland\": [\"lymph node\"],\n",
    "    \"liver\": [],\n",
    "    \"heart\": [],\n",
    "    \"embryo\": [],\n",
    "    \"connective tissue\": [],\n",
    "    \"musculature of body\": [\"muscul\"],\n",
    "    \"lung\": [],\n",
    "    \"intestine\": [],\n",
    "    \"kidney\": [],\n",
    "    \"bone marrow\": [],\n",
    "    \"colon\": [],\n",
    "    \"spleen\": [],\n",
    "    \"stomach\": [],\n",
    "    \"placenta\": [],\n",
    "    \"pancreas\": [],\n",
    "    \"bladder\": [],\n",
    "    \"reproductive organs\": [\"uterus\", \"penis\", \"ovar\", \"test\"],\n",
    "}\n",
    "# nerves?"
   ]
  },
  {
   "cell_type": "code",
   "execution_count": null,
   "id": "0509dd21",
   "metadata": {},
   "outputs": [],
   "source": []
  },
  {
   "cell_type": "code",
   "execution_count": null,
   "id": "fed0c88e",
   "metadata": {},
   "outputs": [],
   "source": []
  },
  {
   "cell_type": "code",
   "execution_count": null,
   "id": "838f76b8",
   "metadata": {},
   "outputs": [],
   "source": []
  }
 ],
 "metadata": {
  "kernelspec": {
   "display_name": "Python 3 (ipykernel)",
   "language": "python",
   "name": "python3"
  },
  "language_info": {
   "codemirror_mode": {
    "name": "ipython",
    "version": 3
   },
   "file_extension": ".py",
   "mimetype": "text/x-python",
   "name": "python",
   "nbconvert_exporter": "python",
   "pygments_lexer": "ipython3",
   "version": "3.9.12"
  }
 },
 "nbformat": 4,
 "nbformat_minor": 5
}
