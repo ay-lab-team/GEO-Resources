{
 "cells": [
  {
   "cell_type": "code",
   "execution_count": 1,
   "id": "ee429c1c",
   "metadata": {},
   "outputs": [
    {
     "name": "stderr",
     "output_type": "stream",
     "text": [
      "2022-12-21 17:14:06 Zichens-MBP.attlocal.net metapub.config[53800] WARNING NCBI_API_KEY was not set.\n"
     ]
    }
   ],
   "source": [
    "import argparse\n",
    "from Bio import Entrez\n",
    "\n",
    "import os \n",
    "import warnings\n",
    "warnings.simplefilter(action='ignore', category=FutureWarning)\n",
    "import pandas as pd\n",
    "from datetime import date\n",
    "from datetime import datetime\n",
    "import numpy as np\n",
    "import re\n",
    "from metapub import FindIt\n",
    "from metapub.convert import pmid2doi\n",
    "from metapub.convert import doi2pmid\n",
    "from metapub import PubMedFetcher\n",
    "\n",
    "from collections import OrderedDict\n",
    "import xml.etree.ElementTree as ET\n",
    "import ssl\n",
    "\n",
    "import ssl\n",
    "ssl._create_default_https_context = ssl._create_unverified_context\n",
    "\n",
    "import argparse\n",
    "from Bio import Entrez\n",
    "\n",
    "ssl._create_default_https_context = ssl._create_unverified_context"
   ]
  },
  {
   "cell_type": "markdown",
   "id": "1ac51ef2",
   "metadata": {},
   "source": [
    "## Query the NCBI database"
   ]
  },
  {
   "cell_type": "code",
   "execution_count": null,
   "id": "fbd0ff62",
   "metadata": {},
   "outputs": [],
   "source": [
    "# use one of the following search queries/filters\n",
    "# filters = \"HiChIP[All Fields] AND \\\"gse\\\"[Filter]\" # the whole notebook will take around 7 min to run\n",
    "# filters = \"HiChIP[All Fields] AND (\\\"gse\\\"[Filter] AND (\\\"Homo sapiens\\\"[Organism] OR \\\"Mus musculus\\\"[Organism]))\n",
    "# filters = \"HiChIP[All Fields] AND (\\\"Homo sapiens\\\"[Organism] AND \\\"gse\\\"[Filter])\"\n",
    "# filters = \"HiChIP[All Fields] AND (\\\"Homo sapiens\\\"[Organism] AND \\\"published last year\\\"[Filter]) AND \\\"gse\\\"[Filter]\" # 2 min\n",
    "# filters = \"HiChIP[All Fields] AND (\\\"Mus musculus\\\"[Organism] AND \\\"gse\\\"[Filter])\"\n",
    "\n",
    "filters = \"HiChIP[All Fields] AND (\\\"gse\\\"[Filter] AND (\\\"Homo sapiens\\\"[Organism] OR \\\"Mus musculus\\\"[Organism]))\"\n",
    "\n",
    "# set a dummy email \n",
    "Entrez.email = \"zjiang@lji.org\"\n",
    "\n",
    "# query the NCBI database \n",
    "search_result = Entrez.esearch(db=\"gds\", retmax=10000, term=filters)\n",
    "result = Entrez.read(search_result)\n",
    "\n",
    "# creating a regex to extract pubmed IDs\n",
    "PubMedIds_pattern = re.compile('[0123456789]+')"
   ]
  },
  {
   "cell_type": "code",
   "execution_count": null,
   "id": "d53a4689",
   "metadata": {},
   "outputs": [],
   "source": [
    "# parse the results into a dataframe \n",
    "dictionary_lst = []\n",
    "for Id in result[\"IdList\"]:\n",
    "    handle = Entrez.esummary(db=\"gds\", id=Id, retmode=\"xml\") # get summary of this entry on GEO datasets\n",
    "    entry = Entrez.parse(handle)\n",
    "    for column in entry:\n",
    "        dictionary_lst.append(column)\n",
    "df = pd.DataFrame(dictionary_lst)"
   ]
  },
  {
   "cell_type": "code",
   "execution_count": null,
   "id": "2e0445ef",
   "metadata": {},
   "outputs": [],
   "source": [
    "df.head()"
   ]
  },
  {
   "cell_type": "code",
   "execution_count": null,
   "id": "bee10737",
   "metadata": {},
   "outputs": [],
   "source": [
    "df.shape"
   ]
  },
  {
   "cell_type": "markdown",
   "id": "bb4d1e58",
   "metadata": {},
   "source": [
    "## Cleaning the Paper Names and Converting from PMID to DOI"
   ]
  },
  {
   "cell_type": "code",
   "execution_count": null,
   "id": "4c5feeac",
   "metadata": {
    "scrolled": false
   },
   "outputs": [],
   "source": [
    "dictionary_lst = []\n",
    "for Id in result[\"IdList\"]:\n",
    "    \n",
    "    handle = Entrez.esummary(db=\"gds\", id=Id, retmode=\"xml\")\n",
    "    entry = Entrez.parse(handle)\n",
    "    \n",
    "    for column in entry:\n",
    "        paper_title = column['title']\n",
    "        new_paper_title = ''\n",
    "        last_word = re.split('\\s|[.]', paper_title)[-1]\n",
    "        last_two_words = re.split('\\s|[.]', paper_title)[-2:]\n",
    "        \n",
    "        # remove \".[HiChIP]\", \". [HiChIP]\", or \"(HiChIP)\" in paper titles using steps below\n",
    "        if ('[' in last_word and ']' in last_word) or \\\n",
    "                ('(' in last_word and ')' in last_word):\n",
    "            new_paper_title = re.split('\\s|[.]', paper_title)[0:-1]\n",
    "            new_paper_title = ' '.join(new_paper_title)\n",
    "            new_paper_title = new_paper_title.strip()\n",
    "            if new_paper_title.endswith('.'): # remove the last period in paper title\n",
    "                new_paper_title = new_paper_title[:-1]\n",
    "                \n",
    "        # remove \".[Hi ChIP]\", \". [Hi ChIP]\", or \"[Bead Array]\" in paper titles using steps below\n",
    "        elif ('[' in last_two_words[0] and ']' in last_two_words[1]) or \\\n",
    "                    ('(' in last_two_words[0] and ')' in last_two_words[1]):\n",
    "            new_paper_title = re.split('\\s|[.]', paper_title)[0:-2]\n",
    "            new_paper_title = ' '.join(new_paper_title)\n",
    "            new_paper_title = new_paper_title.strip()\n",
    "            if new_paper_title.endswith('.'): # remove the last period in paper title\n",
    "                new_paper_title = new_paper_title[:-1]\n",
    "                \n",
    "        elif paper_title.endswith('.'):\n",
    "            new_paper_title = paper_title[:-1] \n",
    "            \n",
    "        else:\n",
    "            new_paper_title = paper_title\n",
    "            \n",
    "        new_paper_title = new_paper_title.replace(\"\\xa0\", \" \") # remove no-break space\n",
    "        column['title'] = new_paper_title\n",
    "        \n",
    "        # convert PMID to DOI, some have no PMID so empty string\n",
    "        string = str(column['PubMedIds'])\n",
    "        pdf_url = \"\"\n",
    "        PubMedIds = PubMedIds_pattern.findall(string)\n",
    "        \n",
    "        if len(PubMedIds) > 0:\n",
    "            DOI = pmid2doi(PubMedIds[0])\n",
    "            column['PubMedIds'] = DOI\n",
    "        else: column['PubMedIds'] = \"\"\n",
    "        dictionary_lst.append(column)\n",
    "        \n",
    "df = pd.DataFrame(dictionary_lst)"
   ]
  },
  {
   "cell_type": "markdown",
   "id": "c463820d",
   "metadata": {},
   "source": [
    "## Reformat the Columns for Google Sheet Compatibility"
   ]
  },
  {
   "cell_type": "code",
   "execution_count": null,
   "id": "e5bc08ea",
   "metadata": {},
   "outputs": [],
   "source": [
    "# drop extra columns\n",
    "df = pd.DataFrame(dictionary_lst)\n",
    "\n",
    "drop_cols = ['Item', 'Id', 'GDS', 'GPL', 'GSE', 'entryType', 'ptechType',\n",
    "             'valType', 'SSInfo', 'subsetInfo', 'suppFile', 'Relations', 'ExtRelations',\n",
    "             'n_samples', 'SeriesTitle', 'PlatformTitle', 'PlatformTaxa', 'SamplesTaxa',\n",
    "             'Projects', 'FTPLink', 'GEO2R']\n",
    "df.drop(drop_cols, inplace=True, axis=1)\n",
    "\n",
    "# rename columns\n",
    "rename_cols = {\"Accession\":\"GEO / Data link\", \"PubMedIds\":\"DOI\", \"title\":\"Paper Title\",\n",
    "               \"taxon\":\"Organism\", \"gdsType\":\"Any other information\", \"PDAT\":\"Year\",\n",
    "               \"Samples\":\"Other matched data\"}\n",
    "df.rename(columns=rename_cols, inplace=True)\n",
    "\n",
    "# extract just the year\n",
    "df[\"Year\"] = df[\"Year\"].str[:4]\n",
    "\n",
    "# add index for merging\n",
    "df['index'] = np.arange(len(df))\n",
    "\n",
    "# fill na with empty values\n",
    "df.fillna(\"\",inplace=True)\n",
    "\n",
    "# adding missing columns with empty values\n",
    "df[\"Journal\"] = \"\"\n",
    "df[\"Authors\"] = \"\"\n",
    "df[\"Tissue/Cell Line\"] = \"\"\n",
    "df[\"Presenter\"] = \"\"\n",
    "df[\"Potential HiChIP\"] = \"\""
   ]
  },
  {
   "cell_type": "markdown",
   "id": "19c61b12",
   "metadata": {},
   "source": [
    "## Assigning Potential HiChIP Samples"
   ]
  },
  {
   "cell_type": "markdown",
   "id": "d2d5df7f",
   "metadata": {},
   "source": [
    "Filter out samples with no HiChIP mention and assigned Yes or Maybe to all others "
   ]
  },
  {
   "cell_type": "code",
   "execution_count": null,
   "id": "ecfe777c",
   "metadata": {},
   "outputs": [],
   "source": [
    "col = df[\"Other matched data\"]\n",
    "lst = []\n",
    "GSM_IDs = [] ######## new for cell type\n",
    "index = 0\n",
    "for row in col:\n",
    "    \n",
    "    temp = []\n",
    "    state = False\n",
    "    \n",
    "    # Check for the term HiChIP in the title\n",
    "    for ele in row: \n",
    "        if (\"HiChIP\".casefold() in ele[\"Title\"].casefold()) or \\\n",
    "                (\"Hi-ChIP\".casefold() in ele[\"Title\"].casefold()):\n",
    "            state = True\n",
    "    \n",
    "    # keep samples with HiChIP and mark \"Yes\"\n",
    "    if state == True: \n",
    "        for ele in row:\n",
    "            GSM_IDs.append(ele[\"Accession\"]) ######## new for cell type\n",
    "            if (\"HiChIP\".casefold() in ele[\"Title\"].casefold()) or \\\n",
    "                    (\"Hi-ChIP\".casefold() in ele[\"Title\"].casefold()):\n",
    "                temp.append(ele[\"Accession\"] + \": \" + ele[\"Title\"])\n",
    "        temp_str = \"\\n\".join(temp)\n",
    "        df.at[index, \"Potential HiChIP\"] = \"Yes\"\n",
    "\n",
    "    # otherwise, keep all GSM samples and mark \"Maybe\"\n",
    "    else: \n",
    "        for ele in row:\n",
    "            GSM_IDs.append(ele[\"Accession\"]) ######## new for cell type\n",
    "            temp.append(ele[\"Accession\"] + \": \" + ele[\"Title\"])\n",
    "        temp_str = \"\\n\".join(temp)\n",
    "        df.at[index,\"Potential HiChIP\"]=\"Maybe\"\n",
    "    lst.append(temp_str)\n",
    "    index += 1\n",
    "    \n",
    "df[\"Other matched data\"] = list(lst)"
   ]
  },
  {
   "cell_type": "markdown",
   "id": "e88c1586",
   "metadata": {},
   "source": [
    "## Merge Rows with the Same Paper Title"
   ]
  },
  {
   "cell_type": "code",
   "execution_count": null,
   "id": "4aa57284",
   "metadata": {},
   "outputs": [],
   "source": [
    "aggregation_functions = {'Paper Title':'first', 'DOI':'max', 'Journal':'first', 'Authors':'first', 'Year':'first', 'GEO / Data link':lambda x: '\\n'.join(x),\n",
    "       'Any other information':lambda x: '\\n'.join(x), 'Organism':'first', 'Tissue/Cell Line':'first',\n",
    "       'Potential HiChIP':'first', 'Other matched data':lambda x: '\\n'.join(x), 'Presenter':'first'}\n",
    "df_grouped = df.groupby(df['Paper Title']).aggregate(aggregation_functions)"
   ]
  },
  {
   "cell_type": "markdown",
   "id": "a13db4f0",
   "metadata": {},
   "source": [
    "## Fetch Journal Name and First Author of Each Paper and Add https to DOI"
   ]
  },
  {
   "cell_type": "code",
   "execution_count": null,
   "id": "55a1a9b5",
   "metadata": {},
   "outputs": [],
   "source": [
    "jounrnal_lst = []\n",
    "authors_lst = []\n",
    "fetch = PubMedFetcher()\n",
    "for DOI in df_grouped['DOI']:\n",
    "    try:\n",
    "        PMID = doi2pmid(DOI)\n",
    "        article = fetch.article_by_pmid(PMID)\n",
    "        jounrnal_lst.append(article.journal)\n",
    "        authors_lst.append(article.authors[0].split()[0] + \" et al.\")\n",
    "    except:\n",
    "        jounrnal_lst.append(\"\")\n",
    "        authors_lst.append(\"\")\n",
    "df_grouped['Journal'] = jounrnal_lst\n",
    "df_grouped['Authors'] = authors_lst"
   ]
  },
  {
   "cell_type": "code",
   "execution_count": null,
   "id": "9384d88e",
   "metadata": {},
   "outputs": [],
   "source": [
    "# add https address to DOI (for easy access)\n",
    "df_grouped.loc[(df_grouped['DOI'] != ''), 'DOI'] = 'https://doi.org/' + df_grouped.loc[(df_grouped['DOI'] != ''), 'DOI']"
   ]
  },
  {
   "cell_type": "markdown",
   "id": "07a4b4c8",
   "metadata": {},
   "source": [
    "## Note the Date Added, Set Output Path, and Save the Final Output File"
   ]
  },
  {
   "cell_type": "code",
   "execution_count": null,
   "id": "beed3d3d",
   "metadata": {},
   "outputs": [],
   "source": [
    "# make an output directory\n",
    "######## new for cell type\n",
    "outdir = ''\n",
    "# outdir = 'results/hichip_db/'\n",
    "# os.makedirs(outdir, exist_ok=True)"
   ]
  },
  {
   "cell_type": "code",
   "execution_count": null,
   "id": "be627b76",
   "metadata": {},
   "outputs": [],
   "source": [
    "# determining the current year, month and day\n",
    "today = date.today()\n",
    "date_str = today.strftime(\"%Y_%m_%d\")\n",
    "\n",
    "# determining current hour and minute\n",
    "now = datetime.now()\n",
    "time_str = now.strftime(\"%H_%M\")\n",
    "\n",
    "# setting the output filename\n",
    "output = os.path.join(outdir, \"GEO_Query.{}_{}\".format(date_str, time_str))"
   ]
  },
  {
   "cell_type": "code",
   "execution_count": null,
   "id": "b1e2e626",
   "metadata": {},
   "outputs": [],
   "source": [
    "# add a column that notes the added date\n",
    "df_grouped['Date Added'] = date_str.replace('_', '-')\n",
    "reorder = ['Paper Title', 'Journal', 'Authors', 'Year', 'DOI', 'GEO / Data link', 'Any other information',\n",
    "           'Organism', 'Tissue/Cell Line', 'Potential HiChIP', 'Other matched data', 'Presenter', 'Date Added']\n",
    "df_grouped = df_grouped.loc[:, reorder]"
   ]
  },
  {
   "cell_type": "code",
   "execution_count": null,
   "id": "4d90d666",
   "metadata": {},
   "outputs": [],
   "source": [
    "df_grouped.to_excel(output+\".xlsx\", index=False)"
   ]
  },
  {
   "cell_type": "markdown",
   "id": "ea78b735",
   "metadata": {},
   "source": [
    "## Save the GSM IDs line by line"
   ]
  },
  {
   "cell_type": "code",
   "execution_count": null,
   "id": "3de96405",
   "metadata": {},
   "outputs": [],
   "source": [
    "GSM_IDs = list(set(GSM_IDs))\n",
    "with open(r'gsm_list.txt', 'w') as fp:\n",
    "    for gsm in GSM_IDs:\n",
    "        # write each item on a new line\n",
    "        fp.write(\"%s\\n\" % gsm)"
   ]
  },
  {
   "cell_type": "markdown",
   "id": "b8bbc7d4",
   "metadata": {},
   "source": [
    "## Query GEO BioSample using the GSM IDs"
   ]
  },
  {
   "cell_type": "code",
   "execution_count": 2,
   "id": "49d34276",
   "metadata": {},
   "outputs": [],
   "source": [
    "GSM_IDs_from_file = []\n",
    "\n",
    "# open file and read the content in a list\n",
    "with open(r'gsm_list.txt', 'r') as fp:\n",
    "    for line in fp:\n",
    "        GSM_IDs_from_file.append(line)\n",
    "\n",
    "# quarter = round(len(GSM_IDs_from_file)/4)\n",
    "# GSM_filters = ' [All Fields] OR '.join(GSM_IDs_from_file[0:quarter])\n",
    "GSM_filters = ' [All Fields] OR '.join(GSM_IDs_from_file[0:2000])\n",
    "\n",
    "\n",
    "Entrez.email = \"zjiang@lji.org\"\n",
    "search_result = Entrez.esearch(db=\"biosample\", retmax=10000, term=GSM_filters)\n",
    "result = Entrez.read(search_result)"
   ]
  },
  {
   "cell_type": "code",
   "execution_count": 3,
   "id": "425979d1",
   "metadata": {},
   "outputs": [
    {
     "data": {
      "text/plain": [
       "8753"
      ]
     },
     "execution_count": 3,
     "metadata": {},
     "output_type": "execute_result"
    }
   ],
   "source": [
    "len(set(GSM_IDs_from_file))"
   ]
  },
  {
   "cell_type": "markdown",
   "id": "b8403720",
   "metadata": {},
   "source": [
    "### Filter query result by looping through XML"
   ]
  },
  {
   "cell_type": "code",
   "execution_count": 4,
   "id": "ff1ee719",
   "metadata": {},
   "outputs": [],
   "source": [
    "# name\n",
    "# organism\n",
    "# biomaterial\n",
    "# disease\n",
    "# organ\n",
    "# celltype\n",
    "# sex\n",
    "# age\n",
    "# extdb_name\n",
    "# extdb_uuid\n",
    "\n",
    "    \n",
    "    \n",
    "# \tGSM4027555 and more\n",
    "#     <Attribute attribute_name=\"type\">Tumor</Attribute> # no\n",
    "# \t\t<Attribute attribute_name=\"relapse\">No</Attribute> # no\n",
    "# \t\t<Attribute attribute_name=\"gender\" harmonized_name=\"sex\" display_name=\"sex\">male</Attribute> # added\n",
    "# \t\t<Attribute attribute_name=\"age_days\">2338</Attribute> or timepoint # added\n",
    "# \t\t<Attribute attribute_name=\"Stage\">4</Attribute> # no\n",
    "\n",
    "# GSM6528200 and more\n",
    "# <Attribute attribute_name=\"disease state\" harmonized_name=\"disease\" display_name=\"disease\">HCC</Attribute> # added\n",
    "# <Attribute attribute_name=\"tissue\" harmonized_name=\"tissue\" display_name=\"tissue\">tumour</Attribute> # thinking\n",
    "\n",
    "# GSM3930313 and more\n",
    "# {'attribute_name': 'biological sample'}-->FHC should replace celltype # thinking"
   ]
  },
  {
   "cell_type": "markdown",
   "id": "c7f1dce9",
   "metadata": {},
   "source": [
    "#### Dict of organs and their synynoms for classification"
   ]
  },
  {
   "cell_type": "code",
   "execution_count": 5,
   "id": "66cfe899",
   "metadata": {},
   "outputs": [],
   "source": [
    "json = OrderedDict()\n",
    "# order the classifcations from general to specific, so that as the code goes\n",
    "# down the ordered dict, general classifcations are replaced with specific ones\n",
    "json = {\n",
    "    # QUESTION: what do I do with ARMS, which has RH3, 30, 4, 41 metasized to different organs\n",
    "     # https://www.ncbi.nlm.nih.gov/pmc/articles/PMC3713458/?\n",
    "    \"organ\": {\n",
    "    # ewing sarcoma are cells in the bones or connective tissue # plb might cause problem\n",
    "    \"skeletal system\": [\"bone\", \"marrow\", \"ewing sarcoma\", \"t-all\", \"myeloma\", \"plb\", \"tc71\", \"\\\">rh30\", \"pre-b\"],\n",
    "    \"blood\": [\"vessel\", \"leukemia\", \"blood\", \"ramos b\", \"haematopoietic\", \"b-all\", \"\\\">sem\", \"jurkat\", \"cutll1\", \"pleural\", \"effusion\"], # GSM6206927 bone or blood?\n",
    "    \"skin\": [\"skin\", \"epi\", \"squamous\", \"breast\", \"melanoma\", \"erythematosus\", \"sle\", \"keratinocyte\", \"melanocyte\", \"nasopharyngeal\"], # sle might cause problem\n",
    "    \"mammary gland\": [\"mammar\", \"breast\", \"mda-mb-231\"],\n",
    "    \"thyroid\": [\"thyroid gland\", \"thyroid\"],\n",
    "    \"thymus\": [\"thymus\", \"thymic\", \"treg\", \"t-reg\"], # GSM5680696 thyroid or epithelium\n",
    "    \"lymph node\": [\"lymph node\", \"lymphoma\", \"\\\">rh3\\\"\"], # RH3 is derived from metastatic site, lymph node\n",
    "    \"tonsil\": [\"tonsil\"],\n",
    "    \"liver\": [\"liver\", \"hcc\"],\n",
    "    \"heart\": [\"heart\", \"cardi\", \"ventricle\", \"atrium\"],\n",
    "    \"embryo\": [\"embryo\"],\n",
    "    \"connective tissue\": [\"soft tissue\"],\n",
    "    \"musculature of body\": [\"muscula\", \"rhabdomyosarcoma\", \"\\\">sms\", \"a673\"],\n",
    "    \"lung\": [\"lung\", \"\\\">rh4\"],\n",
    "    \"esophagus\": [\"esophagus\", \"esophageal\"], # GSM5680726 esophagus or epithelium\n",
    "    \"intestine\": [\"indestin\", \"fhc\"],\n",
    "    \"kidney\": [\"kidney\", \"podocyte\"],\n",
    "    \"colon\": [\"colon\", \"colorectal\"],\n",
    "    \"spleen\": [\"spleen\"],\n",
    "    \"stomach\": [\"stomach\"],\n",
    "    \"placenta\": [\"placenta\"],\n",
    "    \"pancreas\": [\"pancrea\"],\n",
    "    \"bladder\": [\"bladder\"],\n",
    "    \"uturus\": [\"umbilical\", \"uterus\", \"endometrial\", \"cervic\", \"hela\"],\n",
    "    \"penis\": [\"penis\"],\n",
    "    \"testis\": [\"test\"],\n",
    "    \"ovary\": [\"ovar\"],\n",
    "    \"nerve\": [\"neuroblastoma\", \"nerve\", \"gist\", \"spinal cord tissue\"],\n",
    "    \"brain\": [\"brain\", \"caudate\", \"chla-10\"],\n",
    "    \"prostate\": [\"prostate\"],\n",
    "    # dupliate the classifications except the synonyms are now cell line names or cell type names?\n",
    "},\n",
    "\"biomaterial\": {\n",
    "    \"cell line\": [\"cellline\", \"cell line\"],\n",
    "    \"primary\": [\"primary\", \"primi\"],\n",
    "}\n",
    "}"
   ]
  },
  {
   "cell_type": "code",
   "execution_count": 6,
   "id": "1bbda8c2",
   "metadata": {},
   "outputs": [
    {
     "name": "stdout",
     "output_type": "stream",
     "text": [
      "finished GSM number 100\n",
      "finished GSM number 200\n",
      "finished GSM number 300\n",
      "finished GSM number 400\n",
      "finished GSM number 500\n",
      "finished GSM number 600\n",
      "finished GSM number 700\n",
      "finished GSM number 800\n",
      "finished GSM number 900\n",
      "finished GSM number 1000\n",
      "finished GSM number 1100\n",
      "finished GSM number 1200\n",
      "finished GSM number 1300\n",
      "finished GSM number 1400\n",
      "finished GSM number 1500\n",
      "finished GSM number 1600\n",
      "finished GSM number 1700\n",
      "finished GSM number 1800\n",
      "finished GSM number 1900\n"
     ]
    }
   ],
   "source": [
    "# 50 s per 100 GSMs\n",
    "# Initialize an empty dataframe with the desired column names\n",
    "cell_type_df = pd.DataFrame(columns=['name',\n",
    "                                     'organism',\n",
    "                                     'biomaterial',\n",
    "                                     'disease',\n",
    "                                     'organ',\n",
    "                                     'tissue',\n",
    "                                     'celltype',\n",
    "                                     'strain',\n",
    "                                     'sex',\n",
    "                                     'age',\n",
    "                                     'extdb_name',\n",
    "                                     'extdb_uuid',\n",
    "                                     'other'])\n",
    "\n",
    "num_of_gsm_done = 0\n",
    "\n",
    "# Iterate through the list of GSM IDs\n",
    "for Id in result[\"IdList\"]:\n",
    "    # Get and read the SampleData XML of each GSM on BioSapmle\n",
    "    handle = Entrez.esummary(db=\"biosample\", id=Id, retmode=\"xml\")\n",
    "    entry = Entrez.read(handle)\n",
    "    data = entry[\"DocumentSummarySet\"][\"DocumentSummary\"][0][\"SampleData\"]\n",
    "\n",
    "    gsm_data = {\n",
    "        \"name\":\"\",\n",
    "        \"organism\":\"\",\n",
    "        \"biomaterial\":\"\",\n",
    "        \"disease\": \"\",\n",
    "        \"organ\":\"\",\n",
    "        \"tissue\":\"\",\n",
    "        \"celltype\":\"\",\n",
    "        \"strain\":\"\",\n",
    "        \"sex\":\"\",\n",
    "        \"age\":\"\",\n",
    "        \"extdb_name\":\"\",\n",
    "        \"extdb_uuid\":\"\",\n",
    "        \"other\":\"\"\n",
    "        }\n",
    "    celltype_infos = []\n",
    "    \n",
    "    # Classify organ and biomaterial by checking synonyms in the SampleData XML text\n",
    "    # check GSM4956217 and GSM4447223\n",
    "    for dic in json:\n",
    "        for classification in json[dic]:\n",
    "            synonyms = json[dic][classification]\n",
    "            found = any(syn in str(data).lower() for syn in synonyms)\n",
    "            # edge cases\n",
    "            if \"\\\">RD\" in str(data):\n",
    "                gsm_data[\"organ\"] = \"musculature of body\"\n",
    "            if \"RH3\" in str(data):\n",
    "                gsm_data[\"organ\"] = \"exocrine gland\"\n",
    "            if classification == \"liver\": # sometimes hcc is actually breast, like hcc1599 and hcc19** cell lines\n",
    "                if \"breast\" in str(data).lower():\n",
    "                    gsm_data[\"organ\"] = \"breast\"\n",
    "            if found:\n",
    "                gsm_data[dic] = \"|\" + classification\n",
    "        gsm_data[dic] = gsm_data[dic].lstrip(\"|\")\n",
    "    \n",
    "    \n",
    "\n",
    "    myroot = ET.fromstring(data)\n",
    "    for elem in myroot:\n",
    "        for subelem in elem:\n",
    "            if ('db\\': \\'GEO' in str(subelem.attrib)):\n",
    "                gsm_data[\"name\"] = subelem.text\n",
    "            if \"taxonomy_name\" in str(subelem.attrib):\n",
    "                gsm_data[\"organism\"] = subelem.attrib[\"taxonomy_name\"]\n",
    "            try:\n",
    "                if (\"oma\" in str(myroot.find(\"./Attributes/Attribute[@attribute_name='tissue']\").text).lower() or \\\n",
    "                    \"tumor\" in str(myroot.find(\"./Attributes/Attribute[@attribute_name='tissue']\").text).lower()):\n",
    "                    gsm_data[\"disease\"] = myroot.find(\"./Attributes/Attribute[@attribute_name='tissue']\").text\n",
    "            except:\n",
    "                gsm_data[\"disease\"] = gsm_data[\"disease\"] + \"\"\n",
    "            if ('disease' in str(subelem.attrib) or 'cancer type' in str(subelem.attrib)):\n",
    "                gsm_data[\"disease\"] = subelem.text # many organ info are from here\n",
    "            if (\"RH4\" in str(myroot.find(\"./Attributes/Attribute[@attribute_name='source_name']\").text) or \\\n",
    "                \"RH3\" in str(myroot.find(\"./Attributes/Attribute[@attribute_name='source_name']\").text)\n",
    "               ):\n",
    "                gsm_data[\"disease\"] = \"Alveolar rhabdomyosarcoma\"\n",
    "            if (\"\\\">SMS\" in str(data)):\n",
    "                gsm_data[\"disease\"] = \"Embryonal rhabdomyosarcoma\"\n",
    "            if (\"\\\">SEM\" in str(data)):\n",
    "                gsm_data[\"disease\"] =  \"Acute lymphoblastic leukaemia\"\n",
    "            if (\"adenocarcinoma\" in str(myroot.find(\"./Attributes/Attribute[@attribute_name='source_name']\").text).lower() or \\\n",
    "                \"tumor\" in str(myroot.find(\"./Attributes/Attribute[@attribute_name='source_name']\").text).lower() or \\\n",
    "                \"tumour\" in str(myroot.find(\"./Attributes/Attribute[@attribute_name='source_name']\").text).lower() or \\\n",
    "                \"normal\" in str(myroot.find(\"./Attributes/Attribute[@attribute_name='source_name']\").text).lower() or \\\n",
    "                \"oma\" in str(myroot.find(\"./Attributes/Attribute[@attribute_name='source_name']\").text).lower() or \\\n",
    "                \"cancer\" in str(myroot.find(\"./Attributes/Attribute[@attribute_name='source_name']\").text).lower()\n",
    "               ):\n",
    "                if gsm_data[\"disease\"] == \"\":\n",
    "                    gsm_data[\"disease\"] = myroot.find(\"./Attributes/Attribute[@attribute_name='source_name']\").text\n",
    "            if ('organ' in str(subelem.attrib)): # no organ attributes at all\n",
    "                gsm_data[\"organ\"] = subelem.text\n",
    "            if ('tissue' in str(subelem.attrib) or \\\n",
    "                'brain region' in str(subelem.attrib)\n",
    "               ):\n",
    "                gsm_data[\"tissue\"] = subelem.text  # most organ info are from here # can have disease info\n",
    "            if ('cell_line' in str(subelem.attrib) or \\\n",
    "                'biological sample' in str(subelem.attrib) or \\\n",
    "                'neuronal subtype' in str(subelem.attrib) or \\\n",
    "                '\\'cell' in str(subelem.attrib)\n",
    "               ):\n",
    "                celltype_infos.append(str(subelem.attrib['attribute_name']) + \"-->\" + subelem.text)\n",
    "            if ('parental cell line' in str(subelem.attrib)):\n",
    "                celltype_infos.append(str(subelem.attrib['attribute_name']) + \"-->\" + subelem.text)\n",
    "                gsm_data[\"biomaterial\"] = \"cell line\"\n",
    "            if (\"mll-\" in str(myroot.find(\"./Attributes/Attribute[@attribute_name='source_name']\").text).lower() or \\\n",
    "                \"bl6\" in str(myroot.find(\"./Attributes/Attribute[@attribute_name='source_name']\").text).lower() or \\\n",
    "                \"hct\" in str(myroot.find(\"./Attributes/Attribute[@attribute_name='source_name']\").text).lower() or \\\n",
    "                \"vcap\" in str(myroot.find(\"./Attributes/Attribute[@attribute_name='source_name']\").text).lower() or \\\n",
    "                \"h9\" in str(myroot.find(\"./Attributes/Attribute[@attribute_name='source_name']\").text).lower() or \\\n",
    "                \"cell line (\" in str(myroot.find(\"./Attributes/Attribute[@attribute_name='source_name']\").text).lower() or \\\n",
    "                (\"rim\" not in str(myroot.find(\"./Attributes/Attribute[@attribute_name='source_name']\").text).lower() and \\\n",
    "                 \"cyte\" in str(myroot.find(\"./Attributes/Attribute[@attribute_name='source_name']\").text).lower())\n",
    "               ):\n",
    "                celltype_infos.append(\"{source_name}\" + \"-->\" + str(myroot.find(\"./Attributes/Attribute[@attribute_name='source_name']\").text))\n",
    "                gsm_data[\"biomaterial\"] = \"cell line\"\n",
    "            if ('cell_line' in str(subelem.attrib)):\n",
    "                if (subelem.text != \"--\"):\n",
    "                    gsm_data[\"biomaterial\"] = \"cell line\"\n",
    "            if ('strain' in str(subelem.attrib) or 'mouse model' in str(subelem.attrib)):\n",
    "                gsm_data[\"strain\"] = subelem.text\n",
    "            if ('p14' in str(myroot.find(\"./Attributes/Attribute[@attribute_name='source_name']\").text).lower()):\n",
    "                gsm_data[\"strain\"] = str(myroot.find(\"./Attributes/Attribute[@attribute_name='source_name']\").text)\n",
    "            if ('gender' in str(subelem.attrib) or \\\n",
    "                '\\'sex\\'' in str(subelem.attrib)):\n",
    "                gsm_data[\"sex\"] = subelem.text\n",
    "            if (\"day\" in str(myroot.find(\"./Attributes/Attribute[@attribute_name='source_name']\").text).lower()):\n",
    "                gsm_data[\"age\"] = str(myroot.find(\"./Attributes/Attribute[@attribute_name='source_name']\").text)\n",
    "            if ('\\'age\\'' in str(subelem.attrib) or \\\n",
    "                'age_day' in str(subelem.attrib)\n",
    "               ):\n",
    "                gsm_data[\"age\"] = subelem.text\n",
    "            if ('\\'time' in str(subelem.attrib) or \\\n",
    "                '\\'differentiation' in str(subelem.attrib) or \\\n",
    "                'differentiation\\'' in str(subelem.attrib) or \\\n",
    "                'developmental stage' in str(subelem.attrib) or \\\n",
    "                ('erythropoiesis' in str(subelem.attrib) and 'no' not in str(subelem.attrib))\n",
    "               ):\n",
    "                if gsm_data[\"age\"] == \"\":\n",
    "                    gsm_data[\"age\"] = subelem.text\n",
    "            \n",
    "    gsm_data[\"celltype\"] = '|'.join(celltype_infos) \n",
    "    gsm_data[\"other\"] = \"{source_name}\" + \"-->\" + str(myroot.find(\"./Attributes/Attribute[@attribute_name='source_name']\").text)\n",
    "    \n",
    "    cell_type_df = cell_type_df.append(gsm_data, ignore_index=True)\n",
    "    \n",
    "    # indicate how many GSM are processed and save the table as the loop runs\n",
    "    num_of_gsm_done += 1\n",
    "    if (num_of_gsm_done % 100 == 0):\n",
    "            print(\"finished GSM number\", num_of_gsm_done)"
   ]
  },
  {
   "cell_type": "markdown",
   "id": "c298725d",
   "metadata": {},
   "source": [
    "### Save"
   ]
  },
  {
   "cell_type": "code",
   "execution_count": 7,
   "id": "d24f12b0",
   "metadata": {},
   "outputs": [
    {
     "name": "stdout",
     "output_type": "stream",
     "text": [
      "output file:  GEO_Query_cell_type.2022_12_21_17_28\n"
     ]
    }
   ],
   "source": [
    "# setting the output filename\n",
    "today = date.today()\n",
    "date_str = today.strftime(\"%Y_%m_%d\")\n",
    "now = datetime.now()\n",
    "time_str = now.strftime(\"%H_%M\")\n",
    "output = \"GEO_Query_cell_type.{}_{}\".format(date_str, time_str)\n",
    "print(\"output file: \", output)\n",
    "cell_type_df.to_excel(output + \".xlsx\", index=False)"
   ]
  },
  {
   "cell_type": "markdown",
   "id": "c5a70117",
   "metadata": {},
   "source": [
    "Sample ID: This is the unique identifier for each sample in the database. You can search for samples by their ID using this field.\n",
    "\n",
    "Organism: This field allows you to search for samples from a specific organism, such as human, mouse, or yeast.\n",
    "\n",
    "Tissue: This field allows you to search for samples based on their tissue type, such as liver, brain, or heart.\n",
    "\n",
    "Disease state: This field allows you to search for samples based on their disease state, such as cancer, diabetes, or autoimmune disease.\n",
    "\n",
    "Cell type: This field allows you to search for samples based on their cell type, such as fibroblasts, macrophages, or stem cells.\n",
    "\n",
    "Developmental stage: This field allows you to search for samples based on their developmental stage, such as embryonic, fetal, or adult.\n",
    "\n",
    "Experimental design: This field allows you to search for samples based on the type of experiment they were used in, such as microarray, RNA-seq, or ChIP-seq."
   ]
  },
  {
   "cell_type": "markdown",
   "id": "6e92cd14",
   "metadata": {},
   "source": [
    "### Validate a GSM"
   ]
  },
  {
   "cell_type": "code",
   "execution_count": null,
   "id": "c473797b",
   "metadata": {},
   "outputs": [],
   "source": [
    "Entrez.email = \"your_email@example.com\"  # Provide your email address\n",
    "\n",
    "# Retrieve all the BioSample records\n",
    "handle = Entrez.esearch(db=\"biosample\", term=\"GSM4053404\")\n",
    "records = Entrez.read(handle)\n",
    "\n",
    "# Iterate through all the records and print the fields and values\n",
    "for record in records[\"IdList\"]:\n",
    "    handle = Entrez.esummary(db=\"biosample\", id=record)\n",
    "    record = Entrez.read(handle)\n",
    "    data = record[\"DocumentSummarySet\"][\"DocumentSummary\"][0][\"SampleData\"]\n",
    "    print(str(data), \"\\n\") # https://codebeautify.org/xmlviewer#\n",
    "    myroot = ET.fromstring(data)\n",
    "    for elem in myroot:\n",
    "        for subelem in elem:\n",
    "            if \"taxonomy_name\" in str(subelem.attrib):\n",
    "                print(subelem.attrib, \"-->\", subelem.attrib[\"taxonomy_name\"])\n",
    "            else:\n",
    "                print(subelem.attrib, \"-->\", subelem.text)"
   ]
  },
  {
   "cell_type": "code",
   "execution_count": null,
   "id": "f8a3d76c",
   "metadata": {},
   "outputs": [],
   "source": []
  },
  {
   "cell_type": "code",
   "execution_count": null,
   "id": "1f268b24",
   "metadata": {},
   "outputs": [],
   "source": []
  }
 ],
 "metadata": {
  "kernelspec": {
   "display_name": "Python 3 (ipykernel)",
   "language": "python",
   "name": "python3"
  },
  "language_info": {
   "codemirror_mode": {
    "name": "ipython",
    "version": 3
   },
   "file_extension": ".py",
   "mimetype": "text/x-python",
   "name": "python",
   "nbconvert_exporter": "python",
   "pygments_lexer": "ipython3",
   "version": "3.9.12"
  }
 },
 "nbformat": 4,
 "nbformat_minor": 5
}
